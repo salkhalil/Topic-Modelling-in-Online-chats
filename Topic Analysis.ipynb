{
 "cells": [
  {
   "cell_type": "code",
   "execution_count": 22,
   "metadata": {},
   "outputs": [],
   "source": [
    "import pandas as pd\n",
    "import numpy as np\n",
    "import matplotlib.pyplot as plt\n",
    "import bertopic"
   ]
  },
  {
   "cell_type": "code",
   "execution_count": 3,
   "metadata": {},
   "outputs": [],
   "source": [
    "def read_N_merge(path1, path2):\n",
    "    columns = ['authorName', 'createdAt', 'message']\n",
    "    df1 = pd.read_csv(path1)[columns]\n",
    "    df1['createdAt'] = pd.to_datetime(df1['createdAt'])\n",
    "    \n",
    "    df2 = pd.read_csv(path2)[columns]\n",
    "    df2['createdAt'] = pd.to_datetime(df2['createdAt'])\n",
    "    \n",
    "    df = pd.concat([df1, df2])\n",
    "    df = df.sort_values(by=['createdAt'])\n",
    "    df = df.reset_index()\n",
    "    df = df.drop(columns = ['index'])\n",
    "    \n",
    "    return df"
   ]
  },
  {
   "cell_type": "code",
   "execution_count": 4,
   "metadata": {},
   "outputs": [],
   "source": [
    "companies = ['aapl', 'abb', 'amzn', 'aon', 'bmy', 'cern', 'csco', 'ebay', 'hsbc', 'jpm', 'mmm', 'nflx', 'pypl']"
   ]
  },
  {
   "cell_type": "code",
   "execution_count": 5,
   "metadata": {},
   "outputs": [],
   "source": [
    "def merge_chats(dfs):\n",
    "    for (name, df) in dfs: \n",
    "        df['Comp'] = name\n",
    "    new_df = pd.concat([dfs[i][1] for i in range(len(dfs))])\n",
    "    \n",
    "    new_df = new_df.reset_index()\n",
    "    new_df = new_df.drop(columns = ['index'])\n",
    "    return new_df\n",
    " "
   ]
  },
  {
   "cell_type": "code",
   "execution_count": 6,
   "metadata": {},
   "outputs": [],
   "source": [
    "my_dfs = []\n",
    "for comp in companies:\n",
    "    df_merged = read_N_merge('Yahoo/'+comp+'_msg.csv', 'Yahoo/'+comp+'_reply.csv')\n",
    "    my_dfs.append((comp, df_merged))\n",
    "\n",
    "full_corpus = merge_chats(my_dfs)"
   ]
  },
  {
   "cell_type": "code",
   "execution_count": 7,
   "metadata": {},
   "outputs": [
    {
     "data": {
      "text/html": [
       "<div>\n",
       "<style scoped>\n",
       "    .dataframe tbody tr th:only-of-type {\n",
       "        vertical-align: middle;\n",
       "    }\n",
       "\n",
       "    .dataframe tbody tr th {\n",
       "        vertical-align: top;\n",
       "    }\n",
       "\n",
       "    .dataframe thead th {\n",
       "        text-align: right;\n",
       "    }\n",
       "</style>\n",
       "<table border=\"1\" class=\"dataframe\">\n",
       "  <thead>\n",
       "    <tr style=\"text-align: right;\">\n",
       "      <th></th>\n",
       "      <th>authorName</th>\n",
       "      <th>createdAt</th>\n",
       "      <th>message</th>\n",
       "      <th>Comp</th>\n",
       "    </tr>\n",
       "  </thead>\n",
       "  <tbody>\n",
       "    <tr>\n",
       "      <th>0</th>\n",
       "      <td>Charlie</td>\n",
       "      <td>2017-04-21 14:56:59</td>\n",
       "      <td>FoxNews expected to pay around $85 mil to sett...</td>\n",
       "      <td>aapl</td>\n",
       "    </tr>\n",
       "    <tr>\n",
       "      <th>1</th>\n",
       "      <td>Drmicrocap</td>\n",
       "      <td>2017-08-02 09:01:54</td>\n",
       "      <td>https://drmicrocap.blogspot.com/2017/08/apple-...</td>\n",
       "      <td>aapl</td>\n",
       "    </tr>\n",
       "    <tr>\n",
       "      <th>2</th>\n",
       "      <td>Cfa</td>\n",
       "      <td>2017-11-01 06:10:40</td>\n",
       "      <td>$AAPL $AMZN $GOOG $BABA $MSFT $FB $NFLX $NVDA ...</td>\n",
       "      <td>aapl</td>\n",
       "    </tr>\n",
       "    <tr>\n",
       "      <th>3</th>\n",
       "      <td>None</td>\n",
       "      <td>2017-12-05 09:48:31</td>\n",
       "      <td>Selling after a few years (since 2010 at 45). ...</td>\n",
       "      <td>aapl</td>\n",
       "    </tr>\n",
       "    <tr>\n",
       "      <th>4</th>\n",
       "      <td>Fuel</td>\n",
       "      <td>2018-04-20 22:27:58</td>\n",
       "      <td>Guys, I just nutted again. My stamina is way u...</td>\n",
       "      <td>aapl</td>\n",
       "    </tr>\n",
       "    <tr>\n",
       "      <th>...</th>\n",
       "      <td>...</td>\n",
       "      <td>...</td>\n",
       "      <td>...</td>\n",
       "      <td>...</td>\n",
       "    </tr>\n",
       "    <tr>\n",
       "      <th>169820</th>\n",
       "      <td>Tom~T</td>\n",
       "      <td>2020-12-20 22:30:06</td>\n",
       "      <td>Friday's News. Inconclusive if this Mutation /...</td>\n",
       "      <td>pypl</td>\n",
       "    </tr>\n",
       "    <tr>\n",
       "      <th>169821</th>\n",
       "      <td>Tom~T</td>\n",
       "      <td>2020-12-20 22:33:52</td>\n",
       "      <td>Great IF It Happens!\\nI've given up on 2020 an...</td>\n",
       "      <td>pypl</td>\n",
       "    </tr>\n",
       "    <tr>\n",
       "      <th>169822</th>\n",
       "      <td>Tom~T</td>\n",
       "      <td>2020-12-20 22:40:10</td>\n",
       "      <td>Nah!\\nUnknown! 🤪   Danger! 🤖 Danger!</td>\n",
       "      <td>pypl</td>\n",
       "    </tr>\n",
       "    <tr>\n",
       "      <th>169823</th>\n",
       "      <td>Claudio</td>\n",
       "      <td>2020-12-21 00:06:01</td>\n",
       "      <td>Bitcoin up again pushing new highs</td>\n",
       "      <td>pypl</td>\n",
       "    </tr>\n",
       "    <tr>\n",
       "      <th>169824</th>\n",
       "      <td>Robert</td>\n",
       "      <td>2020-12-21 01:26:42</td>\n",
       "      <td>every dip will be met with hedge fund and inst...</td>\n",
       "      <td>pypl</td>\n",
       "    </tr>\n",
       "  </tbody>\n",
       "</table>\n",
       "<p>169825 rows × 4 columns</p>\n",
       "</div>"
      ],
      "text/plain": [
       "        authorName           createdAt  \\\n",
       "0          Charlie 2017-04-21 14:56:59   \n",
       "1       Drmicrocap 2017-08-02 09:01:54   \n",
       "2              Cfa 2017-11-01 06:10:40   \n",
       "3             None 2017-12-05 09:48:31   \n",
       "4             Fuel 2018-04-20 22:27:58   \n",
       "...            ...                 ...   \n",
       "169820       Tom~T 2020-12-20 22:30:06   \n",
       "169821       Tom~T 2020-12-20 22:33:52   \n",
       "169822       Tom~T 2020-12-20 22:40:10   \n",
       "169823     Claudio 2020-12-21 00:06:01   \n",
       "169824      Robert 2020-12-21 01:26:42   \n",
       "\n",
       "                                                  message  Comp  \n",
       "0       FoxNews expected to pay around $85 mil to sett...  aapl  \n",
       "1       https://drmicrocap.blogspot.com/2017/08/apple-...  aapl  \n",
       "2       $AAPL $AMZN $GOOG $BABA $MSFT $FB $NFLX $NVDA ...  aapl  \n",
       "3       Selling after a few years (since 2010 at 45). ...  aapl  \n",
       "4       Guys, I just nutted again. My stamina is way u...  aapl  \n",
       "...                                                   ...   ...  \n",
       "169820  Friday's News. Inconclusive if this Mutation /...  pypl  \n",
       "169821  Great IF It Happens!\\nI've given up on 2020 an...  pypl  \n",
       "169822               Nah!\\nUnknown! 🤪   Danger! 🤖 Danger!  pypl  \n",
       "169823                 Bitcoin up again pushing new highs  pypl  \n",
       "169824  every dip will be met with hedge fund and inst...  pypl  \n",
       "\n",
       "[169825 rows x 4 columns]"
      ]
     },
     "execution_count": 7,
     "metadata": {},
     "output_type": "execute_result"
    }
   ],
   "source": [
    "full_corpus"
   ]
  },
  {
   "cell_type": "markdown",
   "metadata": {},
   "source": [
    "##### Data Cleaning"
   ]
  },
  {
   "cell_type": "code",
   "execution_count": 2,
   "metadata": {},
   "outputs": [],
   "source": [
    "import string"
   ]
  },
  {
   "cell_type": "code",
   "execution_count": 3,
   "metadata": {},
   "outputs": [
    {
     "data": {
      "text/plain": [
       "'!\"#$%&\\'()*+,-./:;<=>?@[\\\\]^_`{|}~'"
      ]
     },
     "execution_count": 3,
     "metadata": {},
     "output_type": "execute_result"
    }
   ],
   "source": [
    "string.punctuation"
   ]
  },
  {
   "cell_type": "code",
   "execution_count": 8,
   "metadata": {},
   "outputs": [],
   "source": [
    "import re\n",
    "import string\n",
    "from nltk.stem.wordnet import WordNetLemmatizer\n",
    "from nltk.tokenize import sent_tokenize, word_tokenize\n",
    "\n",
    "wnl = WordNetLemmatizer()"
   ]
  },
  {
   "cell_type": "code",
   "execution_count": 9,
   "metadata": {},
   "outputs": [],
   "source": [
    "def find_url(text):\n",
    "    regex = r\"(https?:\\/\\/(?:www\\.|(?!www))[a-zA-Z0-9][a-zA-Z0-9-]+[a-zA-Z0-9]\\.[^\\s]{2,}|www\\.[a-zA-Z0-9][a-zA-Z0-9-]+[a-zA-Z0-9]\\.[^\\s]{2,}|https?:\\/\\/(?:www\\.|(?!www))[a-zA-Z0-9]+\\.[^\\s]{2,}|www\\.[a-zA-Z0-9]+\\.[^\\s]{2,})\"\n",
    "    url = re.findall(regex,text)\n",
    "    if url != []:\n",
    "        return [x for x in url]\n",
    "    else:\n",
    "        return []"
   ]
  },
  {
   "cell_type": "code",
   "execution_count": 10,
   "metadata": {},
   "outputs": [],
   "source": [
    "def add_url(df):\n",
    "    for i in range(df.shape[0]):\n",
    "        urls = []\n",
    "        text = df['message'].iloc[i]\n",
    "        text = re.sub('\\n', '', text)\n",
    "        if text == 'n':\n",
    "            continue\n",
    "        urls = find_url(text)\n",
    "        if urls != []:\n",
    "            df['URLs'][i] = ' '.join(urls)"
   ]
  },
  {
   "cell_type": "code",
   "execution_count": 11,
   "metadata": {},
   "outputs": [
    {
     "name": "stdout",
     "output_type": "stream",
     "text": [
      "Downloading emoji data ...\n",
      "... OK (Got response in 0.44 seconds)\n",
      "Writing emoji data to /Users/salkhalil/.demoji/codes.json ...\n",
      "... OK\n"
     ]
    }
   ],
   "source": [
    "import demoji\n",
    "demoji.download_codes()"
   ]
  },
  {
   "cell_type": "code",
   "execution_count": 2,
   "metadata": {},
   "outputs": [
    {
     "data": {
      "text/plain": [
       "True"
      ]
     },
     "execution_count": 2,
     "metadata": {},
     "output_type": "execute_result"
    }
   ],
   "source": [
    "' '.isspace()"
   ]
  },
  {
   "cell_type": "code",
   "execution_count": 12,
   "metadata": {},
   "outputs": [],
   "source": [
    "def remove_emoji(text):\n",
    "    return demoji.replace(text)"
   ]
  },
  {
   "cell_type": "code",
   "execution_count": 13,
   "metadata": {},
   "outputs": [],
   "source": [
    "def clean_data(text):\n",
    "    text = str(text)\n",
    "    text = remove_emoji(text)\n",
    "    # Stemming / Tokenisation\n",
    "    tokens = word_tokenize(text)\n",
    "    tokens = [wnl.lemmatize(t) for t in tokens]\n",
    "    text = ' '.join(tokens)\n",
    "    text = text.lower()\n",
    "    \n",
    "    url_regex = regex = r\"(https?:\\/\\/(?:www\\.|(?!www))[a-zA-Z0-9][a-zA-Z0-9-]+[a-zA-Z0-9]\\.[^\\s]{2,}|www\\.[a-zA-Z0-9][a-zA-Z0-9-]+[a-zA-Z0-9]\\.[^\\s]{2,}|https?:\\/\\/(?:www\\.|(?!www))[a-zA-Z0-9]+\\.[^\\s]{2,}|www\\.[a-zA-Z0-9]+\\.[^\\s]{2,})\"\n",
    "    unwanted_punc = string.punctuation.replace(\"$\", \"\")\n",
    "    unwanted_punc = unwanted_punc.replace(\"#\", \"\")\n",
    "    \n",
    "    text = text.replace(\"\\n\", \" \")\n",
    "    text = re.sub(url_regex, '', text)\n",
    "    text = re.sub('\\w*\\d\\w*', '', text) # removes numbers\n",
    "    text = re.sub('[%s]' % re.escape(unwanted_punc), ' ', text) # removes punctuation\n",
    "    if text = '' or text.isspace():\n",
    "        return 'n'\n",
    "    return text\n",
    "\n",
    "cleanD = lambda x: clean_data(x)"
   ]
  },
  {
   "cell_type": "code",
   "execution_count": 14,
   "metadata": {},
   "outputs": [],
   "source": [
    "def clean(df):\n",
    "    df['URLs'] = None\n",
    "    df['message'] =df['message'].fillna(\"n\")\n",
    "    add_url(df)\n",
    "    df['msg_clean'] = df.message.apply(cleanD)"
   ]
  },
  {
   "cell_type": "code",
   "execution_count": 15,
   "metadata": {
    "scrolled": true
   },
   "outputs": [
    {
     "name": "stderr",
     "output_type": "stream",
     "text": [
      "<ipython-input-10-89be22d1bd5c>:10: SettingWithCopyWarning: \n",
      "A value is trying to be set on a copy of a slice from a DataFrame\n",
      "\n",
      "See the caveats in the documentation: https://pandas.pydata.org/pandas-docs/stable/user_guide/indexing.html#returning-a-view-versus-a-copy\n",
      "  df['URLs'][i] = ' '.join(urls)\n"
     ]
    }
   ],
   "source": [
    "clean(full_corpus)"
   ]
  },
  {
   "cell_type": "code",
   "execution_count": 16,
   "metadata": {},
   "outputs": [
    {
     "data": {
      "text/html": [
       "<div>\n",
       "<style scoped>\n",
       "    .dataframe tbody tr th:only-of-type {\n",
       "        vertical-align: middle;\n",
       "    }\n",
       "\n",
       "    .dataframe tbody tr th {\n",
       "        vertical-align: top;\n",
       "    }\n",
       "\n",
       "    .dataframe thead th {\n",
       "        text-align: right;\n",
       "    }\n",
       "</style>\n",
       "<table border=\"1\" class=\"dataframe\">\n",
       "  <thead>\n",
       "    <tr style=\"text-align: right;\">\n",
       "      <th></th>\n",
       "      <th>authorName</th>\n",
       "      <th>createdAt</th>\n",
       "      <th>message</th>\n",
       "      <th>Comp</th>\n",
       "      <th>URLs</th>\n",
       "      <th>msg_clean</th>\n",
       "    </tr>\n",
       "  </thead>\n",
       "  <tbody>\n",
       "    <tr>\n",
       "      <th>0</th>\n",
       "      <td>Charlie</td>\n",
       "      <td>2017-04-21 14:56:59</td>\n",
       "      <td>FoxNews expected to pay around $85 mil to sett...</td>\n",
       "      <td>aapl</td>\n",
       "      <td>None</td>\n",
       "      <td>foxnews expected to pay around $  mil to settl...</td>\n",
       "    </tr>\n",
       "    <tr>\n",
       "      <th>1</th>\n",
       "      <td>Drmicrocap</td>\n",
       "      <td>2017-08-02 09:01:54</td>\n",
       "      <td>https://drmicrocap.blogspot.com/2017/08/apple-...</td>\n",
       "      <td>aapl</td>\n",
       "      <td>https://drmicrocap.blogspot.com/2017/08/apple-...</td>\n",
       "      <td>http     drmicrocap blogspot com   apple repor...</td>\n",
       "    </tr>\n",
       "    <tr>\n",
       "      <th>2</th>\n",
       "      <td>Cfa</td>\n",
       "      <td>2017-11-01 06:10:40</td>\n",
       "      <td>$AAPL $AMZN $GOOG $BABA $MSFT $FB $NFLX $NVDA ...</td>\n",
       "      <td>aapl</td>\n",
       "      <td>None</td>\n",
       "      <td>$ aapl $ amzn $ goog $ baba $ msft $ fb $ nflx...</td>\n",
       "    </tr>\n",
       "    <tr>\n",
       "      <th>3</th>\n",
       "      <td>None</td>\n",
       "      <td>2017-12-05 09:48:31</td>\n",
       "      <td>Selling after a few years (since 2010 at 45). ...</td>\n",
       "      <td>aapl</td>\n",
       "      <td>None</td>\n",
       "      <td>selling after a few year   since  at      it j...</td>\n",
       "    </tr>\n",
       "    <tr>\n",
       "      <th>4</th>\n",
       "      <td>Fuel</td>\n",
       "      <td>2018-04-20 22:27:58</td>\n",
       "      <td>Guys, I just nutted again. My stamina is way u...</td>\n",
       "      <td>aapl</td>\n",
       "      <td>None</td>\n",
       "      <td>guys   i just nutted again   my stamen is way ...</td>\n",
       "    </tr>\n",
       "    <tr>\n",
       "      <th>...</th>\n",
       "      <td>...</td>\n",
       "      <td>...</td>\n",
       "      <td>...</td>\n",
       "      <td>...</td>\n",
       "      <td>...</td>\n",
       "      <td>...</td>\n",
       "    </tr>\n",
       "    <tr>\n",
       "      <th>169820</th>\n",
       "      <td>Tom~T</td>\n",
       "      <td>2020-12-20 22:30:06</td>\n",
       "      <td>Friday's News. Inconclusive if this Mutation /...</td>\n",
       "      <td>pypl</td>\n",
       "      <td>None</td>\n",
       "      <td>friday  s news   inconclusive if this mutation...</td>\n",
       "    </tr>\n",
       "    <tr>\n",
       "      <th>169821</th>\n",
       "      <td>Tom~T</td>\n",
       "      <td>2020-12-20 22:33:52</td>\n",
       "      <td>Great IF It Happens!\\nI've given up on 2020 an...</td>\n",
       "      <td>pypl</td>\n",
       "      <td>None</td>\n",
       "      <td>great if it happens   i  ve given up on  and d...</td>\n",
       "    </tr>\n",
       "    <tr>\n",
       "      <th>169822</th>\n",
       "      <td>Tom~T</td>\n",
       "      <td>2020-12-20 22:40:10</td>\n",
       "      <td>Nah!\\nUnknown! 🤪   Danger! 🤖 Danger!</td>\n",
       "      <td>pypl</td>\n",
       "      <td>None</td>\n",
       "      <td>nah   unknown   danger   danger</td>\n",
       "    </tr>\n",
       "    <tr>\n",
       "      <th>169823</th>\n",
       "      <td>Claudio</td>\n",
       "      <td>2020-12-21 00:06:01</td>\n",
       "      <td>Bitcoin up again pushing new highs</td>\n",
       "      <td>pypl</td>\n",
       "      <td>None</td>\n",
       "      <td>bitcoin up again pushing new high</td>\n",
       "    </tr>\n",
       "    <tr>\n",
       "      <th>169824</th>\n",
       "      <td>Robert</td>\n",
       "      <td>2020-12-21 01:26:42</td>\n",
       "      <td>every dip will be met with hedge fund and inst...</td>\n",
       "      <td>pypl</td>\n",
       "      <td>None</td>\n",
       "      <td>every dip will be met with hedge fund and inst...</td>\n",
       "    </tr>\n",
       "  </tbody>\n",
       "</table>\n",
       "<p>169825 rows × 6 columns</p>\n",
       "</div>"
      ],
      "text/plain": [
       "        authorName           createdAt  \\\n",
       "0          Charlie 2017-04-21 14:56:59   \n",
       "1       Drmicrocap 2017-08-02 09:01:54   \n",
       "2              Cfa 2017-11-01 06:10:40   \n",
       "3             None 2017-12-05 09:48:31   \n",
       "4             Fuel 2018-04-20 22:27:58   \n",
       "...            ...                 ...   \n",
       "169820       Tom~T 2020-12-20 22:30:06   \n",
       "169821       Tom~T 2020-12-20 22:33:52   \n",
       "169822       Tom~T 2020-12-20 22:40:10   \n",
       "169823     Claudio 2020-12-21 00:06:01   \n",
       "169824      Robert 2020-12-21 01:26:42   \n",
       "\n",
       "                                                  message  Comp  \\\n",
       "0       FoxNews expected to pay around $85 mil to sett...  aapl   \n",
       "1       https://drmicrocap.blogspot.com/2017/08/apple-...  aapl   \n",
       "2       $AAPL $AMZN $GOOG $BABA $MSFT $FB $NFLX $NVDA ...  aapl   \n",
       "3       Selling after a few years (since 2010 at 45). ...  aapl   \n",
       "4       Guys, I just nutted again. My stamina is way u...  aapl   \n",
       "...                                                   ...   ...   \n",
       "169820  Friday's News. Inconclusive if this Mutation /...  pypl   \n",
       "169821  Great IF It Happens!\\nI've given up on 2020 an...  pypl   \n",
       "169822               Nah!\\nUnknown! 🤪   Danger! 🤖 Danger!  pypl   \n",
       "169823                 Bitcoin up again pushing new highs  pypl   \n",
       "169824  every dip will be met with hedge fund and inst...  pypl   \n",
       "\n",
       "                                                     URLs  \\\n",
       "0                                                    None   \n",
       "1       https://drmicrocap.blogspot.com/2017/08/apple-...   \n",
       "2                                                    None   \n",
       "3                                                    None   \n",
       "4                                                    None   \n",
       "...                                                   ...   \n",
       "169820                                               None   \n",
       "169821                                               None   \n",
       "169822                                               None   \n",
       "169823                                               None   \n",
       "169824                                               None   \n",
       "\n",
       "                                                msg_clean  \n",
       "0       foxnews expected to pay around $  mil to settl...  \n",
       "1       http     drmicrocap blogspot com   apple repor...  \n",
       "2       $ aapl $ amzn $ goog $ baba $ msft $ fb $ nflx...  \n",
       "3       selling after a few year   since  at      it j...  \n",
       "4       guys   i just nutted again   my stamen is way ...  \n",
       "...                                                   ...  \n",
       "169820  friday  s news   inconclusive if this mutation...  \n",
       "169821  great if it happens   i  ve given up on  and d...  \n",
       "169822                  nah   unknown   danger   danger    \n",
       "169823                  bitcoin up again pushing new high  \n",
       "169824  every dip will be met with hedge fund and inst...  \n",
       "\n",
       "[169825 rows x 6 columns]"
      ]
     },
     "execution_count": 16,
     "metadata": {},
     "output_type": "execute_result"
    }
   ],
   "source": [
    "full_corpus"
   ]
  },
  {
   "cell_type": "markdown",
   "metadata": {},
   "source": [
    "##### Aggregate messages"
   ]
  },
  {
   "cell_type": "code",
   "execution_count": 17,
   "metadata": {},
   "outputs": [],
   "source": [
    "import dateparser\n",
    "import datetime\n",
    "import time\n",
    "from dateutil import parser\n",
    "\n",
    "def parse_dtime(time_str):\n",
    "    '''\n",
    "    Parses time and date from date_msg column to time.struct_time type.\n",
    "    \n",
    "    Parameters:\n",
    "    time_str-- string containing date-time info\n",
    "    \n",
    "    Returns:\n",
    "    parsed_dtime-- time.struct_time object with date-time info of time_str\n",
    "    '''\n",
    "\n",
    "    parsed_dtime = time.strptime(str(time_str), '%Y-%m-%d %H:%M:%S')\n",
    "    return parsed_dtime\n",
    "\n",
    "def window_check(t1, t2, window):\n",
    "    t1_sec, t2_sec = time.mktime(t1), time.mktime(t2)\n",
    "    wind_sec = window*60**2\n",
    "    if t2_sec - t1_sec < wind_sec and t2_sec - t1_sec > 0:\n",
    "        return True\n",
    "    return False\n",
    "\n",
    "def get_time(df, ind, date_col):\n",
    "    return df[date_col].iloc[ind]\n",
    "\n",
    "def aggregate_msg_by_time(df, msg_col='message', date_col='createdAt', window = 24):\n",
    "    cur_ind = 0\n",
    "    \n",
    "    block_msg = []\n",
    "    num_msgs = []\n",
    "    block_start = []\n",
    "    block_end = []\n",
    "    \n",
    "    \n",
    "    while cur_ind < df.shape[0]:\n",
    "        cur_t = get_time(df, cur_ind, date_col)\n",
    "        cur_block = df[msg_col].iloc[cur_ind]\n",
    "        block_start.append(cur_t)\n",
    "        \n",
    "        j = 1\n",
    "        if cur_ind+j >= df.shape[0]:\n",
    "            num_msgs.append(j)\n",
    "            block_msg.append(cur_block)\n",
    "            block_end.append(df[date_col].iloc[cur_ind+j-1])\n",
    "            break\n",
    "        next_t = get_time(df, cur_ind+j, date_col)\n",
    "        \n",
    "        while window_check(parse_dtime(cur_t), parse_dtime(next_t), window) and cur_ind+j < df.shape[0]:\n",
    "            cur_block += ' ' + str(df[msg_col].iloc[cur_ind + j])\n",
    "            j += 1\n",
    "            if cur_ind+j < df.shape[0]:\n",
    "                next_t = get_time(df, cur_ind+j, date_col)\n",
    "        \n",
    "        num_msgs.append(j)\n",
    "        block_msg.append(cur_block)\n",
    "        block_end.append(df[date_col].iloc[cur_ind+j-1])\n",
    "        \n",
    "        cur_ind += j\n",
    "    \n",
    "    new_df_data = {'Block_msg': block_msg, 'Num_msgs': num_msgs,\n",
    "                   'Start_time': block_start, 'End_time': block_end}\n",
    "    \n",
    "    new_df = pd.DataFrame.from_dict(new_df_data)\n",
    "    \n",
    "    return new_df"
   ]
  },
  {
   "cell_type": "code",
   "execution_count": null,
   "metadata": {},
   "outputs": [],
   "source": [
    "get_time(full_corpus, 1, 'createdAt')"
   ]
  },
  {
   "cell_type": "code",
   "execution_count": null,
   "metadata": {
    "scrolled": true
   },
   "outputs": [],
   "source": [
    "full_data_clean_aggH = aggregate_msg_by_time(full_corpus, window=1,   msg_col='msg_clean')\n",
    "full_data_clean_aggD = aggregate_msg_by_time(full_corpus, window=24,  msg_col='msg_clean')\n",
    "full_data_clean_aggW = aggregate_msg_by_time(full_corpus, window=168, msg_col='msg_clean')"
   ]
  },
  {
   "cell_type": "code",
   "execution_count": null,
   "metadata": {},
   "outputs": [],
   "source": [
    "full_data_clean_aggW"
   ]
  },
  {
   "cell_type": "markdown",
   "metadata": {},
   "source": [
    "#### LDA topic modelling"
   ]
  },
  {
   "cell_type": "code",
   "execution_count": null,
   "metadata": {},
   "outputs": [],
   "source": [
    "from sklearn.feature_extraction.text import CountVectorizer, TfidfVectorizer"
   ]
  },
  {
   "cell_type": "code",
   "execution_count": null,
   "metadata": {},
   "outputs": [],
   "source": [
    "cv = CountVectorizer(stop_words= 'english', min_df = 10, max_df = 0.4, token_pattern=r'\\b[a-zA-Z]{4,}\\b')\n",
    "dtm_cv = cv.fit_transform(full_data_clean_aggH.Block_msg) "
   ]
  },
  {
   "cell_type": "code",
   "execution_count": null,
   "metadata": {},
   "outputs": [],
   "source": [
    "from sklearn.decomposition import LatentDirichletAllocation\n",
    "lda_cv = LatentDirichletAllocation(n_components=10, random_state=0)\n",
    "lda_cv.fit(dtm_cv)"
   ]
  },
  {
   "cell_type": "code",
   "execution_count": null,
   "metadata": {},
   "outputs": [],
   "source": [
    "full_dtm_cv = cv.fit_transform(full_data_clean_aggD.Block_msg) \n",
    "full_lda_cv = LatentDirichletAllocation(n_components=10, random_state=0)\n",
    "full_lda_cv.fit(full_dtm_cv)"
   ]
  },
  {
   "cell_type": "code",
   "execution_count": null,
   "metadata": {},
   "outputs": [],
   "source": [
    "full_lda_cv.components_.shape"
   ]
  },
  {
   "cell_type": "code",
   "execution_count": null,
   "metadata": {},
   "outputs": [],
   "source": [
    "from tmtoolkit.topicmod.evaluate import metric_coherence_gensim\n",
    "def calc_coherence(lda, count_vec, df):\n",
    "    a = metric_coherence_gensim(measure='c_v', \n",
    "                        top_n=20, \n",
    "                        topic_word_distrib= lda.components_, \n",
    "                        dtm = count_vec,\n",
    "                        texts = [s.split(' ') for s in df.Block_msg.values.tolist()],\n",
    "                        vocab = np.array([x for x in cv.vocabulary_.keys()]))\n",
    "\n",
    "    return np.nanmean(a)"
   ]
  },
  {
   "cell_type": "code",
   "execution_count": null,
   "metadata": {},
   "outputs": [],
   "source": [
    "a = 1;a+=1\n",
    "a"
   ]
  },
  {
   "cell_type": "code",
   "execution_count": null,
   "metadata": {},
   "outputs": [],
   "source": [
    "def tune_hyp(alphas, betas, n_tops, dfs):\n",
    "    blocks = ['Hourly', 'Daily', 'Weekly']\n",
    "    aLog, bLog, blockLog, topLog, scores = [], [], [], [], []\n",
    "    for block in blocks:\n",
    "        for top in n_tops:\n",
    "            for a in alphas:\n",
    "                for b in betas:\n",
    "                    cur_df = dfs[block]\n",
    "                    cur_dtm = cv.fit_transform(cur_df.Block_msg)\n",
    "                    cur_lda = LatentDirichletAllocation(n_components=top, random_state=0, doc_topic_prior=a, topic_word_prior=b)\n",
    "                    cur_lda.fit(cur_dtm)\n",
    "                    cur_score = calc_coherence(cur_lda, cur_dtm, cur_df)\n",
    "                    aLog.append(a); bLog.append(b); blockLog.append(block); topLog.append(top); scores.append(cur_score)\n",
    "    logDict = {'Blocking': blockLog, 'Num Topics': topLog, 'Alpha': aLog, 'Beta': bLog, 'c_v': scores}\n",
    "    \n",
    "    return pd.DataFrame.from_dict(logDict)"
   ]
  },
  {
   "cell_type": "code",
   "execution_count": null,
   "metadata": {},
   "outputs": [],
   "source": [
    "block_dfs = {'Weekly': full_data_clean_aggW, 'Daily': full_data_clean_aggD, 'Hourly': full_data_clean_aggH}"
   ]
  },
  {
   "cell_type": "code",
   "execution_count": null,
   "metadata": {},
   "outputs": [],
   "source": [
    "lda_log = tune_hyp([1, 2, 5, 10],\n",
    "                   [0.05, 0.1, 0.25, 0.4],\n",
    "                   [10, 15, 25, 50],\n",
    "                   block_dfs)"
   ]
  },
  {
   "cell_type": "code",
   "execution_count": null,
   "metadata": {},
   "outputs": [],
   "source": [
    "lda_log.to_csv('lda_log.csv')"
   ]
  },
  {
   "cell_type": "code",
   "execution_count": null,
   "metadata": {},
   "outputs": [],
   "source": [
    "import seaborn as sns"
   ]
  },
  {
   "cell_type": "code",
   "execution_count": null,
   "metadata": {},
   "outputs": [],
   "source": [
    "cur_df = lda_log[(lda_log['Num Topics'] == 10) & (lda_log['Blocking'] == 'Daily')]\n",
    "p = cur_df.pivot('Alpha', 'Beta', 'c_v')\n",
    "sns.heatmap(p)"
   ]
  },
  {
   "cell_type": "code",
   "execution_count": null,
   "metadata": {},
   "outputs": [],
   "source": [
    "import matplotlib.pyplot as plt"
   ]
  },
  {
   "cell_type": "code",
   "execution_count": null,
   "metadata": {},
   "outputs": [],
   "source": [
    "3%2"
   ]
  },
  {
   "cell_type": "code",
   "execution_count": null,
   "metadata": {},
   "outputs": [],
   "source": [
    "\n",
    "def plot_ab_results(df, block):\n",
    "    our_df = df[df.Blocking == block]\n",
    "    tops = [10, 15, 25, 50]\n",
    "    fig, ax = plt.subplots(2,2, figsize=(8,8))\n",
    "    plt.subplots_adjust(hspace = 0.25, wspace=0.3)\n",
    "    fig.suptitle('Alpha-Beta results for {} grouping'.format(block))\n",
    "    for i in range(4):\n",
    "        cur_df = our_df[our_df['Num Topics'] == tops[i]]\n",
    "        cur_df = cur_df.pivot('Alpha', 'Beta', 'c_v')\n",
    "        \n",
    "        sns.heatmap(cur_df, ax=ax[i//2,i%2])\n",
    "        ax[i//2,i%2].title.set_text('{} Tops'.format(tops[i]))\n",
    "    plt.show()"
   ]
  },
  {
   "cell_type": "code",
   "execution_count": null,
   "metadata": {},
   "outputs": [],
   "source": [
    "plot_ab_results(lda_log, 'Hourly')"
   ]
  },
  {
   "cell_type": "code",
   "execution_count": null,
   "metadata": {},
   "outputs": [],
   "source": [
    "plot_ab_results(lda_log, 'Daily')"
   ]
  },
  {
   "cell_type": "code",
   "execution_count": null,
   "metadata": {},
   "outputs": [],
   "source": [
    "plot_ab_results(lda_log, 'Weekly')"
   ]
  },
  {
   "cell_type": "code",
   "execution_count": null,
   "metadata": {},
   "outputs": [],
   "source": [
    "cur_df= lda_log[lda_log['Blocking'] == 'Weekly']\n",
    "cur_df= cur_df[['Num Topics', 'c_v']]\n",
    "cur_df = cur_df.groupby(['Num Topics']).max()\n",
    "cur_df"
   ]
  },
  {
   "cell_type": "code",
   "execution_count": null,
   "metadata": {},
   "outputs": [],
   "source": [
    "def get_topics(model, feature_names, n):\n",
    "    topics = {}\n",
    "    for topic_idx, topic in enumerate(model.components_):\n",
    "        topics[topic_idx+1] = ', '.join([feature_names[i] for i in topic.argsort()[:-n-1:-1]])\n",
    "    \n",
    "    return topics"
   ]
  },
  {
   "cell_type": "code",
   "execution_count": null,
   "metadata": {},
   "outputs": [],
   "source": [
    "weekly_appl_tops = get_topics(full_lda_cv, cv.get_feature_names(), 7)"
   ]
  },
  {
   "cell_type": "code",
   "execution_count": null,
   "metadata": {},
   "outputs": [],
   "source": [
    "weekly_appl_tops"
   ]
  },
  {
   "cell_type": "code",
   "execution_count": null,
   "metadata": {},
   "outputs": [],
   "source": [
    "daily_appl_tops = get_topics(full_lda_cv, cv.get_feature_names(), 7)"
   ]
  },
  {
   "cell_type": "code",
   "execution_count": null,
   "metadata": {},
   "outputs": [],
   "source": [
    "daily_appl_tops"
   ]
  },
  {
   "cell_type": "code",
   "execution_count": null,
   "metadata": {},
   "outputs": [],
   "source": [
    "hourly_appl_tops = get_topics(full_lda_cv, cv.get_feature_names(), 7)"
   ]
  },
  {
   "cell_type": "code",
   "execution_count": null,
   "metadata": {},
   "outputs": [],
   "source": [
    "hourly_appl_tops"
   ]
  },
  {
   "cell_type": "code",
   "execution_count": null,
   "metadata": {},
   "outputs": [],
   "source": [
    "full_data_clean_aggW['Num_msgs'].mean()"
   ]
  },
  {
   "cell_type": "code",
   "execution_count": null,
   "metadata": {},
   "outputs": [],
   "source": [
    "def fit_models(dfs, keys, ntops = 10):\n",
    "    cv = CountVectorizer(stop_words= 'english', min_df = 10, max_df = 0.5, token_pattern=r'\\b[a-zA-Z]{4,}\\b')\n",
    "    all_topics = {}\n",
    "    for i in range(len(dfs)):\n",
    "        df = dfs[i]\n",
    "        dtm_cv = cv.fit_transform(df.Block_msg) \n",
    "        lda_cv = LatentDirichletAllocation(n_components=ntops, random_state=0)\n",
    "        lda_cv.fit(dtm_cv)\n",
    "        this_top = get_topics(lda_cv, cv.get_feature_names(), 7)\n",
    "        all_topics[keys[i]] = this_top\n",
    "    return all_topics"
   ]
  },
  {
   "cell_type": "code",
   "execution_count": null,
   "metadata": {},
   "outputs": [],
   "source": [
    "aaple_net_tops = fit_models([data_clean_aggH, data_clean_aggD, data_clean_aggW], ['Hourly', 'Daily', 'Weekly'], ntops=10)"
   ]
  },
  {
   "cell_type": "code",
   "execution_count": null,
   "metadata": {},
   "outputs": [],
   "source": [
    "aaple_net_tops['Weekly']"
   ]
  },
  {
   "cell_type": "code",
   "execution_count": null,
   "metadata": {},
   "outputs": [],
   "source": [
    "aaple_net_tops['Daily']"
   ]
  },
  {
   "cell_type": "code",
   "execution_count": null,
   "metadata": {},
   "outputs": [],
   "source": [
    "aaple_net_tops['Hourly']"
   ]
  },
  {
   "cell_type": "code",
   "execution_count": null,
   "metadata": {},
   "outputs": [],
   "source": [
    "np.mean(data_clean_aggW.Num_msgs)"
   ]
  },
  {
   "cell_type": "markdown",
   "metadata": {},
   "source": [
    "#### Model Selection"
   ]
  },
  {
   "cell_type": "code",
   "execution_count": null,
   "metadata": {},
   "outputs": [],
   "source": [
    "from sklearn.model_selection import GridSearchCV"
   ]
  },
  {
   "cell_type": "code",
   "execution_count": null,
   "metadata": {},
   "outputs": [],
   "source": [
    "search_params = {'n_components': [10, 15, 20, 25, 30],\n",
    "                 'learning_decay': [.5, .7, .9]}\n",
    "\n",
    "dtm_cv = cv.fit_transform(data_clean_aggW.Block_msg) \n",
    "lda = LatentDirichletAllocation(random_state=0)\n",
    "\n",
    "model_select = GridSearchCV(lda, param_grid=search_params)\n",
    "model_select.fit(dtm_cv)"
   ]
  },
  {
   "cell_type": "code",
   "execution_count": null,
   "metadata": {},
   "outputs": [],
   "source": [
    "best_hourly_mod = model_select.best_estimator_\n",
    "\n",
    "print(\"Best Model's Params: \", model_select.best_params_)\n",
    "print(\"Best Log Likelihood Score: \", model_select.best_score_)\n",
    "print(\"Model Perplexity: \", best_hourly_mod.perplexity(dtm_cv))"
   ]
  },
  {
   "cell_type": "code",
   "execution_count": null,
   "metadata": {},
   "outputs": [],
   "source": [
    "best_daily_mod = model_select.best_estimator_\n",
    "\n",
    "print(\"Best Model's Params: \", model_select.best_params_)\n",
    "print(\"Best Log Likelihood Score: \", model_select.best_score_)\n",
    "print(\"Model Perplexity: \", best_daily_mod.perplexity(dtm_cv))"
   ]
  },
  {
   "cell_type": "code",
   "execution_count": null,
   "metadata": {},
   "outputs": [],
   "source": [
    "best_weekly_mod = model_select.best_estimator_\n",
    "\n",
    "print(\"Best Model's Params: \", model_select.best_params_)\n",
    "print(\"Best Log Likelihood Score: \", model_select.best_score_)\n",
    "print(\"Model Perplexity: \", best_weekly_mod.perplexity(dtm_cv))"
   ]
  },
  {
   "cell_type": "code",
   "execution_count": null,
   "metadata": {},
   "outputs": [],
   "source": [
    "n_comps = [10, 15, 20, 25, 30]\n"
   ]
  },
  {
   "cell_type": "markdown",
   "metadata": {},
   "source": [
    "#### Visualisation of Topics"
   ]
  },
  {
   "cell_type": "code",
   "execution_count": null,
   "metadata": {},
   "outputs": [],
   "source": [
    "dtm_hour = cv.fit_transform(data_clean_aggH.Block_msg)\n",
    "lda = LatentDirichletAllocation(n_components=10)\n",
    "lda.fit(dtm_hour)"
   ]
  },
  {
   "cell_type": "code",
   "execution_count": null,
   "metadata": {},
   "outputs": [],
   "source": [
    "dtm_day = cv.fit_transform(data_clean_aggD.Block_msg)\n",
    "lda = LatentDirichletAllocation(n_components=10, random_state=0)\n",
    "lda.fit(dtm_day)"
   ]
  },
  {
   "cell_type": "code",
   "execution_count": null,
   "metadata": {},
   "outputs": [],
   "source": [
    "dtm_week = cv.fit_transform(data_clean_aggW.Block_msg)\n",
    "lda = LatentDirichletAllocation(n_components=10)\n",
    "lda.fit(dtm_week)"
   ]
  },
  {
   "cell_type": "code",
   "execution_count": null,
   "metadata": {},
   "outputs": [],
   "source": [
    "import pyLDAvis\n",
    "import pyLDAvis.sklearn\n",
    "pyLDAvis.enable_notebook()"
   ]
  },
  {
   "cell_type": "code",
   "execution_count": null,
   "metadata": {},
   "outputs": [],
   "source": [
    "full_lda_cv."
   ]
  },
  {
   "cell_type": "code",
   "execution_count": null,
   "metadata": {},
   "outputs": [],
   "source": [
    "pyLDAvis.sklearn.prepare(full_lda_cv, full_dtm_cv, cv, mds='tsne')"
   ]
  },
  {
   "cell_type": "code",
   "execution_count": null,
   "metadata": {},
   "outputs": [],
   "source": [
    "get_topics(lda, cv.get_feature_names(), 10)"
   ]
  },
  {
   "cell_type": "code",
   "execution_count": null,
   "metadata": {},
   "outputs": [],
   "source": [
    "cv._data"
   ]
  },
  {
   "cell_type": "code",
   "execution_count": null,
   "metadata": {},
   "outputs": [],
   "source": [
    "pyLDAvis.sklearn.prepare(lda_cv, dtm_cv, cv, mds='tsne')"
   ]
  },
  {
   "cell_type": "code",
   "execution_count": null,
   "metadata": {},
   "outputs": [],
   "source": [
    "pyLDAvis.sklearn.prepare(lda, dtm_week, cv, mds='tsne')"
   ]
  },
  {
   "cell_type": "markdown",
   "metadata": {},
   "source": [
    "#### Trying topic embeddings from Top2Vec\n",
    "[paper](https://arxiv.org/abs/2008.09470)"
   ]
  },
  {
   "cell_type": "code",
   "execution_count": null,
   "metadata": {},
   "outputs": [],
   "source": [
    "data_aggD = aggregate_msg_by_time(corpus, window=24)\n",
    "data_aggH = aggregate_msg_by_time(corpus, window=1)"
   ]
  },
  {
   "cell_type": "code",
   "execution_count": 19,
   "metadata": {},
   "outputs": [
    {
     "ename": "NameError",
     "evalue": "name 'data_aggH' is not defined",
     "output_type": "error",
     "traceback": [
      "\u001b[0;31m---------------------------------------------------------------------------\u001b[0m",
      "\u001b[0;31mNameError\u001b[0m                                 Traceback (most recent call last)",
      "\u001b[0;32m<ipython-input-19-109390a39989>\u001b[0m in \u001b[0;36m<module>\u001b[0;34m\u001b[0m\n\u001b[1;32m      1\u001b[0m \u001b[0;32mfrom\u001b[0m \u001b[0msentence_transformers\u001b[0m \u001b[0;32mimport\u001b[0m \u001b[0mSentenceTransformer\u001b[0m\u001b[0;34m\u001b[0m\u001b[0;34m\u001b[0m\u001b[0m\n\u001b[1;32m      2\u001b[0m \u001b[0mencoder\u001b[0m \u001b[0;34m=\u001b[0m \u001b[0mSentenceTransformer\u001b[0m\u001b[0;34m(\u001b[0m\u001b[0;34m'distilbert-base-nli-mean-tokens'\u001b[0m\u001b[0;34m)\u001b[0m\u001b[0;34m\u001b[0m\u001b[0;34m\u001b[0m\u001b[0m\n\u001b[0;32m----> 3\u001b[0;31m \u001b[0membeddings\u001b[0m \u001b[0;34m=\u001b[0m \u001b[0mencoder\u001b[0m\u001b[0;34m.\u001b[0m\u001b[0mencode\u001b[0m\u001b[0;34m(\u001b[0m\u001b[0mdata_aggH\u001b[0m\u001b[0;34m.\u001b[0m\u001b[0mBlock_msg\u001b[0m\u001b[0;34m)\u001b[0m\u001b[0;34m\u001b[0m\u001b[0;34m\u001b[0m\u001b[0m\n\u001b[0m",
      "\u001b[0;31mNameError\u001b[0m: name 'data_aggH' is not defined"
     ]
    }
   ],
   "source": [
    "from sentence_transformers import SentenceTransformer\n",
    "encoder = SentenceTransformer('distilbert-base-nli-mean-tokens')\n",
    "embeddings = encoder.encode(data_aggH.Block_msg)"
   ]
  },
  {
   "cell_type": "code",
   "execution_count": null,
   "metadata": {},
   "outputs": [],
   "source": [
    "embeddings.shape"
   ]
  },
  {
   "cell_type": "code",
   "execution_count": null,
   "metadata": {},
   "outputs": [],
   "source": [
    "import umap\n",
    "umap_embeddings = umap.UMAP(n_neighbors=15,\n",
    "                            n_components=5,\n",
    "                            metric='cosine').fit_transform(embeddings)"
   ]
  },
  {
   "cell_type": "code",
   "execution_count": null,
   "metadata": {},
   "outputs": [],
   "source": [
    "import hdbscan\n",
    "cluster = hdbscan.HDBSCAN(min_cluster_size=15,\n",
    "                          metric='euclidean',\n",
    "                          cluster_selection_method='eom').fit(umap_embeddings)"
   ]
  },
  {
   "cell_type": "code",
   "execution_count": null,
   "metadata": {},
   "outputs": [],
   "source": [
    "encoder = SentenceTransformer('distilbert-base-nli-mean-tokens')\n",
    "embeddings = encoder.encode(data_aggH.Block_msg)\n",
    "\n",
    "umap_embeddings = umap.UMAP(n_neighbors=15,\n",
    "                            n_components=5,\n",
    "                            metric='cosine').fit_transform(embeddings)\n",
    "\n"
   ]
  },
  {
   "cell_type": "code",
   "execution_count": null,
   "metadata": {},
   "outputs": [],
   "source": [
    "import matplotlib.pyplot as plt\n",
    "\n",
    "# Prepare data\n",
    "umap_data = umap.UMAP(n_neighbors=15, n_components=2, min_dist=0.0, metric='cosine').fit_transform(embeddings)\n",
    "result = pd.DataFrame(umap_data, columns=['x', 'y'])\n",
    "result['labels'] = cluster.labels_\n",
    "\n",
    "# Visualize clusters\n",
    "fig, ax = plt.subplots(figsize=(20, 10))\n",
    "outliers = result.loc[result.labels == -1, :]\n",
    "clustered = result.loc[result.labels != -1, :]\n",
    "plt.scatter(outliers.x, outliers.y, color='#BDBDBD', s=0.2)\n",
    "plt.scatter(clustered.x, clustered.y, c=clustered.labels, s=0.2, cmap='hsv_r')\n",
    "plt.colorbar()"
   ]
  },
  {
   "cell_type": "code",
   "execution_count": null,
   "metadata": {},
   "outputs": [],
   "source": [
    "result.loc[result.labels == 6]"
   ]
  },
  {
   "cell_type": "code",
   "execution_count": null,
   "metadata": {},
   "outputs": [],
   "source": [
    "data_aggH['Topic'] = cluster.labels_\n",
    "docs_per_topic = data_aggH.groupby(['Topic'], as_index=False).agg({'Block_msg': ' '.join})"
   ]
  },
  {
   "cell_type": "code",
   "execution_count": null,
   "metadata": {},
   "outputs": [],
   "source": [
    "def c_tf_idf(documents, m, ngram_range=(1, 1)):\n",
    "    count = CountVectorizer(ngram_range=ngram_range, stop_words=\"english\").fit(documents)\n",
    "    t = count.transform(documents).toarray()\n",
    "    w = t.sum(axis=1)\n",
    "    tf = np.divide(t.T, w)\n",
    "    sum_t = t.sum(axis=0)\n",
    "    idf = np.log(np.divide(m, sum_t)).reshape(-1, 1)\n",
    "    tf_idf = np.multiply(tf, idf)\n",
    "\n",
    "    return tf_idf, count\n",
    "  \n",
    "tf_idf, count = c_tf_idf(docs_per_topic.Block_msg.values, m=len(data_aggH.Block_msg))"
   ]
  },
  {
   "cell_type": "code",
   "execution_count": null,
   "metadata": {},
   "outputs": [],
   "source": [
    "def extract_top_n_words_per_topic(tf_idf, count, docs_per_topic, n=20):\n",
    "    words = count.get_feature_names()\n",
    "    labels = list(docs_per_topic.Topic)\n",
    "    tf_idf_transposed = tf_idf.T\n",
    "    indices = tf_idf_transposed.argsort()[:, -n:]\n",
    "    top_n_words = {label: [(words[j], tf_idf_transposed[i][j]) for j in indices[i]][::-1] for i, label in enumerate(labels)}\n",
    "    return top_n_words\n",
    "\n",
    "def extract_topic_sizes(df):\n",
    "    topic_sizes = (df.groupby(['Topic'])\n",
    "                     .Block_msg\n",
    "                     .count()\n",
    "                     .reset_index()\n",
    "                     .rename({\"Topic\": \"Topic\", \"Block_msg\": \"Size\"}, axis='columns')\n",
    "                     .sort_values(\"Size\", ascending=False))\n",
    "    return topic_sizes\n",
    "\n",
    "top_n_words = extract_top_n_words_per_topic(tf_idf, count, docs_per_topic, n=20)\n",
    "topic_sizes = extract_topic_sizes(data_aggH); topic_sizes.head(10)"
   ]
  },
  {
   "cell_type": "code",
   "execution_count": null,
   "metadata": {},
   "outputs": [],
   "source": [
    "top_n_words[10][:10]"
   ]
  },
  {
   "cell_type": "code",
   "execution_count": null,
   "metadata": {},
   "outputs": [],
   "source": [
    "full_corpus"
   ]
  },
  {
   "cell_type": "markdown",
   "metadata": {},
   "source": [
    "redoing cleaning phase but with limited steps as they're not needed for this method"
   ]
  },
  {
   "cell_type": "code",
   "execution_count": 18,
   "metadata": {},
   "outputs": [],
   "source": [
    "def clean_data_t2v(text):\n",
    "    text = str(text)\n",
    "    #text = remove_emoji(text)\n",
    "#     text = text.lower()\n",
    "    \n",
    "    url_regex = r\"(?i)\\b((?:https?://|www\\d{0,3}[.]|[a-z0-9.\\-]+[.][a-z]{2,4}/)(?:[^\\s()<>]+|\\(([^\\s()<>]+|(\\([^\\s()<>]+\\)))*\\))+(?:\\(([^\\s()<>]+|(\\([^\\s()<>]+\\)))*\\)|[^\\s`!()\\[\\]{};:'\\\".,<>?«»“”‘’]))\"\n",
    "    \n",
    "    text = text.replace(\"\\n\", \" \")\n",
    "    \n",
    "    text = re.sub('\\w*\\d\\w*', '', text) # removes numbers\n",
    "\n",
    "    \n",
    "    return text\n",
    "\n",
    "cleanDt = lambda x: clean_data_t2v(x)"
   ]
  },
  {
   "cell_type": "code",
   "execution_count": 19,
   "metadata": {
    "scrolled": true
   },
   "outputs": [],
   "source": [
    "full_corpus['t2v'] = full_corpus.message.apply(cleanDt)"
   ]
  },
  {
   "cell_type": "code",
   "execution_count": 20,
   "metadata": {},
   "outputs": [],
   "source": [
    "def rem_em_url(text):\n",
    "    text = str(text)\n",
    "    url_regex = r\"(https?:\\/\\/(?:www\\.|(?!www))[a-zA-Z0-9][a-zA-Z0-9-]+[a-zA-Z0-9]\\.[^\\s]{2,}|www\\.[a-zA-Z0-9][a-zA-Z0-9-]+[a-zA-Z0-9]\\.[^\\s]{2,}|https?:\\/\\/(?:www\\.|(?!www))[a-zA-Z0-9]+\\.[^\\s]{2,}|www\\.[a-zA-Z0-9]+\\.[^\\s]{2,})\"\n",
    "    text = re.sub(url_regex, '', text)\n",
    "    text = remove_emoji(text)\n",
    "    \n",
    "    return text\n",
    "\n",
    "rEmUrl = lambda x: rem_em_url(x)"
   ]
  },
  {
   "cell_type": "code",
   "execution_count": 21,
   "metadata": {},
   "outputs": [],
   "source": [
    "full_corpus['t2v'] = full_corpus.t2v.apply(rEmUrl)"
   ]
  },
  {
   "cell_type": "code",
   "execution_count": 23,
   "metadata": {},
   "outputs": [],
   "source": [
    "bTop_model = bertopic.BERTopic.load(\"base_hourly_noGram\")\n",
    "bTopNg_model = bertopic.BERTopic.load(\"base_hourly_grams\")"
   ]
  },
  {
   "cell_type": "code",
   "execution_count": 24,
   "metadata": {},
   "outputs": [],
   "source": [
    "full_data_aggH = aggregate_msg_by_time(full_corpus, window=1,   msg_col='t2v')\n",
    "full_data_aggD = aggregate_msg_by_time(full_corpus, window=24,  msg_col='t2v')"
   ]
  },
  {
   "cell_type": "code",
   "execution_count": 28,
   "metadata": {},
   "outputs": [],
   "source": [
    "bTop_model = bertopic.BERTopic(n_gram_range=(1,3))\n",
    "topH, probH = bTop_model.fit_transform(full_data_aggH.Block_msg)"
   ]
  },
  {
   "cell_type": "code",
   "execution_count": 31,
   "metadata": {},
   "outputs": [],
   "source": [
    "bTopNg_model = bertopic.BERTopic()\n",
    "topHNg, probHNg = bTopNg_model.fit_transform(full_data_aggH.Block_msg)"
   ]
  },
  {
   "cell_type": "code",
   "execution_count": 28,
   "metadata": {
    "scrolled": true
   },
   "outputs": [
    {
     "data": {
      "text/plain": [
       "[('abb', 0.7454598857779182),\n",
       " ('abnb', 0.09300266788744115),\n",
       " ('sbux', 0.09148526569852614),\n",
       " ('bmrr', 0.05755764160880758),\n",
       " ('abbabb', 0.05755764160880758),\n",
       " ('bac', 0.05490713132502383),\n",
       " ('bldp', 0.05361930535562607),\n",
       " ('expansion', 0.030850366803168855),\n",
       " ('ba', 0.030697483547942012),\n",
       " ('opened', 0.03049983516109306)]"
      ]
     },
     "execution_count": 28,
     "metadata": {},
     "output_type": "execute_result"
    }
   ],
   "source": [
    "bTopNg_model.get_topics()[12]"
   ]
  },
  {
   "cell_type": "code",
   "execution_count": null,
   "metadata": {},
   "outputs": [],
   "source": [
    "bTop_model.visualize_distribution(probH[1536])"
   ]
  },
  {
   "cell_type": "code",
   "execution_count": null,
   "metadata": {},
   "outputs": [],
   "source": [
    "for i in range(123):\n",
    "    bTop_model.get_topic"
   ]
  },
  {
   "cell_type": "code",
   "execution_count": null,
   "metadata": {
    "scrolled": true
   },
   "outputs": [],
   "source": [
    "bTop_model.find_topics(\"trump\")"
   ]
  },
  {
   "cell_type": "code",
   "execution_count": null,
   "metadata": {},
   "outputs": [],
   "source": [
    "bTop_full = bertopic.BERTopic()\n",
    "top_full, prob_full = bTop_full.fit_transform(full_corpus.t2v)"
   ]
  },
  {
   "cell_type": "code",
   "execution_count": 35,
   "metadata": {},
   "outputs": [],
   "source": [
    "bTop_model.save(\"base_hourly_noGram\")\n",
    "bTopNg_model.save(\"base_hourly_grams\")"
   ]
  },
  {
   "cell_type": "code",
   "execution_count": 31,
   "metadata": {},
   "outputs": [],
   "source": [
    "from sentence_transformers import SentenceTransformer\n",
    "import umap\n",
    "import hdbscan"
   ]
  },
  {
   "cell_type": "code",
   "execution_count": 34,
   "metadata": {},
   "outputs": [
    {
     "data": {
      "text/plain": [
       "{1: [1, 2, 3], 2: [1]}"
      ]
     },
     "execution_count": 34,
     "metadata": {},
     "output_type": "execute_result"
    }
   ],
   "source": [
    "td = {}\n",
    "a = [1,2,3]\n",
    "td[1] = a\n",
    "a = [1]\n",
    "td[2] = a\n",
    "td"
   ]
  },
  {
   "cell_type": "code",
   "execution_count": 38,
   "metadata": {},
   "outputs": [],
   "source": [
    "def get_embeddings(msgs, ndims):\n",
    "    encoder = SentenceTransformer('distilbert-base-nli-mean-tokens')\n",
    "    print(\"Calculating 768d embeddings...\")\n",
    "    embeddings = encoder.encode(msgs)\n",
    "    print(\"Done\")\n",
    "    print(\"Reducing dimensions...\")\n",
    "    u_embs = {}\n",
    "    for nd in ndims:\n",
    "        umap_embeddings = umap.UMAP(n_neighbors=15,\n",
    "                                    n_components=nd,\n",
    "                                    metric='cosine').fit_transform(embeddings)\n",
    "        u_embs[nd] = umap_embeddings\n",
    "    print(\"Done.\")\n",
    "    return u_embs"
   ]
  },
  {
   "cell_type": "code",
   "execution_count": 39,
   "metadata": {},
   "outputs": [
    {
     "name": "stdout",
     "output_type": "stream",
     "text": [
      "Calculating 768d embeddings...\n",
      "Done\n",
      "Reducing dimensions...\n",
      "Done.\n"
     ]
    }
   ],
   "source": [
    "hourly_embs = get_embeddings(full_data_aggH.Block_msg, [2, 5])"
   ]
  },
  {
   "cell_type": "code",
   "execution_count": 209,
   "metadata": {},
   "outputs": [],
   "source": [
    "def plot_t2v(embs, labels):\n",
    "    result = pd.DataFrame(embs, columns=['x', 'y'])\n",
    "    result['labels'] = labels\n",
    "\n",
    "    # Visualize clusters\n",
    "    fig, ax = plt.subplots(figsize=(20, 10))\n",
    "    outliers = result.loc[result.labels == -1]\n",
    "    clustered = result.loc[result.labels != -1]\n",
    "    plt.scatter(outliers.x, outliers.y, color='#BDBDBD', s=0.2)\n",
    "    plt.scatter(clustered.x, clustered.y, c=clustered.labels, s=0.2, cmap='hsv_r')\n",
    "    plt.xlim([2,15])\n",
    "    plt.ylim([2,15])\n",
    "    plt.colorbar()"
   ]
  },
  {
   "cell_type": "code",
   "execution_count": 210,
   "metadata": {},
   "outputs": [
    {
     "data": {
      "image/png": "[encoded data removed]",
      "text/plain": [
       "<Figure size 1440x720 with 2 Axes>"
      ]
     },
     "metadata": {
      "needs_background": "light"
     },
     "output_type": "display_data"
    }
   ],
   "source": [
    "plot_t2v(hourly_embs[2], preds[0])"
   ]
  },
  {
   "cell_type": "code",
   "execution_count": 29,
   "metadata": {},
   "outputs": [],
   "source": [
    "full_data_aggH['top_Ng'] = preds[0]"
   ]
  },
  {
   "cell_type": "code",
   "execution_count": 44,
   "metadata": {},
   "outputs": [
    {
     "data": {
      "text/html": [
       "<div>\n",
       "<style scoped>\n",
       "    .dataframe tbody tr th:only-of-type {\n",
       "        vertical-align: middle;\n",
       "    }\n",
       "\n",
       "    .dataframe tbody tr th {\n",
       "        vertical-align: top;\n",
       "    }\n",
       "\n",
       "    .dataframe thead th {\n",
       "        text-align: right;\n",
       "    }\n",
       "</style>\n",
       "<table border=\"1\" class=\"dataframe\">\n",
       "  <thead>\n",
       "    <tr style=\"text-align: right;\">\n",
       "      <th></th>\n",
       "      <th>Block_msg</th>\n",
       "      <th>Num_msgs</th>\n",
       "      <th>Start_time</th>\n",
       "      <th>End_time</th>\n",
       "      <th>top_Ng</th>\n",
       "    </tr>\n",
       "  </thead>\n",
       "  <tbody>\n",
       "    <tr>\n",
       "      <th>0</th>\n",
       "      <td>FoxNews expected to pay around $ mil to settle...</td>\n",
       "      <td>1</td>\n",
       "      <td>2017-04-21 14:56:59</td>\n",
       "      <td>2017-04-21 14:56:59</td>\n",
       "      <td>-1</td>\n",
       "    </tr>\n",
       "    <tr>\n",
       "      <th>1</th>\n",
       "      <td>#aapl #Nasdaq Composite #S&amp; Index #Dow Jones</td>\n",
       "      <td>1</td>\n",
       "      <td>2017-08-02 09:01:54</td>\n",
       "      <td>2017-08-02 09:01:54</td>\n",
       "      <td>-1</td>\n",
       "    </tr>\n",
       "    <tr>\n",
       "      <th>2</th>\n",
       "      <td>$AAPL $AMZN $GOOG $BABA $MSFT $FB $NFLX $NVDA ...</td>\n",
       "      <td>1</td>\n",
       "      <td>2017-11-01 06:10:40</td>\n",
       "      <td>2017-11-01 06:10:40</td>\n",
       "      <td>-1</td>\n",
       "    </tr>\n",
       "    <tr>\n",
       "      <th>3</th>\n",
       "      <td>Selling after a few years (since  at ). It jus...</td>\n",
       "      <td>1</td>\n",
       "      <td>2017-12-05 09:48:31</td>\n",
       "      <td>2017-12-05 09:48:31</td>\n",
       "      <td>113</td>\n",
       "    </tr>\n",
       "    <tr>\n",
       "      <th>4</th>\n",
       "      <td>Guys, I just nutted again. My stamina is way u...</td>\n",
       "      <td>1</td>\n",
       "      <td>2018-04-20 22:27:58</td>\n",
       "      <td>2018-04-20 22:27:58</td>\n",
       "      <td>36</td>\n",
       "    </tr>\n",
       "    <tr>\n",
       "      <th>...</th>\n",
       "      <td>...</td>\n",
       "      <td>...</td>\n",
       "      <td>...</td>\n",
       "      <td>...</td>\n",
       "      <td>...</td>\n",
       "    </tr>\n",
       "    <tr>\n",
       "      <th>25083</th>\n",
       "      <td>Following bank stocks now.  Crazy but good Up ...</td>\n",
       "      <td>2</td>\n",
       "      <td>2020-12-20 01:30:42</td>\n",
       "      <td>2020-12-20 01:31:33</td>\n",
       "      <td>-1</td>\n",
       "    </tr>\n",
       "    <tr>\n",
       "      <th>25084</th>\n",
       "      <td>New Covid mutation in England  So interesting ...</td>\n",
       "      <td>1</td>\n",
       "      <td>2020-12-20 21:13:03</td>\n",
       "      <td>2020-12-20 21:13:03</td>\n",
       "      <td>-1</td>\n",
       "    </tr>\n",
       "    <tr>\n",
       "      <th>25085</th>\n",
       "      <td>Friday's News. Inconclusive if this Mutation /...</td>\n",
       "      <td>3</td>\n",
       "      <td>2020-12-20 22:30:06</td>\n",
       "      <td>2020-12-20 22:40:10</td>\n",
       "      <td>-1</td>\n",
       "    </tr>\n",
       "    <tr>\n",
       "      <th>25086</th>\n",
       "      <td>Bitcoin up again pushing new highs</td>\n",
       "      <td>1</td>\n",
       "      <td>2020-12-21 00:06:01</td>\n",
       "      <td>2020-12-21 00:06:01</td>\n",
       "      <td>-1</td>\n",
       "    </tr>\n",
       "    <tr>\n",
       "      <th>25087</th>\n",
       "      <td>every dip will be met with hedge fund and inst...</td>\n",
       "      <td>1</td>\n",
       "      <td>2020-12-21 01:26:42</td>\n",
       "      <td>2020-12-21 01:26:42</td>\n",
       "      <td>16</td>\n",
       "    </tr>\n",
       "  </tbody>\n",
       "</table>\n",
       "<p>25088 rows × 5 columns</p>\n",
       "</div>"
      ],
      "text/plain": [
       "                                               Block_msg  Num_msgs  \\\n",
       "0      FoxNews expected to pay around $ mil to settle...         1   \n",
       "1           #aapl #Nasdaq Composite #S& Index #Dow Jones         1   \n",
       "2      $AAPL $AMZN $GOOG $BABA $MSFT $FB $NFLX $NVDA ...         1   \n",
       "3      Selling after a few years (since  at ). It jus...         1   \n",
       "4      Guys, I just nutted again. My stamina is way u...         1   \n",
       "...                                                  ...       ...   \n",
       "25083  Following bank stocks now.  Crazy but good Up ...         2   \n",
       "25084  New Covid mutation in England  So interesting ...         1   \n",
       "25085  Friday's News. Inconclusive if this Mutation /...         3   \n",
       "25086                 Bitcoin up again pushing new highs         1   \n",
       "25087  every dip will be met with hedge fund and inst...         1   \n",
       "\n",
       "               Start_time            End_time  top_Ng  \n",
       "0     2017-04-21 14:56:59 2017-04-21 14:56:59      -1  \n",
       "1     2017-08-02 09:01:54 2017-08-02 09:01:54      -1  \n",
       "2     2017-11-01 06:10:40 2017-11-01 06:10:40      -1  \n",
       "3     2017-12-05 09:48:31 2017-12-05 09:48:31     113  \n",
       "4     2018-04-20 22:27:58 2018-04-20 22:27:58      36  \n",
       "...                   ...                 ...     ...  \n",
       "25083 2020-12-20 01:30:42 2020-12-20 01:31:33      -1  \n",
       "25084 2020-12-20 21:13:03 2020-12-20 21:13:03      -1  \n",
       "25085 2020-12-20 22:30:06 2020-12-20 22:40:10      -1  \n",
       "25086 2020-12-21 00:06:01 2020-12-21 00:06:01      -1  \n",
       "25087 2020-12-21 01:26:42 2020-12-21 01:26:42      16  \n",
       "\n",
       "[25088 rows x 5 columns]"
      ]
     },
     "execution_count": 44,
     "metadata": {},
     "output_type": "execute_result"
    }
   ],
   "source": [
    "full_data_aggH"
   ]
  },
  {
   "cell_type": "code",
   "execution_count": 213,
   "metadata": {
    "scrolled": true
   },
   "outputs": [
    {
     "data": {
      "text/plain": [
       "{-1: ['get',\n",
       "  'people',\n",
       "  'buy',\n",
       "  'can',\n",
       "  'stock',\n",
       "  'go',\n",
       "  'when',\n",
       "  'biden',\n",
       "  'would',\n",
       "  'why'],\n",
       " 0: ['mkt', 'junk', 'than'],\n",
       " 1: [],\n",
       " 2: ['hk',\n",
       "  'down',\n",
       "  'low',\n",
       "  'kung',\n",
       "  'ching',\n",
       "  'weak',\n",
       "  'garbage',\n",
       "  'bottom',\n",
       "  'china',\n",
       "  'short'],\n",
       " 3: ['hk', 'low', 'dip', 'never'],\n",
       " 4: ['blockchain'],\n",
       " 5: ['hsbc',\n",
       "  'hsbcpa',\n",
       "  'julien',\n",
       "  'british',\n",
       "  'rbc',\n",
       "  'dvd',\n",
       "  'chip',\n",
       "  'paying',\n",
       "  'blue',\n",
       "  'bank'],\n",
       " 6: ['hsbc',\n",
       "  'hsbcpa',\n",
       "  'low',\n",
       "  'down',\n",
       "  'boycotthsbc',\n",
       "  'bottomed',\n",
       "  'silent',\n",
       "  'boycott',\n",
       "  'lows',\n",
       "  'nope'],\n",
       " 7: ['hsbc', 'hsbcpa'],\n",
       " 8: ['abb'],\n",
       " 9: ['down', 'downsizing'],\n",
       " 10: ['cern'],\n",
       " 11: ['aon',\n",
       "  'high',\n",
       "  'nepotism',\n",
       "  'eastern',\n",
       "  'open',\n",
       "  'exciting',\n",
       "  'alert',\n",
       "  'er',\n",
       "  'growth',\n",
       "  'coming'],\n",
       " 12: ['abb',\n",
       "  'abnb',\n",
       "  'sbux',\n",
       "  'bmrr',\n",
       "  'abbabb',\n",
       "  'bac',\n",
       "  'bldp',\n",
       "  'expansion',\n",
       "  'ba',\n",
       "  'opened'],\n",
       " 13: ['cern', 'cerner', 'carnac', 'making', 'aapl', 'buy'],\n",
       " 14: ['breakdown',\n",
       "  'sweet',\n",
       "  'premarket',\n",
       "  'short',\n",
       "  'jan',\n",
       "  'fleeced',\n",
       "  'smartypants',\n",
       "  'nicholas',\n",
       "  'nellies',\n",
       "  'downtrend'],\n",
       " 15: ['bmy',\n",
       "  'dragger',\n",
       "  'dow',\n",
       "  'revisit',\n",
       "  'ytd',\n",
       "  'bristolmyers',\n",
       "  'squibb',\n",
       "  'better',\n",
       "  'week'],\n",
       " 16: ['dip',\n",
       "  'dips',\n",
       "  'plug',\n",
       "  'goog',\n",
       "  'marshmallows',\n",
       "  'suckonthat',\n",
       "  'worrylololol',\n",
       "  'gooo',\n",
       "  'subtitles',\n",
       "  'rips'],\n",
       " 17: ['masks',\n",
       "  'mask',\n",
       "  'distributors',\n",
       "  'products',\n",
       "  'virus',\n",
       "  'company',\n",
       "  'business',\n",
       "  'manufacturing',\n",
       "  'machines',\n",
       "  'depot'],\n",
       " 18: ['cisco',\n",
       "  'csco',\n",
       "  'trumps',\n",
       "  'trump',\n",
       "  'joe',\n",
       "  'biden',\n",
       "  'rich',\n",
       "  'voting',\n",
       "  'dem',\n",
       "  'election'],\n",
       " 19: ['broker',\n",
       "  'math',\n",
       "  'sackless',\n",
       "  'website',\n",
       "  'poor',\n",
       "  'canaries',\n",
       "  'molest',\n",
       "  'ebay',\n",
       "  'ugly',\n",
       "  'fake'],\n",
       " 20: ['bum',\n",
       "  'straggler',\n",
       "  'rhyme',\n",
       "  'languishing',\n",
       "  'pointless',\n",
       "  'bet',\n",
       "  'dopey',\n",
       "  'shareholder',\n",
       "  'mmm',\n",
       "  'longterm'],\n",
       " 21: ['cheerleader',\n",
       "  'ebay',\n",
       "  'fatboy',\n",
       "  'shaddup',\n",
       "  'stanely',\n",
       "  'jcpenny',\n",
       "  'nguyen',\n",
       "  'carole',\n",
       "  'gnbt',\n",
       "  'dictionary'],\n",
       " 22: ['monday',\n",
       "  'shrs',\n",
       "  'raw',\n",
       "  'cyber',\n",
       "  'mondaylook',\n",
       "  'tuesday',\n",
       "  'quarantines',\n",
       "  'resumed',\n",
       "  'evercore',\n",
       "  'kramer'],\n",
       " 23: ['rocket',\n",
       "  'maduro',\n",
       "  'lightyear',\n",
       "  'liftoff',\n",
       "  'seatbelts',\n",
       "  'venezuela',\n",
       "  'launching',\n",
       "  'lift',\n",
       "  'swings',\n",
       "  'speedy'],\n",
       " 24: ['germany',\n",
       "  'german',\n",
       "  'pfe',\n",
       "  'worse',\n",
       "  'discounts',\n",
       "  'burn',\n",
       "  'poorliterally',\n",
       "  'kleinanzeigen',\n",
       "  'marketwhich',\n",
       "  'divloser'],\n",
       " 25: ['sept',\n",
       "  'oct',\n",
       "  'month',\n",
       "  'day',\n",
       "  'days',\n",
       "  'feb',\n",
       "  'nov',\n",
       "  'longest',\n",
       "  'july',\n",
       "  'aug'],\n",
       " 26: ['uber',\n",
       "  'silver',\n",
       "  'paypal',\n",
       "  'fintech',\n",
       "  'markethence',\n",
       "  'uberstop',\n",
       "  'whooptydoothis',\n",
       "  'buyershow',\n",
       "  'uberoh',\n",
       "  'investmentyikes'],\n",
       " 27: ['bank',\n",
       "  'economic',\n",
       "  'money',\n",
       "  'banks',\n",
       "  'inflation',\n",
       "  'lot',\n",
       "  'boost',\n",
       "  'rates',\n",
       "  'retailers',\n",
       "  'tax'],\n",
       " 28: ['everglades',\n",
       "  'alligator',\n",
       "  'cousin',\n",
       "  'mom',\n",
       "  'bmy',\n",
       "  'turtle',\n",
       "  'tampa',\n",
       "  'florida',\n",
       "  'swamp',\n",
       "  'boat'],\n",
       " 29: ['ebay',\n",
       "  'sellers',\n",
       "  'hk',\n",
       "  'paypal',\n",
       "  'business',\n",
       "  'distributor',\n",
       "  'cheap',\n",
       "  'distributors',\n",
       "  'buying',\n",
       "  'money'],\n",
       " 30: ['johnkelly',\n",
       "  'wit',\n",
       "  'spew',\n",
       "  'insanity',\n",
       "  'jon',\n",
       "  'ignored',\n",
       "  'rich',\n",
       "  'stupidity',\n",
       "  'wallows',\n",
       "  'everkeep'],\n",
       " 31: ['july',\n",
       "  'june',\n",
       "  'feb',\n",
       "  'octoberi',\n",
       "  'back',\n",
       "  'august',\n",
       "  'refiled',\n",
       "  'julyi',\n",
       "  'planing',\n",
       "  'forever'],\n",
       " 32: ['silver',\n",
       "  'gold',\n",
       "  'ounce',\n",
       "  'metal',\n",
       "  'slaves',\n",
       "  'morgan',\n",
       "  'asset',\n",
       "  'banks',\n",
       "  'diamond',\n",
       "  'bankers'],\n",
       " 33: ['sara',\n",
       "  'madbezos',\n",
       "  'happy',\n",
       "  'lolsaragreen',\n",
       "  'caitlyns',\n",
       "  'california',\n",
       "  'queenie',\n",
       "  'love',\n",
       "  'blonde',\n",
       "  'hug'],\n",
       " 34: ['cramer',\n",
       "  'jake',\n",
       "  'paypal',\n",
       "  'cramers',\n",
       "  'charley',\n",
       "  'parabolic',\n",
       "  'paypals',\n",
       "  'building',\n",
       "  'breakout',\n",
       "  'buffet'],\n",
       " 35: ['pipeline',\n",
       "  'pharma',\n",
       "  'usd',\n",
       "  'biotech',\n",
       "  'bargain',\n",
       "  'highgiddy',\n",
       "  'pharmasthe',\n",
       "  'lizzybreak',\n",
       "  'highsthat',\n",
       "  'shrs'],\n",
       " 36: ['apple',\n",
       "  'aapl',\n",
       "  'iphone',\n",
       "  'buy',\n",
       "  'market',\n",
       "  'tech',\n",
       "  'sell',\n",
       "  'sales',\n",
       "  'shares',\n",
       "  'apples'],\n",
       " 37: ['robotics',\n",
       "  'robots',\n",
       "  'spacex',\n",
       "  'robot',\n",
       "  'worlds',\n",
       "  'futuristic',\n",
       "  'bionic',\n",
       "  'robotic',\n",
       "  'automated',\n",
       "  'cybersecurity'],\n",
       " 38: ['ceo',\n",
       "  'removed',\n",
       "  'management',\n",
       "  'dumba',\n",
       "  'disinfect',\n",
       "  'terminated',\n",
       "  'dismantled',\n",
       "  'resigns',\n",
       "  'madness',\n",
       "  'ralph'],\n",
       " 39: ['tesla',\n",
       "  'apple',\n",
       "  'applefi',\n",
       "  'sold',\n",
       "  'iphone',\n",
       "  'apples',\n",
       "  'millions',\n",
       "  'flush',\n",
       "  'phones',\n",
       "  'nobody'],\n",
       " 40: ['tesla',\n",
       "  'netflix',\n",
       "  'subscribers',\n",
       "  'nflx',\n",
       "  'enthusiasm',\n",
       "  'broadcom',\n",
       "  'earnings',\n",
       "  'disney',\n",
       "  'shows',\n",
       "  'buy'],\n",
       " 41: ['tesla',\n",
       "  'amazon',\n",
       "  'stock',\n",
       "  'shares',\n",
       "  'sell',\n",
       "  'stocks',\n",
       "  'bought',\n",
       "  'share',\n",
       "  'cars',\n",
       "  'buying'],\n",
       " 42: ['earnings',\n",
       "  'netflix',\n",
       "  'nflx',\n",
       "  'dots',\n",
       "  'sales',\n",
       "  'media',\n",
       "  'cbs',\n",
       "  'sell',\n",
       "  'insane',\n",
       "  'trading'],\n",
       " 43: ['fraud',\n",
       "  'terrorist',\n",
       "  'casino',\n",
       "  'conman',\n",
       "  'treason',\n",
       "  'ponzi',\n",
       "  'greed',\n",
       "  'wealth',\n",
       "  'netflix',\n",
       "  'terrorists'],\n",
       " 44: ['rockefeller',\n",
       "  'flu',\n",
       "  'pandemic',\n",
       "  'virus',\n",
       "  'coronavirus',\n",
       "  'experts',\n",
       "  'corona',\n",
       "  'ceo',\n",
       "  'ge',\n",
       "  'injured'],\n",
       " 45: ['fda',\n",
       "  'cancer',\n",
       "  'cells',\n",
       "  'bristol',\n",
       "  'biotech',\n",
       "  'medicine',\n",
       "  'bristolmyers',\n",
       "  'nivolumab',\n",
       "  'alphabeta',\n",
       "  'editas'],\n",
       " 46: ['vaccine',\n",
       "  'vaccines',\n",
       "  'covid',\n",
       "  'virus',\n",
       "  'amazon',\n",
       "  'vaccinated',\n",
       "  'inhaled',\n",
       "  'pfizer',\n",
       "  'avonex',\n",
       "  'shopping'],\n",
       " 47: ['drug',\n",
       "  'patients',\n",
       "  'pbms',\n",
       "  'fda',\n",
       "  'pharmacy',\n",
       "  'dbtunr',\n",
       "  'cvrs',\n",
       "  'prescription',\n",
       "  'pharmacists',\n",
       "  'insurers'],\n",
       " 48: ['fda',\n",
       "  'cvr',\n",
       "  'cvrs',\n",
       "  'inspection',\n",
       "  'dbtunr',\n",
       "  'lisocel',\n",
       "  'approvals',\n",
       "  'inspecting',\n",
       "  'diligent',\n",
       "  'inspectors'],\n",
       " 49: ['buy',\n",
       "  'bought',\n",
       "  'buying',\n",
       "  'everyone',\n",
       "  'sell',\n",
       "  'go',\n",
       "  'drop',\n",
       "  'nflx',\n",
       "  'cancelled',\n",
       "  'entertainment'],\n",
       " 50: ['spam',\n",
       "  'yahoo',\n",
       "  'filters',\n",
       "  'bot',\n",
       "  'eliots',\n",
       "  'posted',\n",
       "  'tubes',\n",
       "  'removing',\n",
       "  'spamming',\n",
       "  'spammers'],\n",
       " 51: ['moon',\n",
       "  'cat',\n",
       "  'realtor',\n",
       "  'strategy',\n",
       "  'hastings',\n",
       "  'price',\n",
       "  'bounce',\n",
       "  'wait',\n",
       "  'till',\n",
       "  'beds'],\n",
       " 52: ['garbage',\n",
       "  'trash',\n",
       "  'junk',\n",
       "  'uninvestible',\n",
       "  'oceans',\n",
       "  'seas',\n",
       "  'frivolous',\n",
       "  'pile',\n",
       "  'anti',\n",
       "  'rick'],\n",
       " 53: ['green',\n",
       "  'dopamine',\n",
       "  'levodopa',\n",
       "  'parkinsons',\n",
       "  'doses',\n",
       "  'medicine',\n",
       "  'treat',\n",
       "  'opens',\n",
       "  'dopadecarboxylase',\n",
       "  'carbidopalevodopa'],\n",
       " 54: ['bulls',\n",
       "  'bull',\n",
       "  'bears',\n",
       "  'profits',\n",
       "  'nflx',\n",
       "  'wish',\n",
       "  'woo',\n",
       "  'bear',\n",
       "  'drinks',\n",
       "  'selling'],\n",
       " 55: ['shorts',\n",
       "  'short',\n",
       "  'sell',\n",
       "  'nflx',\n",
       "  'shares',\n",
       "  'price',\n",
       "  'stock',\n",
       "  'earnings',\n",
       "  'buy',\n",
       "  'tomorrow'],\n",
       " 56: ['ebayl',\n",
       "  'ebay',\n",
       "  'low',\n",
       "  'down',\n",
       "  'sucks',\n",
       "  'unethical',\n",
       "  'hahahahahaha',\n",
       "  'correction',\n",
       "  'financial',\n",
       "  'late'],\n",
       " 57: ['sara',\n",
       "  'ebay',\n",
       "  'ecommercebytes',\n",
       "  'poor',\n",
       "  'nick',\n",
       "  'seller',\n",
       "  'stalker',\n",
       "  'tree',\n",
       "  'retailers',\n",
       "  'investors'],\n",
       " 58: ['apple',\n",
       "  'disney',\n",
       "  'netflix',\n",
       "  'streaming',\n",
       "  'nflx',\n",
       "  'hbo',\n",
       "  'cash',\n",
       "  'movies',\n",
       "  'fraud',\n",
       "  'quality'],\n",
       " 59: ['ebay',\n",
       "  'nick',\n",
       "  'troll',\n",
       "  'garbage',\n",
       "  'trolls',\n",
       "  'trash',\n",
       "  'trolling',\n",
       "  'idiot',\n",
       "  'idiots',\n",
       "  'yahoo'],\n",
       " 60: ['cheap',\n",
       "  'dabby',\n",
       "  'cheapcheap',\n",
       "  'cheaper',\n",
       "  'plastics',\n",
       "  'reduced',\n",
       "  'expense',\n",
       "  'free',\n",
       "  'light',\n",
       "  'boost'],\n",
       " 61: ['bitcoin',\n",
       "  'paypal',\n",
       "  'crypto',\n",
       "  'online',\n",
       "  'stocknews',\n",
       "  'stadiumsput',\n",
       "  'cash',\n",
       "  'ledger',\n",
       "  'trading',\n",
       "  'puzzle'],\n",
       " 62: ['mining',\n",
       "  'crypto',\n",
       "  'coins',\n",
       "  'paypal',\n",
       "  'cryptocurrency',\n",
       "  'bitcoin',\n",
       "  'usersminers',\n",
       "  'stoneco',\n",
       "  'wallets',\n",
       "  'paypals'],\n",
       " 63: ['baggies',\n",
       "  'orlando',\n",
       "  'shop',\n",
       "  'sell',\n",
       "  'amazon',\n",
       "  'buying',\n",
       "  'websitelol',\n",
       "  'drinkingpotpartyfood',\n",
       "  'businesszzzzzzzzz',\n",
       "  'foreversmdh'],\n",
       " 64: ['disney',\n",
       "  'nflx',\n",
       "  'netflix',\n",
       "  'porn',\n",
       "  'troll',\n",
       "  'snap',\n",
       "  'hulu',\n",
       "  'espn',\n",
       "  'lil',\n",
       "  'trap'],\n",
       " 65: ['company',\n",
       "  'companies',\n",
       "  'shareholders',\n",
       "  'invest',\n",
       "  'stubhub',\n",
       "  'stock',\n",
       "  'dividends',\n",
       "  'investors',\n",
       "  'earningsdividends',\n",
       "  'pashto'],\n",
       " 66: ['stock',\n",
       "  'news',\n",
       "  'stocks',\n",
       "  'never',\n",
       "  'close',\n",
       "  'insider',\n",
       "  'past',\n",
       "  'last',\n",
       "  'soon',\n",
       "  'price'],\n",
       " 67: ['paypal',\n",
       "  'credit',\n",
       "  'payment',\n",
       "  'qiwi',\n",
       "  'mercadomagicocom',\n",
       "  'nmgc',\n",
       "  'moneeeyyy',\n",
       "  'cashback',\n",
       "  'walmartca',\n",
       "  'payments'],\n",
       " 68: ['company',\n",
       "  'leadership',\n",
       "  'ceo',\n",
       "  'management',\n",
       "  'companies',\n",
       "  'business',\n",
       "  'employees',\n",
       "  'pensions',\n",
       "  'invested',\n",
       "  'garolou'],\n",
       " 69: ['orange',\n",
       "  'rid',\n",
       "  'cisco',\n",
       "  'csco',\n",
       "  'clown',\n",
       "  'deep',\n",
       "  'tech',\n",
       "  'analyst',\n",
       "  'analysislol',\n",
       "  'themhes'],\n",
       " 70: ['down',\n",
       "  'end',\n",
       "  'tomorrow',\n",
       "  'break',\n",
       "  'until',\n",
       "  'slowly',\n",
       "  'lockdown',\n",
       "  'drops',\n",
       "  'after',\n",
       "  'wait'],\n",
       " 71: ['buffett',\n",
       "  'buffet',\n",
       "  'slaughtered',\n",
       "  'jpm',\n",
       "  'warren',\n",
       "  'billions',\n",
       "  'banks',\n",
       "  'invests',\n",
       "  'stock',\n",
       "  'jp'],\n",
       " 72: ['ebay',\n",
       "  'sellers',\n",
       "  'discount',\n",
       "  'seller',\n",
       "  'paypall',\n",
       "  'clown',\n",
       "  'fools',\n",
       "  'ebayweing',\n",
       "  'cancel',\n",
       "  'store'],\n",
       " 73: ['nflx',\n",
       "  'earnings',\n",
       "  'netflix',\n",
       "  'market',\n",
       "  'streaming',\n",
       "  'price',\n",
       "  'stock',\n",
       "  'debt',\n",
       "  'subscribers',\n",
       "  'sell'],\n",
       " 74: ['netflix',\n",
       "  'streaming',\n",
       "  'nflx',\n",
       "  'subscribers',\n",
       "  'hulu',\n",
       "  'netflixs',\n",
       "  'billion',\n",
       "  'revenue',\n",
       "  'movies',\n",
       "  'debt'],\n",
       " 75: ['low',\n",
       "  'small',\n",
       "  'undervalued',\n",
       "  'dividend',\n",
       "  'underperformance',\n",
       "  'weak',\n",
       "  'cheap',\n",
       "  'poverty',\n",
       "  'short',\n",
       "  'lower'],\n",
       " 76: ['sadderday',\n",
       "  'month',\n",
       "  'down',\n",
       "  'oct',\n",
       "  'last',\n",
       "  'nutshell',\n",
       "  'fading',\n",
       "  'glitch',\n",
       "  'downgrades',\n",
       "  'sinking'],\n",
       " 77: ['pypl',\n",
       "  'down',\n",
       "  'low',\n",
       "  'lower',\n",
       "  'bottom',\n",
       "  'bottomed',\n",
       "  'melting',\n",
       "  'declining',\n",
       "  'downgraded',\n",
       "  'drop'],\n",
       " 78: ['ceo',\n",
       "  'corporates',\n",
       "  'quinn',\n",
       "  'glad',\n",
       "  'speedy',\n",
       "  'love',\n",
       "  'best',\n",
       "  'good',\n",
       "  'amazing',\n",
       "  'great'],\n",
       " 79: ['short',\n",
       "  'slow',\n",
       "  'tiny',\n",
       "  'shortjpm',\n",
       "  'garbageshort',\n",
       "  'shorties',\n",
       "  'timely',\n",
       "  'brains',\n",
       "  'shortie',\n",
       "  'little'],\n",
       " 80: ['mute',\n",
       "  'muted',\n",
       "  'moron',\n",
       "  'idiot',\n",
       "  'stupid',\n",
       "  'nonsense',\n",
       "  'shut',\n",
       "  'disgrace',\n",
       "  'dry',\n",
       "  'lame'],\n",
       " 81: ['china',\n",
       "  'trust',\n",
       "  'wolf',\n",
       "  'trumps',\n",
       "  'corn',\n",
       "  'tax',\n",
       "  'cheating',\n",
       "  'compromised',\n",
       "  'joes',\n",
       "  'singersactors'],\n",
       " 82: ['amazon',\n",
       "  'ebay',\n",
       "  'provisioning',\n",
       "  'cheaper',\n",
       "  'fees',\n",
       "  'buy',\n",
       "  'amazons',\n",
       "  'swimming',\n",
       "  'pay',\n",
       "  'stores'],\n",
       " 83: ['paypal',\n",
       "  'uspypl',\n",
       "  'semiconductor',\n",
       "  'bitcoin',\n",
       "  'technologies',\n",
       "  'fintech',\n",
       "  'tech',\n",
       "  'payments',\n",
       "  'morgan',\n",
       "  'technology'],\n",
       " 84: ['amazon',\n",
       "  'buy',\n",
       "  'iphone',\n",
       "  'sales',\n",
       "  'sell',\n",
       "  'beat',\n",
       "  'buying',\n",
       "  'apple',\n",
       "  'billion',\n",
       "  'walmart'],\n",
       " 85: ['amazon',\n",
       "  'grocery',\n",
       "  'drone',\n",
       "  'safest',\n",
       "  'home',\n",
       "  'monday',\n",
       "  'buy',\n",
       "  'salary',\n",
       "  'alexa',\n",
       "  'digital'],\n",
       " 86: ['ebay',\n",
       "  'ebays',\n",
       "  'dying',\n",
       "  'ebaygotten',\n",
       "  'listingspeople',\n",
       "  'feebay',\n",
       "  'demise',\n",
       "  'dead',\n",
       "  'paypal',\n",
       "  'sell'],\n",
       " 87: ['ebay',\n",
       "  'ebayl',\n",
       "  'cray',\n",
       "  'adventica',\n",
       "  'opens',\n",
       "  'billion',\n",
       "  'flying',\n",
       "  'account',\n",
       "  'new',\n",
       "  'come'],\n",
       " 88: ['ebay',\n",
       "  'https',\n",
       "  'watchlist',\n",
       "  'ebays',\n",
       "  'paypal',\n",
       "  'gift',\n",
       "  'bitcoin',\n",
       "  'yahoo',\n",
       "  'bought',\n",
       "  'andrew'],\n",
       " 89: ['ebay',\n",
       "  'mercari',\n",
       "  'onlinei',\n",
       "  'scammedbuyers',\n",
       "  'paypal',\n",
       "  'sales',\n",
       "  'recession',\n",
       "  'ebitda',\n",
       "  'paltry',\n",
       "  'cheap'],\n",
       " 90: ['ebay',\n",
       "  'sellers',\n",
       "  'seller',\n",
       "  'buyers',\n",
       "  'auction',\n",
       "  'sell',\n",
       "  'selling',\n",
       "  'ebays',\n",
       "  'buyer',\n",
       "  'sale'],\n",
       " 91: ['soulfood', 'honey'],\n",
       " 92: ['sad',\n",
       "  'ambivalent',\n",
       "  'saddd',\n",
       "  'pathetically',\n",
       "  'upsets',\n",
       "  'dumbest',\n",
       "  'disappointing',\n",
       "  'oversold',\n",
       "  'terrible',\n",
       "  'pathetic'],\n",
       " 93: ['osborne',\n",
       "  'bean',\n",
       "  'snitching',\n",
       "  'club',\n",
       "  'gifs',\n",
       "  'hades',\n",
       "  'rotflmao',\n",
       "  'failed',\n",
       "  'cakes',\n",
       "  'alumni'],\n",
       " 94: ['pump',\n",
       "  'pumpity',\n",
       "  'river',\n",
       "  'hoser',\n",
       "  'mykle',\n",
       "  'water',\n",
       "  'tank',\n",
       "  'pulls',\n",
       "  'pumper',\n",
       "  'consolidation'],\n",
       " 95: ['biden',\n",
       "  'trump',\n",
       "  'amazon',\n",
       "  'win',\n",
       "  'market',\n",
       "  'money',\n",
       "  'president',\n",
       "  'stock',\n",
       "  'over',\n",
       "  'buy'],\n",
       " 96: ['jpm',\n",
       "  'billion',\n",
       "  'shareholders',\n",
       "  'babyboomers',\n",
       "  'manipulation',\n",
       "  'healthcare',\n",
       "  'pathalogical',\n",
       "  'millions',\n",
       "  'crownjewel',\n",
       "  'china'],\n",
       " 97: ['down',\n",
       "  'earnings',\n",
       "  'sell',\n",
       "  'stock',\n",
       "  'below',\n",
       "  'oil',\n",
       "  'decline',\n",
       "  'lower',\n",
       "  'loss',\n",
       "  'weak'],\n",
       " 98: ['jpm',\n",
       "  'jpmorgan',\n",
       "  'bitcoin',\n",
       "  'jp',\n",
       "  'morgan',\n",
       "  'billion',\n",
       "  'billions',\n",
       "  'hacker',\n",
       "  'cocaine',\n",
       "  'manipulation'],\n",
       " 99: ['oil',\n",
       "  'jpm',\n",
       "  'shale',\n",
       "  'loans',\n",
       "  'saudi',\n",
       "  'gas',\n",
       "  'jp',\n",
       "  'fossil',\n",
       "  'drillers',\n",
       "  'drilling'],\n",
       " 100: ['bank',\n",
       "  'banks',\n",
       "  'db',\n",
       "  'golubova',\n",
       "  'deutche',\n",
       "  'deutsche',\n",
       "  'awful',\n",
       "  'scary',\n",
       "  'aktiengesellschaftnyse',\n",
       "  'undervalued'],\n",
       " 101: ['cut',\n",
       "  'dividend',\n",
       "  'dividends',\n",
       "  'bank',\n",
       "  'recession',\n",
       "  'warren',\n",
       "  'wacko',\n",
       "  'slaughtered',\n",
       "  'discount',\n",
       "  'cuts'],\n",
       " 102: ['earnings',\n",
       "  'stock',\n",
       "  'price',\n",
       "  'buybacks',\n",
       "  'difficult',\n",
       "  'supply',\n",
       "  'marketcap',\n",
       "  'dividend',\n",
       "  'inexpensive',\n",
       "  'cant'],\n",
       " 103: ['bank',\n",
       "  'banks',\n",
       "  'tax',\n",
       "  'profits',\n",
       "  'debt',\n",
       "  'inflation',\n",
       "  'bailout',\n",
       "  'economic',\n",
       "  'recession',\n",
       "  'buy'],\n",
       " 104: ['banks',\n",
       "  'hsbc',\n",
       "  'bank',\n",
       "  'zions',\n",
       "  'bankrupt',\n",
       "  'supermarket',\n",
       "  'lehman',\n",
       "  'collapsed',\n",
       "  'imploding',\n",
       "  'bailouts'],\n",
       " 105: ['bank',\n",
       "  'smart',\n",
       "  'obama',\n",
       "  'billions',\n",
       "  'pennies',\n",
       "  'god',\n",
       "  'banks',\n",
       "  'banking',\n",
       "  'demo',\n",
       "  'stole'],\n",
       " 106: ['banks',\n",
       "  'bank',\n",
       "  'destroy',\n",
       "  'aliens',\n",
       "  'facebook',\n",
       "  'illegal',\n",
       "  'slaughter',\n",
       "  'banking',\n",
       "  'millennials',\n",
       "  'hate'],\n",
       " 107: ['sickest',\n",
       "  'exagerrated',\n",
       "  'houstonearnings',\n",
       "  'unrecoverable',\n",
       "  'wholesale',\n",
       "  'shrinking',\n",
       "  'markets',\n",
       "  'disappointing',\n",
       "  'struggling',\n",
       "  'financials'],\n",
       " 108: ['jpm',\n",
       "  'jpmorgan',\n",
       "  'jpmpj',\n",
       "  'chase',\n",
       "  'https',\n",
       "  'buffett',\n",
       "  'hitachi',\n",
       "  'jpmpd',\n",
       "  'buy',\n",
       "  'treasury'],\n",
       " 109: ['jpm',\n",
       "  'banks',\n",
       "  'bank',\n",
       "  'jpmorgan',\n",
       "  'loans',\n",
       "  'jp',\n",
       "  'dividends',\n",
       "  'jpms',\n",
       "  'financials',\n",
       "  'banking'],\n",
       " 110: ['donald',\n",
       "  'trumpbye',\n",
       "  'trump',\n",
       "  'rightful',\n",
       "  'alumnusmensa',\n",
       "  'tigers',\n",
       "  'reelected',\n",
       "  'yea',\n",
       "  'reelection',\n",
       "  'bac'],\n",
       " 111: ['maga',\n",
       "  'democrats',\n",
       "  'demtards',\n",
       "  'votes',\n",
       "  'vote',\n",
       "  'michigan',\n",
       "  'amy',\n",
       "  'hunter',\n",
       "  'demtard',\n",
       "  'dem'],\n",
       " 112: ['pypl',\n",
       "  'kurde',\n",
       "  'daynice',\n",
       "  'gluwno',\n",
       "  'polsce',\n",
       "  'canopy',\n",
       "  'gush',\n",
       "  'cgc',\n",
       "  'honey',\n",
       "  'valuations'],\n",
       " 113: ['share',\n",
       "  'crammer',\n",
       "  'bought',\n",
       "  'price',\n",
       "  'earnings',\n",
       "  'always',\n",
       "  'ecommerce',\n",
       "  'steadily',\n",
       "  'growth',\n",
       "  'drop'],\n",
       " 114: ['long',\n",
       "  'earnings',\n",
       "  'sell',\n",
       "  'apps',\n",
       "  'cameltoe',\n",
       "  'blah',\n",
       "  'malls',\n",
       "  'annually',\n",
       "  'dave',\n",
       "  'big'],\n",
       " 115: ['split',\n",
       "  'shares',\n",
       "  'dividend',\n",
       "  'share',\n",
       "  'stocks',\n",
       "  'dividends',\n",
       "  'hoover',\n",
       "  'buyback',\n",
       "  'buybacks',\n",
       "  'bought'],\n",
       " 116: ['long',\n",
       "  'grammy',\n",
       "  'keeper',\n",
       "  'vix',\n",
       "  'stay',\n",
       "  'winners',\n",
       "  'decades',\n",
       "  'since',\n",
       "  'keeping',\n",
       "  'owned'],\n",
       " 117: ['options',\n",
       "  'investing',\n",
       "  'weeks',\n",
       "  'bought',\n",
       "  'stock',\n",
       "  'split',\n",
       "  'earlier',\n",
       "  'spark',\n",
       "  'foreclosure',\n",
       "  'investor'],\n",
       " 118: ['millionaire',\n",
       "  'earning',\n",
       "  'earlly',\n",
       "  'hummer',\n",
       "  'devine',\n",
       "  'doable',\n",
       "  'skyrocketed',\n",
       "  'robust',\n",
       "  'increase',\n",
       "  'mrk'],\n",
       " 119: ['buyback',\n",
       "  'bought',\n",
       "  'earnings',\n",
       "  'hit',\n",
       "  'nflxbye',\n",
       "  'charityand',\n",
       "  'strengthlooks',\n",
       "  'pivotalif',\n",
       "  'perioddespite',\n",
       "  'daysamazing'],\n",
       " 120: ['experts',\n",
       "  'judgment',\n",
       "  'associates',\n",
       "  'thank',\n",
       "  'thanks',\n",
       "  'expert',\n",
       "  'love',\n",
       "  'interested',\n",
       "  'congrats',\n",
       "  'friends'],\n",
       " 121: ['market',\n",
       "  'down',\n",
       "  'days',\n",
       "  'frustrating',\n",
       "  'months',\n",
       "  'selling',\n",
       "  'pentwater',\n",
       "  'lower',\n",
       "  'god',\n",
       "  'oversold'],\n",
       " 122: ['earnings',\n",
       "  'nflx',\n",
       "  'sell',\n",
       "  'netflix',\n",
       "  'price',\n",
       "  'stock',\n",
       "  'movie',\n",
       "  'market',\n",
       "  'long',\n",
       "  'buy'],\n",
       " 123: ['increase',\n",
       "  'comingstay',\n",
       "  'multimillionaire',\n",
       "  'fledged',\n",
       "  'increases',\n",
       "  'reevaluate',\n",
       "  'big',\n",
       "  'exceeding',\n",
       "  'raise',\n",
       "  'rise'],\n",
       " 124: ['tomorrow',\n",
       "  'week',\n",
       "  'friday',\n",
       "  'decade',\n",
       "  'may',\n",
       "  'weeks',\n",
       "  'overdueas',\n",
       "  'agenusbio',\n",
       "  'cominglong',\n",
       "  'thursdaydmmmmdummmmdmmmmdmmmm'],\n",
       " 125: ['switzerland',\n",
       "  'salvador',\n",
       "  'postand',\n",
       "  'rsince',\n",
       "  'speaka',\n",
       "  'amarin',\n",
       "  'why',\n",
       "  'amex',\n",
       "  'explain',\n",
       "  'benjo'],\n",
       " 126: ['hunter',\n",
       "  'racist',\n",
       "  'demtards',\n",
       "  'shrill',\n",
       "  'burisma',\n",
       "  'america',\n",
       "  'sinister',\n",
       "  'fraud',\n",
       "  'trumps',\n",
       "  'wolf'],\n",
       " 127: ['biden',\n",
       "  'trump',\n",
       "  'president',\n",
       "  'trumps',\n",
       "  'donald',\n",
       "  'election',\n",
       "  'covid',\n",
       "  'hunter',\n",
       "  'america',\n",
       "  'house'],\n",
       " 128: ['agree', 'close', 'deal'],\n",
       " 129: ['dividend',\n",
       "  'josephh',\n",
       "  'adr',\n",
       "  'differentiates',\n",
       "  'tia',\n",
       "  'paying',\n",
       "  'fixed',\n",
       "  'provide',\n",
       "  'payment',\n",
       "  'patient'],\n",
       " 130: ['earnings',\n",
       "  'earningsoops',\n",
       "  'againweeeeeeeeback',\n",
       "  'hits',\n",
       "  'reparation',\n",
       "  'pypl',\n",
       "  'hit',\n",
       "  'index',\n",
       "  'checks',\n",
       "  'splits'],\n",
       " 131: ['celgjuno',\n",
       "  'anticipating',\n",
       "  'helpful',\n",
       "  'above',\n",
       "  'north',\n",
       "  'reach',\n",
       "  'easily',\n",
       "  'priced',\n",
       "  'rise',\n",
       "  'nice'],\n",
       " 132: ['buy',\n",
       "  'sell',\n",
       "  'bought',\n",
       "  'trade',\n",
       "  'buyer',\n",
       "  'sold',\n",
       "  'buying',\n",
       "  'targetduh',\n",
       "  'buyafter',\n",
       "  'tgifsell'],\n",
       " 133: ['target',\n",
       "  'waitingggg',\n",
       "  'teshould',\n",
       "  'eryes',\n",
       "  'nick',\n",
       "  'yearwhere',\n",
       "  'yt',\n",
       "  'evan',\n",
       "  'tyler',\n",
       "  'price'],\n",
       " 134: ['holeeee',\n",
       "  'grrrreat',\n",
       "  'errrrgh',\n",
       "  'yeahhhhhhhhhhhh',\n",
       "  'spoileralert',\n",
       "  'hahathe',\n",
       "  'beloooowww',\n",
       "  'eat',\n",
       "  'yhoo',\n",
       "  'hahahahahahaha'],\n",
       " 135: ['nice',\n",
       "  'thanks',\n",
       "  'good',\n",
       "  'thank',\n",
       "  'yes',\n",
       "  'got',\n",
       "  'breakout',\n",
       "  'start',\n",
       "  'up',\n",
       "  'great']}"
      ]
     },
     "execution_count": 213,
     "metadata": {},
     "output_type": "execute_result"
    }
   ],
   "source": [
    "ng_tws"
   ]
  },
  {
   "cell_type": "code",
   "execution_count": 67,
   "metadata": {},
   "outputs": [
    {
     "data": {
      "text/plain": [
       "(25088, 5)"
      ]
     },
     "execution_count": 67,
     "metadata": {},
     "output_type": "execute_result"
    }
   ],
   "source": [
    "hourly_embs.shape"
   ]
  },
  {
   "cell_type": "code",
   "execution_count": 58,
   "metadata": {},
   "outputs": [],
   "source": [
    "def calculate_top_vecs(ntops, df, embeddings, top_col = 'top_Ng'):\n",
    "    emb_dim = embeddings.shape[1]\n",
    "    top_vecs = np.zeros((ntops-1, emb_dim))\n",
    "    for top in range(ntops-1):\n",
    "        inds = df.loc[df[top_col] == top].index\n",
    "        t_vec = np.zeros(emb_dim)\n",
    "        for ind in inds:\n",
    "            t_vec += embeddings[ind, :]\n",
    "        t_vec /= len(inds)\n",
    "        top_vecs[top, :] = t_vec\n",
    "    return top_vecs"
   ]
  },
  {
   "cell_type": "code",
   "execution_count": 59,
   "metadata": {},
   "outputs": [],
   "source": [
    "t_vecs_Ng = calculate_top_vecs(len(bTopNg_model.get_topics()), full_data_aggH, hourly_embs[5])"
   ]
  },
  {
   "cell_type": "code",
   "execution_count": 63,
   "metadata": {},
   "outputs": [],
   "source": [
    "t_vecs_Ng2d = umap.UMAP(n_neighbors=15,\n",
    "                        n_components=2,\n",
    "                        metric='cosine').fit_transform(t_vecs_Ng)"
   ]
  },
  {
   "cell_type": "code",
   "execution_count": 80,
   "metadata": {},
   "outputs": [],
   "source": [
    "import chart_studio.plotly as py\n",
    "import plotly.graph_objects as go\n",
    "import plotly.express as px\n",
    "import pickle"
   ]
  },
  {
   "cell_type": "code",
   "execution_count": 82,
   "metadata": {},
   "outputs": [],
   "source": [
    "with open('t_vecsNg.pkl', 'wb') as f:  # Python 3: open(..., 'wb')\n",
    "    pickle.dump([t_vecs_Ng, t_vecs_Ng2d], f)\n",
    "\n",
    "with open('hourly_embs.pkl', 'wb') as f:  # Python 3: open(..., 'wb')\n",
    "    pickle.dump(hourly_embs, f)"
   ]
  },
  {
   "cell_type": "code",
   "execution_count": 83,
   "metadata": {},
   "outputs": [
    {
     "data": {
      "application/vnd.plotly.v1+json": {
       "config": {
        "plotlyServerURL": "https://plot.ly"
       },
       "data": [
        {
         "hovertemplate": "x=%{x}<br>y=%{y}<br>words=%{text}<extra></extra>",
         "legendgroup": "",
         "marker": {
          "color": "#636efa",
          "symbol": "circle"
         },
         "mode": "markers+text",
         "name": "",
         "orientation": "v",
         "showlegend": false,
         "text": [
          "mkt, junk, than",
          "",
          "hk, down, low, kung, ching, weak, garbage, bottom, china, short",
          "hk, low, dip, never",
          "blockchain",
          "hsbc, hsbcpa, julien, british, rbc, dvd, chip, paying, blue, bank",
          "hsbc, hsbcpa, low, down, boycotthsbc, bottomed, silent, boycott, lows, nope",
          "hsbc, hsbcpa",
          "abb",
          "down, downsizing",
          "cern",
          "aon, high, nepotism, eastern, open, exciting, alert, er, growth, coming",
          "abb, abnb, sbux, bmrr, abbabb, bac, bldp, expansion, ba, opened",
          "cern, cerner, carnac, making, aapl, buy",
          "breakdown, sweet, premarket, short, jan, fleeced, smartypants, nicholas, nellies, downtrend",
          "bmy, dragger, dow, revisit, ytd, bristolmyers, squibb, better, week",
          "dip, dips, plug, goog, marshmallows, suckonthat, worrylololol, gooo, subtitles, rips",
          "masks, mask, distributors, products, virus, company, business, manufacturing, machines, depot",
          "cisco, csco, trumps, trump, joe, biden, rich, voting, dem, election",
          "broker, math, sackless, website, poor, canaries, molest, ebay, ugly, fake",
          "bum, straggler, rhyme, languishing, pointless, bet, dopey, shareholder, mmm, longterm",
          "cheerleader, ebay, fatboy, shaddup, stanely, jcpenny, nguyen, carole, gnbt, dictionary",
          "monday, shrs, raw, cyber, mondaylook, tuesday, quarantines, resumed, evercore, kramer",
          "rocket, maduro, lightyear, liftoff, seatbelts, venezuela, launching, lift, swings, speedy",
          "germany, german, pfe, worse, discounts, burn, poorliterally, kleinanzeigen, marketwhich, divloser",
          "sept, oct, month, day, days, feb, nov, longest, july, aug",
          "uber, silver, paypal, fintech, markethence, uberstop, whooptydoothis, buyershow, uberoh, investmentyikes",
          "bank, economic, money, banks, inflation, lot, boost, rates, retailers, tax",
          "everglades, alligator, cousin, mom, bmy, turtle, tampa, florida, swamp, boat",
          "ebay, sellers, hk, paypal, business, distributor, cheap, distributors, buying, money",
          "johnkelly, wit, spew, insanity, jon, ignored, rich, stupidity, wallows, everkeep",
          "july, june, feb, octoberi, back, august, refiled, julyi, planing, forever",
          "silver, gold, ounce, metal, slaves, morgan, asset, banks, diamond, bankers",
          "sara, madbezos, happy, lolsaragreen, caitlyns, california, queenie, love, blonde, hug",
          "cramer, jake, paypal, cramers, charley, parabolic, paypals, building, breakout, buffet",
          "pipeline, pharma, usd, biotech, bargain, highgiddy, pharmasthe, lizzybreak, highsthat, shrs",
          "apple, aapl, iphone, buy, market, tech, sell, sales, shares, apples",
          "robotics, robots, spacex, robot, worlds, futuristic, bionic, robotic, automated, cybersecurity",
          "ceo, removed, management, dumba, disinfect, terminated, dismantled, resigns, madness, ralph",
          "tesla, apple, applefi, sold, iphone, apples, millions, flush, phones, nobody",
          "tesla, netflix, subscribers, nflx, enthusiasm, broadcom, earnings, disney, shows, buy",
          "tesla, amazon, stock, shares, sell, stocks, bought, share, cars, buying",
          "earnings, netflix, nflx, dots, sales, media, cbs, sell, insane, trading",
          "fraud, terrorist, casino, conman, treason, ponzi, greed, wealth, netflix, terrorists",
          "rockefeller, flu, pandemic, virus, coronavirus, experts, corona, ceo, ge, injured",
          "fda, cancer, cells, bristol, biotech, medicine, bristolmyers, nivolumab, alphabeta, editas",
          "vaccine, vaccines, covid, virus, amazon, vaccinated, inhaled, pfizer, avonex, shopping",
          "drug, patients, pbms, fda, pharmacy, dbtunr, cvrs, prescription, pharmacists, insurers",
          "fda, cvr, cvrs, inspection, dbtunr, lisocel, approvals, inspecting, diligent, inspectors",
          "buy, bought, buying, everyone, sell, go, drop, nflx, cancelled, entertainment",
          "spam, yahoo, filters, bot, eliots, posted, tubes, removing, spamming, spammers",
          "moon, cat, realtor, strategy, hastings, price, bounce, wait, till, beds",
          "garbage, trash, junk, uninvestible, oceans, seas, frivolous, pile, anti, rick",
          "green, dopamine, levodopa, parkinsons, doses, medicine, treat, opens, dopadecarboxylase, carbidopalevodopa",
          "bulls, bull, bears, profits, nflx, wish, woo, bear, drinks, selling",
          "shorts, short, sell, nflx, shares, price, stock, earnings, buy, tomorrow",
          "ebayl, ebay, low, down, sucks, unethical, hahahahahaha, correction, financial, late",
          "sara, ebay, ecommercebytes, poor, nick, seller, stalker, tree, retailers, investors",
          "apple, disney, netflix, streaming, nflx, hbo, cash, movies, fraud, quality",
          "ebay, nick, troll, garbage, trolls, trash, trolling, idiot, idiots, yahoo",
          "cheap, dabby, cheapcheap, cheaper, plastics, reduced, expense, free, light, boost",
          "bitcoin, paypal, crypto, online, stocknews, stadiumsput, cash, ledger, trading, puzzle",
          "mining, crypto, coins, paypal, cryptocurrency, bitcoin, usersminers, stoneco, wallets, paypals",
          "baggies, orlando, shop, sell, amazon, buying, websitelol, drinkingpotpartyfood, businesszzzzzzzzz, foreversmdh",
          "disney, nflx, netflix, porn, troll, snap, hulu, espn, lil, trap",
          "company, companies, shareholders, invest, stubhub, stock, dividends, investors, earningsdividends, pashto",
          "stock, news, stocks, never, close, insider, past, last, soon, price",
          "paypal, credit, payment, qiwi, mercadomagicocom, nmgc, moneeeyyy, cashback, walmartca, payments",
          "company, leadership, ceo, management, companies, business, employees, pensions, invested, garolou",
          "orange, rid, cisco, csco, clown, deep, tech, analyst, analysislol, themhes",
          "down, end, tomorrow, break, until, slowly, lockdown, drops, after, wait",
          "buffett, buffet, slaughtered, jpm, warren, billions, banks, invests, stock, jp",
          "ebay, sellers, discount, seller, paypall, clown, fools, ebayweing, cancel, store",
          "nflx, earnings, netflix, market, streaming, price, stock, debt, subscribers, sell",
          "netflix, streaming, nflx, subscribers, hulu, netflixs, billion, revenue, movies, debt",
          "low, small, undervalued, dividend, underperformance, weak, cheap, poverty, short, lower",
          "sadderday, month, down, oct, last, nutshell, fading, glitch, downgrades, sinking",
          "pypl, down, low, lower, bottom, bottomed, melting, declining, downgraded, drop",
          "ceo, corporates, quinn, glad, speedy, love, best, good, amazing, great",
          "short, slow, tiny, shortjpm, garbageshort, shorties, timely, brains, shortie, little",
          "mute, muted, moron, idiot, stupid, nonsense, shut, disgrace, dry, lame",
          "china, trust, wolf, trumps, corn, tax, cheating, compromised, joes, singersactors",
          "amazon, ebay, provisioning, cheaper, fees, buy, amazons, swimming, pay, stores",
          "paypal, uspypl, semiconductor, bitcoin, technologies, fintech, tech, payments, morgan, technology",
          "amazon, buy, iphone, sales, sell, beat, buying, apple, billion, walmart",
          "amazon, grocery, drone, safest, home, monday, buy, salary, alexa, digital",
          "ebay, ebays, dying, ebaygotten, listingspeople, feebay, demise, dead, paypal, sell",
          "ebay, ebayl, cray, adventica, opens, billion, flying, account, new, come",
          "ebay, https, watchlist, ebays, paypal, gift, bitcoin, yahoo, bought, andrew",
          "ebay, mercari, onlinei, scammedbuyers, paypal, sales, recession, ebitda, paltry, cheap",
          "ebay, sellers, seller, buyers, auction, sell, selling, ebays, buyer, sale",
          "soulfood, honey",
          "sad, ambivalent, saddd, pathetically, upsets, dumbest, disappointing, oversold, terrible, pathetic",
          "osborne, bean, snitching, club, gifs, hades, rotflmao, failed, cakes, alumni",
          "pump, pumpity, river, hoser, mykle, water, tank, pulls, pumper, consolidation",
          "biden, trump, amazon, win, market, money, president, stock, over, buy",
          "jpm, billion, shareholders, babyboomers, manipulation, healthcare, pathalogical, millions, crownjewel, china",
          "down, earnings, sell, stock, below, oil, decline, lower, loss, weak",
          "jpm, jpmorgan, bitcoin, jp, morgan, billion, billions, hacker, cocaine, manipulation",
          "oil, jpm, shale, loans, saudi, gas, jp, fossil, drillers, drilling",
          "bank, banks, db, golubova, deutche, deutsche, awful, scary, aktiengesellschaftnyse, undervalued",
          "cut, dividend, dividends, bank, recession, warren, wacko, slaughtered, discount, cuts",
          "earnings, stock, price, buybacks, difficult, supply, marketcap, dividend, inexpensive, cant",
          "bank, banks, tax, profits, debt, inflation, bailout, economic, recession, buy",
          "banks, hsbc, bank, zions, bankrupt, supermarket, lehman, collapsed, imploding, bailouts",
          "bank, smart, obama, billions, pennies, god, banks, banking, demo, stole",
          "banks, bank, destroy, aliens, facebook, illegal, slaughter, banking, millennials, hate",
          "sickest, exagerrated, houstonearnings, unrecoverable, wholesale, shrinking, markets, disappointing, struggling, financials",
          "jpm, jpmorgan, jpmpj, chase, https, buffett, hitachi, jpmpd, buy, treasury",
          "jpm, banks, bank, jpmorgan, loans, jp, dividends, jpms, financials, banking",
          "donald, trumpbye, trump, rightful, alumnusmensa, tigers, reelected, yea, reelection, bac",
          "maga, democrats, demtards, votes, vote, michigan, amy, hunter, demtard, dem",
          "pypl, kurde, daynice, gluwno, polsce, canopy, gush, cgc, honey, valuations",
          "share, crammer, bought, price, earnings, always, ecommerce, steadily, growth, drop",
          "long, earnings, sell, apps, cameltoe, blah, malls, annually, dave, big",
          "split, shares, dividend, share, stocks, dividends, hoover, buyback, buybacks, bought",
          "long, grammy, keeper, vix, stay, winners, decades, since, keeping, owned",
          "options, investing, weeks, bought, stock, split, earlier, spark, foreclosure, investor",
          "millionaire, earning, earlly, hummer, devine, doable, skyrocketed, robust, increase, mrk",
          "buyback, bought, earnings, hit, nflxbye, charityand, strengthlooks, pivotalif, perioddespite, daysamazing",
          "experts, judgment, associates, thank, thanks, expert, love, interested, congrats, friends",
          "market, down, days, frustrating, months, selling, pentwater, lower, god, oversold",
          "earnings, nflx, sell, netflix, price, stock, movie, market, long, buy",
          "increase, comingstay, multimillionaire, fledged, increases, reevaluate, big, exceeding, raise, rise",
          "tomorrow, week, friday, decade, may, weeks, overdueas, agenusbio, cominglong, thursdaydmmmmdummmmdmmmmdmmmm",
          "switzerland, salvador, postand, rsince, speaka, amarin, why, amex, explain, benjo",
          "hunter, racist, demtards, shrill, burisma, america, sinister, fraud, trumps, wolf",
          "biden, trump, president, trumps, donald, election, covid, hunter, america, house",
          "agree, close, deal",
          "dividend, josephh, adr, differentiates, tia, paying, fixed, provide, payment, patient",
          "earnings, earningsoops, againweeeeeeeeback, hits, reparation, pypl, hit, index, checks, splits",
          "celgjuno, anticipating, helpful, above, north, reach, easily, priced, rise, nice",
          "buy, sell, bought, trade, buyer, sold, buying, targetduh, buyafter, tgifsell",
          "target, waitingggg, teshould, eryes, nick, yearwhere, yt, evan, tyler, price",
          "holeeee, grrrreat, errrrgh, yeahhhhhhhhhhhh, spoileralert, hahathe, beloooowww, eat, yhoo, hahahahahahaha",
          "nice, thanks, good, thank, yes, got, breakout, start, up, great"
         ],
         "textposition": "top center",
         "type": "scatter",
         "x": [
          9.845757484436035,
          8.5259428024292,
          9.242566108703613,
          12.841339111328125,
          9.758143424987793,
          13.215506553649902,
          8.972076416015625,
          8.809504508972168,
          9.440265655517578,
          9.62701416015625,
          13.146471977233887,
          13.165759086608887,
          13.075934410095215,
          13.231413841247559,
          9.193044662475586,
          9.569390296936035,
          11.677008628845215,
          6.997415542602539,
          6.061906814575195,
          7.411614894866943,
          9.009657859802246,
          9.168619155883789,
          10.00163459777832,
          12.248289108276367,
          6.910208225250244,
          8.885478019714355,
          6.69772481918335,
          9.410810470581055,
          5.605154514312744,
          7.077145099639893,
          8.109416007995605,
          9.939149856567383,
          7.487025737762451,
          12.234603881835938,
          11.253567695617676,
          9.529990196228027,
          7.926590442657471,
          8.591238975524902,
          8.153203964233398,
          7.9167160987854,
          7.649807929992676,
          7.804727077484131,
          5.828094482421875,
          5.323532581329346,
          4.897270679473877,
          11.464734077453613,
          7.824504852294922,
          6.510076999664307,
          8.032029151916504,
          8.267280578613281,
          7.5453972816467285,
          7.958008289337158,
          9.680816650390625,
          9.711709022521973,
          7.3479461669921875,
          7.634477138519287,
          8.897751808166504,
          6.0765228271484375,
          7.687732219696045,
          5.092498302459717,
          11.217215538024902,
          8.80544376373291,
          6.642899990081787,
          7.82786226272583,
          7.607010841369629,
          7.1228742599487305,
          6.135638236999512,
          11.464859962463379,
          5.698117256164551,
          5.902901649475098,
          9.305936813354492,
          6.692892551422119,
          5.335662364959717,
          7.547125339508057,
          7.600427150726318,
          10.366929054260254,
          9.431255340576172,
          10.0211763381958,
          12.542529106140137,
          9.88623332977295,
          9.614459991455078,
          5.132577896118164,
          7.119668960571289,
          9.265727043151855,
          7.704463005065918,
          8.242908477783203,
          7.748081207275391,
          12.248071670532227,
          11.309820175170898,
          8.72661304473877,
          6.268913745880127,
          12.544699668884277,
          9.503267288208008,
          4.901301383972168,
          12.115212440490723,
          5.682079792022705,
          5.392815113067627,
          6.166590213775635,
          5.194270133972168,
          7.071811199188232,
          5.8985676765441895,
          4.640698432922363,
          8.239461898803711,
          8.07178020477295,
          7.763901233673096,
          4.520477771759033,
          4.483447551727295,
          8.393128395080566,
          11.752910614013672,
          7.994441986083984,
          11.814188003540039,
          4.351144790649414,
          12.706883430480957,
          9.152667045593262,
          9.014373779296875,
          11.059592247009277,
          11.880743980407715,
          8.155457496643066,
          9.490814208984375,
          8.424433708190918,
          12.634742736816406,
          8.18315601348877,
          8.146835327148438,
          11.893726348876953,
          10.268547058105469,
          12.267427444458008,
          4.305912494659424,
          4.394144535064697,
          12.485359191894531,
          11.561863899230957,
          11.585969924926758,
          11.607828140258789,
          11.867925643920898,
          11.590041160583496,
          12.480937957763672,
          12.653216361999512
         ],
         "xaxis": "x",
         "y": [
          6.645849227905273,
          4.382559776306152,
          6.271876335144043,
          5.903049945831299,
          7.028278350830078,
          5.591579437255859,
          5.994919776916504,
          5.7196831703186035,
          5.571287155151367,
          6.475403308868408,
          6.11992883682251,
          5.820182800292969,
          5.897922992706299,
          5.88347053527832,
          3.9977810382843018,
          6.511209011077881,
          5.369593143463135,
          4.395256996154785,
          4.575425148010254,
          4.463008880615234,
          6.857952117919922,
          6.842980861663818,
          4.105144023895264,
          5.565215110778809,
          3.935606002807617,
          3.824282646179199,
          3.5620689392089844,
          2.5137243270874023,
          4.520777225494385,
          5.030628204345703,
          6.227145195007324,
          4.167950630187988,
          3.3386878967285156,
          5.970980167388916,
          5.224734783172607,
          2.443293333053589,
          2.224086046218872,
          2.241325855255127,
          6.205121040344238,
          1.9969254732131958,
          1.6293132305145264,
          2.0593838691711426,
          4.240672588348389,
          5.4780192375183105,
          5.323558330535889,
          4.577203273773193,
          3.0349814891815186,
          4.025266170501709,
          3.897465467453003,
          3.0897746086120605,
          5.294873237609863,
          3.687772512435913,
          6.984399795532227,
          4.261177062988281,
          3.696869373321533,
          3.007398843765259,
          5.891862392425537,
          4.232382774353027,
          1.568589210510254,
          4.794806003570557,
          5.953259468078613,
          2.4496681690216064,
          3.3876748085021973,
          2.1450142860412598,
          1.5878688097000122,
          4.716599464416504,
          4.8893585205078125,
          5.0041608810424805,
          5.264606475830078,
          4.305881500244141,
          5.715946674346924,
          4.007161617279053,
          4.633090019226074,
          1.9721068143844604,
          1.5394394397735596,
          6.1233811378479,
          5.723034858703613,
          6.484196662902832,
          5.184080600738525,
          6.703013896942139,
          6.815817356109619,
          5.192935943603516,
          3.178079843521118,
          2.407449722290039,
          2.4364840984344482,
          2.084106206893921,
          5.622873783111572,
          5.151792049407959,
          4.921701908111572,
          2.508662223815918,
          4.0053534507751465,
          6.445074558258057,
          6.8585734367370605,
          4.911008358001709,
          5.8568925857543945,
          5.3214802742004395,
          5.362875938415527,
          5.385502815246582,
          5.231873512268066,
          4.371706962585449,
          5.208853721618652,
          5.5010223388671875,
          6.06542444229126,
          2.9860455989837646,
          6.12938928604126,
          5.532576084136963,
          5.4958906173706055,
          6.113290309906006,
          5.445016860961914,
          3.0218875408172607,
          5.80966854095459,
          5.356559753417969,
          5.86063814163208,
          2.885798215866089,
          3.372189521789551,
          5.457456588745117,
          4.731969356536865,
          3.695369005203247,
          2.741673231124878,
          3.8774642944335938,
          5.424239158630371,
          3.864135503768921,
          3.8670783042907715,
          4.5072736740112305,
          4.3668904304504395,
          6.459851264953613,
          5.34269380569458,
          5.405613422393799,
          6.404862880706787,
          5.623282432556152,
          5.286517143249512,
          4.6298956871032715,
          5.372391700744629,
          5.154513835906982,
          6.345834732055664,
          6.086656093597412
         ],
         "yaxis": "y"
        }
       ],
       "layout": {
        "height": 800,
        "legend": {
         "tracegroupgap": 0
        },
        "margin": {
         "t": 60
        },
        "template": {
         "data": {
          "bar": [
           {
            "error_x": {
             "color": "#2a3f5f"
            },
            "error_y": {
             "color": "#2a3f5f"
            },
            "marker": {
             "line": {
              "color": "#E5ECF6",
              "width": 0.5
             }
            },
            "type": "bar"
           }
          ],
          "barpolar": [
           {
            "marker": {
             "line": {
              "color": "#E5ECF6",
              "width": 0.5
             }
            },
            "type": "barpolar"
           }
          ],
          "carpet": [
           {
            "aaxis": {
             "endlinecolor": "#2a3f5f",
             "gridcolor": "white",
             "linecolor": "white",
             "minorgridcolor": "white",
             "startlinecolor": "#2a3f5f"
            },
            "baxis": {
             "endlinecolor": "#2a3f5f",
             "gridcolor": "white",
             "linecolor": "white",
             "minorgridcolor": "white",
             "startlinecolor": "#2a3f5f"
            },
            "type": "carpet"
           }
          ],
          "choropleth": [
           {
            "colorbar": {
             "outlinewidth": 0,
             "ticks": ""
            },
            "type": "choropleth"
           }
          ],
          "contour": [
           {
            "colorbar": {
             "outlinewidth": 0,
             "ticks": ""
            },
            "colorscale": [
             [
              0,
              "#0d0887"
             ],
             [
              0.1111111111111111,
              "#46039f"
             ],
             [
              0.2222222222222222,
              "#7201a8"
             ],
             [
              0.3333333333333333,
              "#9c179e"
             ],
             [
              0.4444444444444444,
              "#bd3786"
             ],
             [
              0.5555555555555556,
              "#d8576b"
             ],
             [
              0.6666666666666666,
              "#ed7953"
             ],
             [
              0.7777777777777778,
              "#fb9f3a"
             ],
             [
              0.8888888888888888,
              "#fdca26"
             ],
             [
              1,
              "#f0f921"
             ]
            ],
            "type": "contour"
           }
          ],
          "contourcarpet": [
           {
            "colorbar": {
             "outlinewidth": 0,
             "ticks": ""
            },
            "type": "contourcarpet"
           }
          ],
          "heatmap": [
           {
            "colorbar": {
             "outlinewidth": 0,
             "ticks": ""
            },
            "colorscale": [
             [
              0,
              "#0d0887"
             ],
             [
              0.1111111111111111,
              "#46039f"
             ],
             [
              0.2222222222222222,
              "#7201a8"
             ],
             [
              0.3333333333333333,
              "#9c179e"
             ],
             [
              0.4444444444444444,
              "#bd3786"
             ],
             [
              0.5555555555555556,
              "#d8576b"
             ],
             [
              0.6666666666666666,
              "#ed7953"
             ],
             [
              0.7777777777777778,
              "#fb9f3a"
             ],
             [
              0.8888888888888888,
              "#fdca26"
             ],
             [
              1,
              "#f0f921"
             ]
            ],
            "type": "heatmap"
           }
          ],
          "heatmapgl": [
           {
            "colorbar": {
             "outlinewidth": 0,
             "ticks": ""
            },
            "colorscale": [
             [
              0,
              "#0d0887"
             ],
             [
              0.1111111111111111,
              "#46039f"
             ],
             [
              0.2222222222222222,
              "#7201a8"
             ],
             [
              0.3333333333333333,
              "#9c179e"
             ],
             [
              0.4444444444444444,
              "#bd3786"
             ],
             [
              0.5555555555555556,
              "#d8576b"
             ],
             [
              0.6666666666666666,
              "#ed7953"
             ],
             [
              0.7777777777777778,
              "#fb9f3a"
             ],
             [
              0.8888888888888888,
              "#fdca26"
             ],
             [
              1,
              "#f0f921"
             ]
            ],
            "type": "heatmapgl"
           }
          ],
          "histogram": [
           {
            "marker": {
             "colorbar": {
              "outlinewidth": 0,
              "ticks": ""
             }
            },
            "type": "histogram"
           }
          ],
          "histogram2d": [
           {
            "colorbar": {
             "outlinewidth": 0,
             "ticks": ""
            },
            "colorscale": [
             [
              0,
              "#0d0887"
             ],
             [
              0.1111111111111111,
              "#46039f"
             ],
             [
              0.2222222222222222,
              "#7201a8"
             ],
             [
              0.3333333333333333,
              "#9c179e"
             ],
             [
              0.4444444444444444,
              "#bd3786"
             ],
             [
              0.5555555555555556,
              "#d8576b"
             ],
             [
              0.6666666666666666,
              "#ed7953"
             ],
             [
              0.7777777777777778,
              "#fb9f3a"
             ],
             [
              0.8888888888888888,
              "#fdca26"
             ],
             [
              1,
              "#f0f921"
             ]
            ],
            "type": "histogram2d"
           }
          ],
          "histogram2dcontour": [
           {
            "colorbar": {
             "outlinewidth": 0,
             "ticks": ""
            },
            "colorscale": [
             [
              0,
              "#0d0887"
             ],
             [
              0.1111111111111111,
              "#46039f"
             ],
             [
              0.2222222222222222,
              "#7201a8"
             ],
             [
              0.3333333333333333,
              "#9c179e"
             ],
             [
              0.4444444444444444,
              "#bd3786"
             ],
             [
              0.5555555555555556,
              "#d8576b"
             ],
             [
              0.6666666666666666,
              "#ed7953"
             ],
             [
              0.7777777777777778,
              "#fb9f3a"
             ],
             [
              0.8888888888888888,
              "#fdca26"
             ],
             [
              1,
              "#f0f921"
             ]
            ],
            "type": "histogram2dcontour"
           }
          ],
          "mesh3d": [
           {
            "colorbar": {
             "outlinewidth": 0,
             "ticks": ""
            },
            "type": "mesh3d"
           }
          ],
          "parcoords": [
           {
            "line": {
             "colorbar": {
              "outlinewidth": 0,
              "ticks": ""
             }
            },
            "type": "parcoords"
           }
          ],
          "pie": [
           {
            "automargin": true,
            "type": "pie"
           }
          ],
          "scatter": [
           {
            "marker": {
             "colorbar": {
              "outlinewidth": 0,
              "ticks": ""
             }
            },
            "type": "scatter"
           }
          ],
          "scatter3d": [
           {
            "line": {
             "colorbar": {
              "outlinewidth": 0,
              "ticks": ""
             }
            },
            "marker": {
             "colorbar": {
              "outlinewidth": 0,
              "ticks": ""
             }
            },
            "type": "scatter3d"
           }
          ],
          "scattercarpet": [
           {
            "marker": {
             "colorbar": {
              "outlinewidth": 0,
              "ticks": ""
             }
            },
            "type": "scattercarpet"
           }
          ],
          "scattergeo": [
           {
            "marker": {
             "colorbar": {
              "outlinewidth": 0,
              "ticks": ""
             }
            },
            "type": "scattergeo"
           }
          ],
          "scattergl": [
           {
            "marker": {
             "colorbar": {
              "outlinewidth": 0,
              "ticks": ""
             }
            },
            "type": "scattergl"
           }
          ],
          "scattermapbox": [
           {
            "marker": {
             "colorbar": {
              "outlinewidth": 0,
              "ticks": ""
             }
            },
            "type": "scattermapbox"
           }
          ],
          "scatterpolar": [
           {
            "marker": {
             "colorbar": {
              "outlinewidth": 0,
              "ticks": ""
             }
            },
            "type": "scatterpolar"
           }
          ],
          "scatterpolargl": [
           {
            "marker": {
             "colorbar": {
              "outlinewidth": 0,
              "ticks": ""
             }
            },
            "type": "scatterpolargl"
           }
          ],
          "scatterternary": [
           {
            "marker": {
             "colorbar": {
              "outlinewidth": 0,
              "ticks": ""
             }
            },
            "type": "scatterternary"
           }
          ],
          "surface": [
           {
            "colorbar": {
             "outlinewidth": 0,
             "ticks": ""
            },
            "colorscale": [
             [
              0,
              "#0d0887"
             ],
             [
              0.1111111111111111,
              "#46039f"
             ],
             [
              0.2222222222222222,
              "#7201a8"
             ],
             [
              0.3333333333333333,
              "#9c179e"
             ],
             [
              0.4444444444444444,
              "#bd3786"
             ],
             [
              0.5555555555555556,
              "#d8576b"
             ],
             [
              0.6666666666666666,
              "#ed7953"
             ],
             [
              0.7777777777777778,
              "#fb9f3a"
             ],
             [
              0.8888888888888888,
              "#fdca26"
             ],
             [
              1,
              "#f0f921"
             ]
            ],
            "type": "surface"
           }
          ],
          "table": [
           {
            "cells": {
             "fill": {
              "color": "#EBF0F8"
             },
             "line": {
              "color": "white"
             }
            },
            "header": {
             "fill": {
              "color": "#C8D4E3"
             },
             "line": {
              "color": "white"
             }
            },
            "type": "table"
           }
          ]
         },
         "layout": {
          "annotationdefaults": {
           "arrowcolor": "#2a3f5f",
           "arrowhead": 0,
           "arrowwidth": 1
          },
          "autotypenumbers": "strict",
          "coloraxis": {
           "colorbar": {
            "outlinewidth": 0,
            "ticks": ""
           }
          },
          "colorscale": {
           "diverging": [
            [
             0,
             "#8e0152"
            ],
            [
             0.1,
             "#c51b7d"
            ],
            [
             0.2,
             "#de77ae"
            ],
            [
             0.3,
             "#f1b6da"
            ],
            [
             0.4,
             "#fde0ef"
            ],
            [
             0.5,
             "#f7f7f7"
            ],
            [
             0.6,
             "#e6f5d0"
            ],
            [
             0.7,
             "#b8e186"
            ],
            [
             0.8,
             "#7fbc41"
            ],
            [
             0.9,
             "#4d9221"
            ],
            [
             1,
             "#276419"
            ]
           ],
           "sequential": [
            [
             0,
             "#0d0887"
            ],
            [
             0.1111111111111111,
             "#46039f"
            ],
            [
             0.2222222222222222,
             "#7201a8"
            ],
            [
             0.3333333333333333,
             "#9c179e"
            ],
            [
             0.4444444444444444,
             "#bd3786"
            ],
            [
             0.5555555555555556,
             "#d8576b"
            ],
            [
             0.6666666666666666,
             "#ed7953"
            ],
            [
             0.7777777777777778,
             "#fb9f3a"
            ],
            [
             0.8888888888888888,
             "#fdca26"
            ],
            [
             1,
             "#f0f921"
            ]
           ],
           "sequentialminus": [
            [
             0,
             "#0d0887"
            ],
            [
             0.1111111111111111,
             "#46039f"
            ],
            [
             0.2222222222222222,
             "#7201a8"
            ],
            [
             0.3333333333333333,
             "#9c179e"
            ],
            [
             0.4444444444444444,
             "#bd3786"
            ],
            [
             0.5555555555555556,
             "#d8576b"
            ],
            [
             0.6666666666666666,
             "#ed7953"
            ],
            [
             0.7777777777777778,
             "#fb9f3a"
            ],
            [
             0.8888888888888888,
             "#fdca26"
            ],
            [
             1,
             "#f0f921"
            ]
           ]
          },
          "colorway": [
           "#636efa",
           "#EF553B",
           "#00cc96",
           "#ab63fa",
           "#FFA15A",
           "#19d3f3",
           "#FF6692",
           "#B6E880",
           "#FF97FF",
           "#FECB52"
          ],
          "font": {
           "color": "#2a3f5f"
          },
          "geo": {
           "bgcolor": "white",
           "lakecolor": "white",
           "landcolor": "#E5ECF6",
           "showlakes": true,
           "showland": true,
           "subunitcolor": "white"
          },
          "hoverlabel": {
           "align": "left"
          },
          "hovermode": "closest",
          "mapbox": {
           "style": "light"
          },
          "paper_bgcolor": "white",
          "plot_bgcolor": "#E5ECF6",
          "polar": {
           "angularaxis": {
            "gridcolor": "white",
            "linecolor": "white",
            "ticks": ""
           },
           "bgcolor": "#E5ECF6",
           "radialaxis": {
            "gridcolor": "white",
            "linecolor": "white",
            "ticks": ""
           }
          },
          "scene": {
           "xaxis": {
            "backgroundcolor": "#E5ECF6",
            "gridcolor": "white",
            "gridwidth": 2,
            "linecolor": "white",
            "showbackground": true,
            "ticks": "",
            "zerolinecolor": "white"
           },
           "yaxis": {
            "backgroundcolor": "#E5ECF6",
            "gridcolor": "white",
            "gridwidth": 2,
            "linecolor": "white",
            "showbackground": true,
            "ticks": "",
            "zerolinecolor": "white"
           },
           "zaxis": {
            "backgroundcolor": "#E5ECF6",
            "gridcolor": "white",
            "gridwidth": 2,
            "linecolor": "white",
            "showbackground": true,
            "ticks": "",
            "zerolinecolor": "white"
           }
          },
          "shapedefaults": {
           "line": {
            "color": "#2a3f5f"
           }
          },
          "ternary": {
           "aaxis": {
            "gridcolor": "white",
            "linecolor": "white",
            "ticks": ""
           },
           "baxis": {
            "gridcolor": "white",
            "linecolor": "white",
            "ticks": ""
           },
           "bgcolor": "#E5ECF6",
           "caxis": {
            "gridcolor": "white",
            "linecolor": "white",
            "ticks": ""
           }
          },
          "title": {
           "x": 0.05
          },
          "xaxis": {
           "automargin": true,
           "gridcolor": "white",
           "linecolor": "white",
           "ticks": "",
           "title": {
            "standoff": 15
           },
           "zerolinecolor": "white",
           "zerolinewidth": 2
          },
          "yaxis": {
           "automargin": true,
           "gridcolor": "white",
           "linecolor": "white",
           "ticks": "",
           "title": {
            "standoff": 15
           },
           "zerolinecolor": "white",
           "zerolinewidth": 2
          }
         }
        },
        "title": {
         "text": "GDP and Life Expectancy (Americas, 2007)"
        },
        "xaxis": {
         "anchor": "y",
         "domain": [
          0,
          1
         ],
         "title": {
          "text": "x"
         },
         "type": "log"
        },
        "yaxis": {
         "anchor": "x",
         "domain": [
          0,
          1
         ],
         "title": {
          "text": "y"
         }
        }
       }
      },
      "text/html": [
       "<div>                            <div id=\"5fc10a80-3877-41a6-b4ad-b64ef10c0f8b\" class=\"plotly-graph-div\" style=\"height:800px; width:100%;\"></div>            <script type=\"text/javascript\">                require([\"plotly\"], function(Plotly) {                    window.PLOTLYENV=window.PLOTLYENV || {};                                    if (document.getElementById(\"5fc10a80-3877-41a6-b4ad-b64ef10c0f8b\")) {                    Plotly.newPlot(                        \"5fc10a80-3877-41a6-b4ad-b64ef10c0f8b\",                        [{\"hovertemplate\": \"x=%{x}<br>y=%{y}<br>words=%{text}<extra></extra>\", \"legendgroup\": \"\", \"marker\": {\"color\": \"#636efa\", \"symbol\": \"circle\"}, \"mode\": \"markers+text\", \"name\": \"\", \"orientation\": \"v\", \"showlegend\": false, \"text\": [\"mkt, junk, than\", \"\", \"hk, down, low, kung, ching, weak, garbage, bottom, china, short\", \"hk, low, dip, never\", \"blockchain\", \"hsbc, hsbcpa, julien, british, rbc, dvd, chip, paying, blue, bank\", \"hsbc, hsbcpa, low, down, boycotthsbc, bottomed, silent, boycott, lows, nope\", \"hsbc, hsbcpa\", \"abb\", \"down, downsizing\", \"cern\", \"aon, high, nepotism, eastern, open, exciting, alert, er, growth, coming\", \"abb, abnb, sbux, bmrr, abbabb, bac, bldp, expansion, ba, opened\", \"cern, cerner, carnac, making, aapl, buy\", \"breakdown, sweet, premarket, short, jan, fleeced, smartypants, nicholas, nellies, downtrend\", \"bmy, dragger, dow, revisit, ytd, bristolmyers, squibb, better, week\", \"dip, dips, plug, goog, marshmallows, suckonthat, worrylololol, gooo, subtitles, rips\", \"masks, mask, distributors, products, virus, company, business, manufacturing, machines, depot\", \"cisco, csco, trumps, trump, joe, biden, rich, voting, dem, election\", \"broker, math, sackless, website, poor, canaries, molest, ebay, ugly, fake\", \"bum, straggler, rhyme, languishing, pointless, bet, dopey, shareholder, mmm, longterm\", \"cheerleader, ebay, fatboy, shaddup, stanely, jcpenny, nguyen, carole, gnbt, dictionary\", \"monday, shrs, raw, cyber, mondaylook, tuesday, quarantines, resumed, evercore, kramer\", \"rocket, maduro, lightyear, liftoff, seatbelts, venezuela, launching, lift, swings, speedy\", \"germany, german, pfe, worse, discounts, burn, poorliterally, kleinanzeigen, marketwhich, divloser\", \"sept, oct, month, day, days, feb, nov, longest, july, aug\", \"uber, silver, paypal, fintech, markethence, uberstop, whooptydoothis, buyershow, uberoh, investmentyikes\", \"bank, economic, money, banks, inflation, lot, boost, rates, retailers, tax\", \"everglades, alligator, cousin, mom, bmy, turtle, tampa, florida, swamp, boat\", \"ebay, sellers, hk, paypal, business, distributor, cheap, distributors, buying, money\", \"johnkelly, wit, spew, insanity, jon, ignored, rich, stupidity, wallows, everkeep\", \"july, june, feb, octoberi, back, august, refiled, julyi, planing, forever\", \"silver, gold, ounce, metal, slaves, morgan, asset, banks, diamond, bankers\", \"sara, madbezos, happy, lolsaragreen, caitlyns, california, queenie, love, blonde, hug\", \"cramer, jake, paypal, cramers, charley, parabolic, paypals, building, breakout, buffet\", \"pipeline, pharma, usd, biotech, bargain, highgiddy, pharmasthe, lizzybreak, highsthat, shrs\", \"apple, aapl, iphone, buy, market, tech, sell, sales, shares, apples\", \"robotics, robots, spacex, robot, worlds, futuristic, bionic, robotic, automated, cybersecurity\", \"ceo, removed, management, dumba, disinfect, terminated, dismantled, resigns, madness, ralph\", \"tesla, apple, applefi, sold, iphone, apples, millions, flush, phones, nobody\", \"tesla, netflix, subscribers, nflx, enthusiasm, broadcom, earnings, disney, shows, buy\", \"tesla, amazon, stock, shares, sell, stocks, bought, share, cars, buying\", \"earnings, netflix, nflx, dots, sales, media, cbs, sell, insane, trading\", \"fraud, terrorist, casino, conman, treason, ponzi, greed, wealth, netflix, terrorists\", \"rockefeller, flu, pandemic, virus, coronavirus, experts, corona, ceo, ge, injured\", \"fda, cancer, cells, bristol, biotech, medicine, bristolmyers, nivolumab, alphabeta, editas\", \"vaccine, vaccines, covid, virus, amazon, vaccinated, inhaled, pfizer, avonex, shopping\", \"drug, patients, pbms, fda, pharmacy, dbtunr, cvrs, prescription, pharmacists, insurers\", \"fda, cvr, cvrs, inspection, dbtunr, lisocel, approvals, inspecting, diligent, inspectors\", \"buy, bought, buying, everyone, sell, go, drop, nflx, cancelled, entertainment\", \"spam, yahoo, filters, bot, eliots, posted, tubes, removing, spamming, spammers\", \"moon, cat, realtor, strategy, hastings, price, bounce, wait, till, beds\", \"garbage, trash, junk, uninvestible, oceans, seas, frivolous, pile, anti, rick\", \"green, dopamine, levodopa, parkinsons, doses, medicine, treat, opens, dopadecarboxylase, carbidopalevodopa\", \"bulls, bull, bears, profits, nflx, wish, woo, bear, drinks, selling\", \"shorts, short, sell, nflx, shares, price, stock, earnings, buy, tomorrow\", \"ebayl, ebay, low, down, sucks, unethical, hahahahahaha, correction, financial, late\", \"sara, ebay, ecommercebytes, poor, nick, seller, stalker, tree, retailers, investors\", \"apple, disney, netflix, streaming, nflx, hbo, cash, movies, fraud, quality\", \"ebay, nick, troll, garbage, trolls, trash, trolling, idiot, idiots, yahoo\", \"cheap, dabby, cheapcheap, cheaper, plastics, reduced, expense, free, light, boost\", \"bitcoin, paypal, crypto, online, stocknews, stadiumsput, cash, ledger, trading, puzzle\", \"mining, crypto, coins, paypal, cryptocurrency, bitcoin, usersminers, stoneco, wallets, paypals\", \"baggies, orlando, shop, sell, amazon, buying, websitelol, drinkingpotpartyfood, businesszzzzzzzzz, foreversmdh\", \"disney, nflx, netflix, porn, troll, snap, hulu, espn, lil, trap\", \"company, companies, shareholders, invest, stubhub, stock, dividends, investors, earningsdividends, pashto\", \"stock, news, stocks, never, close, insider, past, last, soon, price\", \"paypal, credit, payment, qiwi, mercadomagicocom, nmgc, moneeeyyy, cashback, walmartca, payments\", \"company, leadership, ceo, management, companies, business, employees, pensions, invested, garolou\", \"orange, rid, cisco, csco, clown, deep, tech, analyst, analysislol, themhes\", \"down, end, tomorrow, break, until, slowly, lockdown, drops, after, wait\", \"buffett, buffet, slaughtered, jpm, warren, billions, banks, invests, stock, jp\", \"ebay, sellers, discount, seller, paypall, clown, fools, ebayweing, cancel, store\", \"nflx, earnings, netflix, market, streaming, price, stock, debt, subscribers, sell\", \"netflix, streaming, nflx, subscribers, hulu, netflixs, billion, revenue, movies, debt\", \"low, small, undervalued, dividend, underperformance, weak, cheap, poverty, short, lower\", \"sadderday, month, down, oct, last, nutshell, fading, glitch, downgrades, sinking\", \"pypl, down, low, lower, bottom, bottomed, melting, declining, downgraded, drop\", \"ceo, corporates, quinn, glad, speedy, love, best, good, amazing, great\", \"short, slow, tiny, shortjpm, garbageshort, shorties, timely, brains, shortie, little\", \"mute, muted, moron, idiot, stupid, nonsense, shut, disgrace, dry, lame\", \"china, trust, wolf, trumps, corn, tax, cheating, compromised, joes, singersactors\", \"amazon, ebay, provisioning, cheaper, fees, buy, amazons, swimming, pay, stores\", \"paypal, uspypl, semiconductor, bitcoin, technologies, fintech, tech, payments, morgan, technology\", \"amazon, buy, iphone, sales, sell, beat, buying, apple, billion, walmart\", \"amazon, grocery, drone, safest, home, monday, buy, salary, alexa, digital\", \"ebay, ebays, dying, ebaygotten, listingspeople, feebay, demise, dead, paypal, sell\", \"ebay, ebayl, cray, adventica, opens, billion, flying, account, new, come\", \"ebay, https, watchlist, ebays, paypal, gift, bitcoin, yahoo, bought, andrew\", \"ebay, mercari, onlinei, scammedbuyers, paypal, sales, recession, ebitda, paltry, cheap\", \"ebay, sellers, seller, buyers, auction, sell, selling, ebays, buyer, sale\", \"soulfood, honey\", \"sad, ambivalent, saddd, pathetically, upsets, dumbest, disappointing, oversold, terrible, pathetic\", \"osborne, bean, snitching, club, gifs, hades, rotflmao, failed, cakes, alumni\", \"pump, pumpity, river, hoser, mykle, water, tank, pulls, pumper, consolidation\", \"biden, trump, amazon, win, market, money, president, stock, over, buy\", \"jpm, billion, shareholders, babyboomers, manipulation, healthcare, pathalogical, millions, crownjewel, china\", \"down, earnings, sell, stock, below, oil, decline, lower, loss, weak\", \"jpm, jpmorgan, bitcoin, jp, morgan, billion, billions, hacker, cocaine, manipulation\", \"oil, jpm, shale, loans, saudi, gas, jp, fossil, drillers, drilling\", \"bank, banks, db, golubova, deutche, deutsche, awful, scary, aktiengesellschaftnyse, undervalued\", \"cut, dividend, dividends, bank, recession, warren, wacko, slaughtered, discount, cuts\", \"earnings, stock, price, buybacks, difficult, supply, marketcap, dividend, inexpensive, cant\", \"bank, banks, tax, profits, debt, inflation, bailout, economic, recession, buy\", \"banks, hsbc, bank, zions, bankrupt, supermarket, lehman, collapsed, imploding, bailouts\", \"bank, smart, obama, billions, pennies, god, banks, banking, demo, stole\", \"banks, bank, destroy, aliens, facebook, illegal, slaughter, banking, millennials, hate\", \"sickest, exagerrated, houstonearnings, unrecoverable, wholesale, shrinking, markets, disappointing, struggling, financials\", \"jpm, jpmorgan, jpmpj, chase, https, buffett, hitachi, jpmpd, buy, treasury\", \"jpm, banks, bank, jpmorgan, loans, jp, dividends, jpms, financials, banking\", \"donald, trumpbye, trump, rightful, alumnusmensa, tigers, reelected, yea, reelection, bac\", \"maga, democrats, demtards, votes, vote, michigan, amy, hunter, demtard, dem\", \"pypl, kurde, daynice, gluwno, polsce, canopy, gush, cgc, honey, valuations\", \"share, crammer, bought, price, earnings, always, ecommerce, steadily, growth, drop\", \"long, earnings, sell, apps, cameltoe, blah, malls, annually, dave, big\", \"split, shares, dividend, share, stocks, dividends, hoover, buyback, buybacks, bought\", \"long, grammy, keeper, vix, stay, winners, decades, since, keeping, owned\", \"options, investing, weeks, bought, stock, split, earlier, spark, foreclosure, investor\", \"millionaire, earning, earlly, hummer, devine, doable, skyrocketed, robust, increase, mrk\", \"buyback, bought, earnings, hit, nflxbye, charityand, strengthlooks, pivotalif, perioddespite, daysamazing\", \"experts, judgment, associates, thank, thanks, expert, love, interested, congrats, friends\", \"market, down, days, frustrating, months, selling, pentwater, lower, god, oversold\", \"earnings, nflx, sell, netflix, price, stock, movie, market, long, buy\", \"increase, comingstay, multimillionaire, fledged, increases, reevaluate, big, exceeding, raise, rise\", \"tomorrow, week, friday, decade, may, weeks, overdueas, agenusbio, cominglong, thursdaydmmmmdummmmdmmmmdmmmm\", \"switzerland, salvador, postand, rsince, speaka, amarin, why, amex, explain, benjo\", \"hunter, racist, demtards, shrill, burisma, america, sinister, fraud, trumps, wolf\", \"biden, trump, president, trumps, donald, election, covid, hunter, america, house\", \"agree, close, deal\", \"dividend, josephh, adr, differentiates, tia, paying, fixed, provide, payment, patient\", \"earnings, earningsoops, againweeeeeeeeback, hits, reparation, pypl, hit, index, checks, splits\", \"celgjuno, anticipating, helpful, above, north, reach, easily, priced, rise, nice\", \"buy, sell, bought, trade, buyer, sold, buying, targetduh, buyafter, tgifsell\", \"target, waitingggg, teshould, eryes, nick, yearwhere, yt, evan, tyler, price\", \"holeeee, grrrreat, errrrgh, yeahhhhhhhhhhhh, spoileralert, hahathe, beloooowww, eat, yhoo, hahahahahahaha\", \"nice, thanks, good, thank, yes, got, breakout, start, up, great\"], \"textposition\": \"top center\", \"type\": \"scatter\", \"x\": [9.845757484436035, 8.5259428024292, 9.242566108703613, 12.841339111328125, 9.758143424987793, 13.215506553649902, 8.972076416015625, 8.809504508972168, 9.440265655517578, 9.62701416015625, 13.146471977233887, 13.165759086608887, 13.075934410095215, 13.231413841247559, 9.193044662475586, 9.569390296936035, 11.677008628845215, 6.997415542602539, 6.061906814575195, 7.411614894866943, 9.009657859802246, 9.168619155883789, 10.00163459777832, 12.248289108276367, 6.910208225250244, 8.885478019714355, 6.69772481918335, 9.410810470581055, 5.605154514312744, 7.077145099639893, 8.109416007995605, 9.939149856567383, 7.487025737762451, 12.234603881835938, 11.253567695617676, 9.529990196228027, 7.926590442657471, 8.591238975524902, 8.153203964233398, 7.9167160987854, 7.649807929992676, 7.804727077484131, 5.828094482421875, 5.323532581329346, 4.897270679473877, 11.464734077453613, 7.824504852294922, 6.510076999664307, 8.032029151916504, 8.267280578613281, 7.5453972816467285, 7.958008289337158, 9.680816650390625, 9.711709022521973, 7.3479461669921875, 7.634477138519287, 8.897751808166504, 6.0765228271484375, 7.687732219696045, 5.092498302459717, 11.217215538024902, 8.80544376373291, 6.642899990081787, 7.82786226272583, 7.607010841369629, 7.1228742599487305, 6.135638236999512, 11.464859962463379, 5.698117256164551, 5.902901649475098, 9.305936813354492, 6.692892551422119, 5.335662364959717, 7.547125339508057, 7.600427150726318, 10.366929054260254, 9.431255340576172, 10.0211763381958, 12.542529106140137, 9.88623332977295, 9.614459991455078, 5.132577896118164, 7.119668960571289, 9.265727043151855, 7.704463005065918, 8.242908477783203, 7.748081207275391, 12.248071670532227, 11.309820175170898, 8.72661304473877, 6.268913745880127, 12.544699668884277, 9.503267288208008, 4.901301383972168, 12.115212440490723, 5.682079792022705, 5.392815113067627, 6.166590213775635, 5.194270133972168, 7.071811199188232, 5.8985676765441895, 4.640698432922363, 8.239461898803711, 8.07178020477295, 7.763901233673096, 4.520477771759033, 4.483447551727295, 8.393128395080566, 11.752910614013672, 7.994441986083984, 11.814188003540039, 4.351144790649414, 12.706883430480957, 9.152667045593262, 9.014373779296875, 11.059592247009277, 11.880743980407715, 8.155457496643066, 9.490814208984375, 8.424433708190918, 12.634742736816406, 8.18315601348877, 8.146835327148438, 11.893726348876953, 10.268547058105469, 12.267427444458008, 4.305912494659424, 4.394144535064697, 12.485359191894531, 11.561863899230957, 11.585969924926758, 11.607828140258789, 11.867925643920898, 11.590041160583496, 12.480937957763672, 12.653216361999512], \"xaxis\": \"x\", \"y\": [6.645849227905273, 4.382559776306152, 6.271876335144043, 5.903049945831299, 7.028278350830078, 5.591579437255859, 5.994919776916504, 5.7196831703186035, 5.571287155151367, 6.475403308868408, 6.11992883682251, 5.820182800292969, 5.897922992706299, 5.88347053527832, 3.9977810382843018, 6.511209011077881, 5.369593143463135, 4.395256996154785, 4.575425148010254, 4.463008880615234, 6.857952117919922, 6.842980861663818, 4.105144023895264, 5.565215110778809, 3.935606002807617, 3.824282646179199, 3.5620689392089844, 2.5137243270874023, 4.520777225494385, 5.030628204345703, 6.227145195007324, 4.167950630187988, 3.3386878967285156, 5.970980167388916, 5.224734783172607, 2.443293333053589, 2.224086046218872, 2.241325855255127, 6.205121040344238, 1.9969254732131958, 1.6293132305145264, 2.0593838691711426, 4.240672588348389, 5.4780192375183105, 5.323558330535889, 4.577203273773193, 3.0349814891815186, 4.025266170501709, 3.897465467453003, 3.0897746086120605, 5.294873237609863, 3.687772512435913, 6.984399795532227, 4.261177062988281, 3.696869373321533, 3.007398843765259, 5.891862392425537, 4.232382774353027, 1.568589210510254, 4.794806003570557, 5.953259468078613, 2.4496681690216064, 3.3876748085021973, 2.1450142860412598, 1.5878688097000122, 4.716599464416504, 4.8893585205078125, 5.0041608810424805, 5.264606475830078, 4.305881500244141, 5.715946674346924, 4.007161617279053, 4.633090019226074, 1.9721068143844604, 1.5394394397735596, 6.1233811378479, 5.723034858703613, 6.484196662902832, 5.184080600738525, 6.703013896942139, 6.815817356109619, 5.192935943603516, 3.178079843521118, 2.407449722290039, 2.4364840984344482, 2.084106206893921, 5.622873783111572, 5.151792049407959, 4.921701908111572, 2.508662223815918, 4.0053534507751465, 6.445074558258057, 6.8585734367370605, 4.911008358001709, 5.8568925857543945, 5.3214802742004395, 5.362875938415527, 5.385502815246582, 5.231873512268066, 4.371706962585449, 5.208853721618652, 5.5010223388671875, 6.06542444229126, 2.9860455989837646, 6.12938928604126, 5.532576084136963, 5.4958906173706055, 6.113290309906006, 5.445016860961914, 3.0218875408172607, 5.80966854095459, 5.356559753417969, 5.86063814163208, 2.885798215866089, 3.372189521789551, 5.457456588745117, 4.731969356536865, 3.695369005203247, 2.741673231124878, 3.8774642944335938, 5.424239158630371, 3.864135503768921, 3.8670783042907715, 4.5072736740112305, 4.3668904304504395, 6.459851264953613, 5.34269380569458, 5.405613422393799, 6.404862880706787, 5.623282432556152, 5.286517143249512, 4.6298956871032715, 5.372391700744629, 5.154513835906982, 6.345834732055664, 6.086656093597412], \"yaxis\": \"y\"}],                        {\"height\": 800, \"legend\": {\"tracegroupgap\": 0}, \"margin\": {\"t\": 60}, \"template\": {\"data\": {\"bar\": [{\"error_x\": {\"color\": \"#2a3f5f\"}, \"error_y\": {\"color\": \"#2a3f5f\"}, \"marker\": {\"line\": {\"color\": \"#E5ECF6\", \"width\": 0.5}}, \"type\": \"bar\"}], \"barpolar\": [{\"marker\": {\"line\": {\"color\": \"#E5ECF6\", \"width\": 0.5}}, \"type\": \"barpolar\"}], \"carpet\": [{\"aaxis\": {\"endlinecolor\": \"#2a3f5f\", \"gridcolor\": \"white\", \"linecolor\": \"white\", \"minorgridcolor\": \"white\", \"startlinecolor\": \"#2a3f5f\"}, \"baxis\": {\"endlinecolor\": \"#2a3f5f\", \"gridcolor\": \"white\", \"linecolor\": \"white\", \"minorgridcolor\": \"white\", \"startlinecolor\": \"#2a3f5f\"}, \"type\": \"carpet\"}], \"choropleth\": [{\"colorbar\": {\"outlinewidth\": 0, \"ticks\": \"\"}, \"type\": \"choropleth\"}], \"contour\": [{\"colorbar\": {\"outlinewidth\": 0, \"ticks\": \"\"}, \"colorscale\": [[0.0, \"#0d0887\"], [0.1111111111111111, \"#46039f\"], [0.2222222222222222, \"#7201a8\"], [0.3333333333333333, \"#9c179e\"], [0.4444444444444444, \"#bd3786\"], [0.5555555555555556, \"#d8576b\"], [0.6666666666666666, \"#ed7953\"], [0.7777777777777778, \"#fb9f3a\"], [0.8888888888888888, \"#fdca26\"], [1.0, \"#f0f921\"]], \"type\": \"contour\"}], \"contourcarpet\": [{\"colorbar\": {\"outlinewidth\": 0, \"ticks\": \"\"}, \"type\": \"contourcarpet\"}], \"heatmap\": [{\"colorbar\": {\"outlinewidth\": 0, \"ticks\": \"\"}, \"colorscale\": [[0.0, \"#0d0887\"], [0.1111111111111111, \"#46039f\"], [0.2222222222222222, \"#7201a8\"], [0.3333333333333333, \"#9c179e\"], [0.4444444444444444, \"#bd3786\"], [0.5555555555555556, \"#d8576b\"], [0.6666666666666666, \"#ed7953\"], [0.7777777777777778, \"#fb9f3a\"], [0.8888888888888888, \"#fdca26\"], [1.0, \"#f0f921\"]], \"type\": \"heatmap\"}], \"heatmapgl\": [{\"colorbar\": {\"outlinewidth\": 0, \"ticks\": \"\"}, \"colorscale\": [[0.0, \"#0d0887\"], [0.1111111111111111, \"#46039f\"], [0.2222222222222222, \"#7201a8\"], [0.3333333333333333, \"#9c179e\"], [0.4444444444444444, \"#bd3786\"], [0.5555555555555556, \"#d8576b\"], [0.6666666666666666, \"#ed7953\"], [0.7777777777777778, \"#fb9f3a\"], [0.8888888888888888, \"#fdca26\"], [1.0, \"#f0f921\"]], \"type\": \"heatmapgl\"}], \"histogram\": [{\"marker\": {\"colorbar\": {\"outlinewidth\": 0, \"ticks\": \"\"}}, \"type\": \"histogram\"}], \"histogram2d\": [{\"colorbar\": {\"outlinewidth\": 0, \"ticks\": \"\"}, \"colorscale\": [[0.0, \"#0d0887\"], [0.1111111111111111, \"#46039f\"], [0.2222222222222222, \"#7201a8\"], [0.3333333333333333, \"#9c179e\"], [0.4444444444444444, \"#bd3786\"], [0.5555555555555556, \"#d8576b\"], [0.6666666666666666, \"#ed7953\"], [0.7777777777777778, \"#fb9f3a\"], [0.8888888888888888, \"#fdca26\"], [1.0, \"#f0f921\"]], \"type\": \"histogram2d\"}], \"histogram2dcontour\": [{\"colorbar\": {\"outlinewidth\": 0, \"ticks\": \"\"}, \"colorscale\": [[0.0, \"#0d0887\"], [0.1111111111111111, \"#46039f\"], [0.2222222222222222, \"#7201a8\"], [0.3333333333333333, \"#9c179e\"], [0.4444444444444444, \"#bd3786\"], [0.5555555555555556, \"#d8576b\"], [0.6666666666666666, \"#ed7953\"], [0.7777777777777778, \"#fb9f3a\"], [0.8888888888888888, \"#fdca26\"], [1.0, \"#f0f921\"]], \"type\": \"histogram2dcontour\"}], \"mesh3d\": [{\"colorbar\": {\"outlinewidth\": 0, \"ticks\": \"\"}, \"type\": \"mesh3d\"}], \"parcoords\": [{\"line\": {\"colorbar\": {\"outlinewidth\": 0, \"ticks\": \"\"}}, \"type\": \"parcoords\"}], \"pie\": [{\"automargin\": true, \"type\": \"pie\"}], \"scatter\": [{\"marker\": {\"colorbar\": {\"outlinewidth\": 0, \"ticks\": \"\"}}, \"type\": \"scatter\"}], \"scatter3d\": [{\"line\": {\"colorbar\": {\"outlinewidth\": 0, \"ticks\": \"\"}}, \"marker\": {\"colorbar\": {\"outlinewidth\": 0, \"ticks\": \"\"}}, \"type\": \"scatter3d\"}], \"scattercarpet\": [{\"marker\": {\"colorbar\": {\"outlinewidth\": 0, \"ticks\": \"\"}}, \"type\": \"scattercarpet\"}], \"scattergeo\": [{\"marker\": {\"colorbar\": {\"outlinewidth\": 0, \"ticks\": \"\"}}, \"type\": \"scattergeo\"}], \"scattergl\": [{\"marker\": {\"colorbar\": {\"outlinewidth\": 0, \"ticks\": \"\"}}, \"type\": \"scattergl\"}], \"scattermapbox\": [{\"marker\": {\"colorbar\": {\"outlinewidth\": 0, \"ticks\": \"\"}}, \"type\": \"scattermapbox\"}], \"scatterpolar\": [{\"marker\": {\"colorbar\": {\"outlinewidth\": 0, \"ticks\": \"\"}}, \"type\": \"scatterpolar\"}], \"scatterpolargl\": [{\"marker\": {\"colorbar\": {\"outlinewidth\": 0, \"ticks\": \"\"}}, \"type\": \"scatterpolargl\"}], \"scatterternary\": [{\"marker\": {\"colorbar\": {\"outlinewidth\": 0, \"ticks\": \"\"}}, \"type\": \"scatterternary\"}], \"surface\": [{\"colorbar\": {\"outlinewidth\": 0, \"ticks\": \"\"}, \"colorscale\": [[0.0, \"#0d0887\"], [0.1111111111111111, \"#46039f\"], [0.2222222222222222, \"#7201a8\"], [0.3333333333333333, \"#9c179e\"], [0.4444444444444444, \"#bd3786\"], [0.5555555555555556, \"#d8576b\"], [0.6666666666666666, \"#ed7953\"], [0.7777777777777778, \"#fb9f3a\"], [0.8888888888888888, \"#fdca26\"], [1.0, \"#f0f921\"]], \"type\": \"surface\"}], \"table\": [{\"cells\": {\"fill\": {\"color\": \"#EBF0F8\"}, \"line\": {\"color\": \"white\"}}, \"header\": {\"fill\": {\"color\": \"#C8D4E3\"}, \"line\": {\"color\": \"white\"}}, \"type\": \"table\"}]}, \"layout\": {\"annotationdefaults\": {\"arrowcolor\": \"#2a3f5f\", \"arrowhead\": 0, \"arrowwidth\": 1}, \"autotypenumbers\": \"strict\", \"coloraxis\": {\"colorbar\": {\"outlinewidth\": 0, \"ticks\": \"\"}}, \"colorscale\": {\"diverging\": [[0, \"#8e0152\"], [0.1, \"#c51b7d\"], [0.2, \"#de77ae\"], [0.3, \"#f1b6da\"], [0.4, \"#fde0ef\"], [0.5, \"#f7f7f7\"], [0.6, \"#e6f5d0\"], [0.7, \"#b8e186\"], [0.8, \"#7fbc41\"], [0.9, \"#4d9221\"], [1, \"#276419\"]], \"sequential\": [[0.0, \"#0d0887\"], [0.1111111111111111, \"#46039f\"], [0.2222222222222222, \"#7201a8\"], [0.3333333333333333, \"#9c179e\"], [0.4444444444444444, \"#bd3786\"], [0.5555555555555556, \"#d8576b\"], [0.6666666666666666, \"#ed7953\"], [0.7777777777777778, \"#fb9f3a\"], [0.8888888888888888, \"#fdca26\"], [1.0, \"#f0f921\"]], \"sequentialminus\": [[0.0, \"#0d0887\"], [0.1111111111111111, \"#46039f\"], [0.2222222222222222, \"#7201a8\"], [0.3333333333333333, \"#9c179e\"], [0.4444444444444444, \"#bd3786\"], [0.5555555555555556, \"#d8576b\"], [0.6666666666666666, \"#ed7953\"], [0.7777777777777778, \"#fb9f3a\"], [0.8888888888888888, \"#fdca26\"], [1.0, \"#f0f921\"]]}, \"colorway\": [\"#636efa\", \"#EF553B\", \"#00cc96\", \"#ab63fa\", \"#FFA15A\", \"#19d3f3\", \"#FF6692\", \"#B6E880\", \"#FF97FF\", \"#FECB52\"], \"font\": {\"color\": \"#2a3f5f\"}, \"geo\": {\"bgcolor\": \"white\", \"lakecolor\": \"white\", \"landcolor\": \"#E5ECF6\", \"showlakes\": true, \"showland\": true, \"subunitcolor\": \"white\"}, \"hoverlabel\": {\"align\": \"left\"}, \"hovermode\": \"closest\", \"mapbox\": {\"style\": \"light\"}, \"paper_bgcolor\": \"white\", \"plot_bgcolor\": \"#E5ECF6\", \"polar\": {\"angularaxis\": {\"gridcolor\": \"white\", \"linecolor\": \"white\", \"ticks\": \"\"}, \"bgcolor\": \"#E5ECF6\", \"radialaxis\": {\"gridcolor\": \"white\", \"linecolor\": \"white\", \"ticks\": \"\"}}, \"scene\": {\"xaxis\": {\"backgroundcolor\": \"#E5ECF6\", \"gridcolor\": \"white\", \"gridwidth\": 2, \"linecolor\": \"white\", \"showbackground\": true, \"ticks\": \"\", \"zerolinecolor\": \"white\"}, \"yaxis\": {\"backgroundcolor\": \"#E5ECF6\", \"gridcolor\": \"white\", \"gridwidth\": 2, \"linecolor\": \"white\", \"showbackground\": true, \"ticks\": \"\", \"zerolinecolor\": \"white\"}, \"zaxis\": {\"backgroundcolor\": \"#E5ECF6\", \"gridcolor\": \"white\", \"gridwidth\": 2, \"linecolor\": \"white\", \"showbackground\": true, \"ticks\": \"\", \"zerolinecolor\": \"white\"}}, \"shapedefaults\": {\"line\": {\"color\": \"#2a3f5f\"}}, \"ternary\": {\"aaxis\": {\"gridcolor\": \"white\", \"linecolor\": \"white\", \"ticks\": \"\"}, \"baxis\": {\"gridcolor\": \"white\", \"linecolor\": \"white\", \"ticks\": \"\"}, \"bgcolor\": \"#E5ECF6\", \"caxis\": {\"gridcolor\": \"white\", \"linecolor\": \"white\", \"ticks\": \"\"}}, \"title\": {\"x\": 0.05}, \"xaxis\": {\"automargin\": true, \"gridcolor\": \"white\", \"linecolor\": \"white\", \"ticks\": \"\", \"title\": {\"standoff\": 15}, \"zerolinecolor\": \"white\", \"zerolinewidth\": 2}, \"yaxis\": {\"automargin\": true, \"gridcolor\": \"white\", \"linecolor\": \"white\", \"ticks\": \"\", \"title\": {\"standoff\": 15}, \"zerolinecolor\": \"white\", \"zerolinewidth\": 2}}}, \"title\": {\"text\": \"GDP and Life Expectancy (Americas, 2007)\"}, \"xaxis\": {\"anchor\": \"y\", \"domain\": [0.0, 1.0], \"title\": {\"text\": \"x\"}, \"type\": \"log\"}, \"yaxis\": {\"anchor\": \"x\", \"domain\": [0.0, 1.0], \"title\": {\"text\": \"y\"}}},                        {\"responsive\": true}                    ).then(function(){\n",
       "                            \n",
       "var gd = document.getElementById('5fc10a80-3877-41a6-b4ad-b64ef10c0f8b');\n",
       "var x = new MutationObserver(function (mutations, observer) {{\n",
       "        var display = window.getComputedStyle(gd).display;\n",
       "        if (!display || display === 'none') {{\n",
       "            console.log([gd, 'removed!']);\n",
       "            Plotly.purge(gd);\n",
       "            observer.disconnect();\n",
       "        }}\n",
       "}});\n",
       "\n",
       "// Listen for the removal of the full notebook cells\n",
       "var notebookContainer = gd.closest('#notebook-container');\n",
       "if (notebookContainer) {{\n",
       "    x.observe(notebookContainer, {childList: true});\n",
       "}}\n",
       "\n",
       "// Listen for the clearing of the current output cell\n",
       "var outputEl = gd.closest('.output');\n",
       "if (outputEl) {{\n",
       "    x.observe(outputEl, {childList: true});\n",
       "}}\n",
       "\n",
       "                        })                };                });            </script>        </div>"
      ]
     },
     "metadata": {},
     "output_type": "display_data"
    }
   ],
   "source": [
    "plot_tops(t_vecs_Ng2d, ng_tws)"
   ]
  },
  {
   "cell_type": "code",
   "execution_count": 74,
   "metadata": {},
   "outputs": [],
   "source": [
    "def plot_tops(tvs, tv_dt):\n",
    "    df = pd.DataFrame(tvs, columns=['x', 'y'])\n",
    "    df['words'] = [', '.join(tv_dt[i]) for i in tv_dt.keys() if i != -1]\n",
    "    fig = px.scatter(df, x=\"x\", y=\"y\", text=\"words\", log_x=True, size_max=60)\n",
    "\n",
    "    fig.update_traces(textposition='top center')\n",
    "\n",
    "    fig.update_layout(\n",
    "        height=800,\n",
    "        title_text='GDP and Life Expectancy (Americas, 2007)'\n",
    "    )\n",
    "\n",
    "    fig.show()\n"
   ]
  },
  {
   "cell_type": "code",
   "execution_count": 76,
   "metadata": {},
   "outputs": [
    {
     "name": "stdout",
     "output_type": "stream",
     "text": [
      "Calculating 768d embeddings...\n",
      "Done\n",
      "Reducing dimensions...\n",
      "Done.\n"
     ]
    }
   ],
   "source": [
    "msg_embs = get_embeddings(full_corpus.t2v, 5)"
   ]
  },
  {
   "cell_type": "code",
   "execution_count": 31,
   "metadata": {},
   "outputs": [],
   "source": [
    "import csv"
   ]
  },
  {
   "cell_type": "code",
   "execution_count": 71,
   "metadata": {},
   "outputs": [],
   "source": [
    "def dict_from_gt(gt):\n",
    "    out_dict = {}\n",
    "    keys = gt.keys()\n",
    "    for k in keys:\n",
    "        tuples = gt[k]\n",
    "        out_dict[k] = [t[0] for t in tuples if t[1] > 0.001]\n",
    "\n",
    "    return out_dict\n",
    "\n",
    "ng_tws = dict_from_gt(bTopNg_model.get_topics())\n",
    "g_tws = dict_from_gt(bTop_model.get_topics())"
   ]
  },
  {
   "cell_type": "code",
   "execution_count": 44,
   "metadata": {},
   "outputs": [],
   "source": [
    "def write_tws(t_dict, fn):\n",
    "    with open(fn, 'w') as f:\n",
    "        writer = csv.DictWriter(f, fieldnames=['Topic', 'Words'])\n",
    "        writer.writeheader()\n",
    "        for k in t_dict.keys():\n",
    "            f.write('{}, {}\\n'.format(str(k), ', '.join(t_dict[k])))\n",
    "        f.close()"
   ]
  },
  {
   "cell_type": "code",
   "execution_count": 46,
   "metadata": {},
   "outputs": [],
   "source": [
    "write_tws(ng_tws, 'topic_words_noGram.csv')\n",
    "write_tws(g_tws, 'topic_words_wGram.csv')"
   ]
  },
  {
   "cell_type": "code",
   "execution_count": 85,
   "metadata": {
    "scrolled": true
   },
   "outputs": [
    {
     "data": {
      "text/plain": [
       "[[('mkt', 0.08579281027576496),\n",
       "  ('junk', 0.0610787164660895),\n",
       "  ('than', 0.022353144588047196),\n",
       "  ('formulation', 0.0),\n",
       "  ('formulas', 0.0),\n",
       "  ('formularies', 0.0),\n",
       "  ('formimg', 0.0),\n",
       "  ('formwhisperscom', 0.0),\n",
       "  ('formented', 0.0),\n",
       "  ('formatwatch', 0.0)],\n",
       " [('formulating', 0.0),\n",
       "  ('formulas', 0.0),\n",
       "  ('formulary', 0.0),\n",
       "  ('formularies', 0.0),\n",
       "  ('forming', 0.0),\n",
       "  ('formimg', 0.0),\n",
       "  ('formatchange', 0.0),\n",
       "  ('formasking', 0.0),\n",
       "  ('formented', 0.0),\n",
       "  ('formatwatch', 0.0)],\n",
       " [('blockchain', 0.9665312062939705),\n",
       "  ('formwhispers', 0.0),\n",
       "  ('formulas', 0.0),\n",
       "  ('formwhisperscom', 0.0),\n",
       "  ('zzzzzzzzzzzzz', 0.0),\n",
       "  ('formented', 0.0),\n",
       "  ('formatwatch', 0.0),\n",
       "  ('formathello', 0.0),\n",
       "  ('formatchange', 0.0),\n",
       "  ('format', 0.0)],\n",
       " [('hsbc', 0.9156784681847989),\n",
       "  ('hsbcpa', 0.07573566042906045),\n",
       "  ('formulary', 0.0),\n",
       "  ('formularies', 0.0),\n",
       "  ('zzzzzzzzzzzzz', 0.0),\n",
       "  ('formulas', 0.0),\n",
       "  ('formwhispers', 0.0),\n",
       "  ('formwhisperscom', 0.0),\n",
       "  ('formimg', 0.0),\n",
       "  ('formatwatch', 0.0)],\n",
       " [('abb', 0.9939465143705578),\n",
       "  ('formulating', 0.0),\n",
       "  ('formimg', 0.0),\n",
       "  ('formented', 0.0),\n",
       "  ('formwhispers', 0.0),\n",
       "  ('formatwatch', 0.0),\n",
       "  ('formationi', 0.0),\n",
       "  ('formation', 0.0),\n",
       "  ('formathello', 0.0),\n",
       "  ('formatchange', 0.0)],\n",
       " [('down', 0.1572749353421449),\n",
       "  ('downsizing', 0.1521554823342149),\n",
       "  ('formulation', 0.0),\n",
       "  ('formulating', 0.0),\n",
       "  ('formulas', 0.0),\n",
       "  ('formwhispers', 0.0),\n",
       "  ('formimg', 0.0),\n",
       "  ('formented', 0.0),\n",
       "  ('formatwatch', 0.0),\n",
       "  ('formationi', 0.0)],\n",
       " [('cern', 1.3070332624668388),\n",
       "  ('formathello', 0.0),\n",
       "  ('formwhispers', 0.0),\n",
       "  ('formulating', 0.0),\n",
       "  ('formulas', 0.0),\n",
       "  ('formulary', 0.0),\n",
       "  ('formimg', 0.0),\n",
       "  ('formasking', 0.0),\n",
       "  ('formwhisperscom', 0.0),\n",
       "  ('formatchange', 0.0)],\n",
       " [('soulfood', 0.42895444284500855),\n",
       "  ('honey', 0.26127810402164786),\n",
       "  ('formulas', 0.0),\n",
       "  ('formulary', 0.0),\n",
       "  ('formularies', 0.0),\n",
       "  ('formented', 0.0),\n",
       "  ('formwhisperscom', 0.0),\n",
       "  ('formatwatch', 0.0),\n",
       "  ('formathello', 0.0),\n",
       "  ('formatchange', 0.0)],\n",
       " [('agree', 1.1430044540279443),\n",
       "  ('close', 0.18356105015064092),\n",
       "  ('deal', 0.11778846178330969),\n",
       "  ('forfeit', 0.0),\n",
       "  ('forgave', 0.0),\n",
       "  ('fornicating', 0.0),\n",
       "  ('formwhisperscom', 0.0),\n",
       "  ('foreverlike', 0.0),\n",
       "  ('formulating', 0.0),\n",
       "  ('formulate', 0.0)]]"
      ]
     },
     "execution_count": 85,
     "metadata": {},
     "output_type": "execute_result"
    }
   ],
   "source": [
    "[bTopNg_model.get_topic(i) for i in ng_tws.keys() if len(ng_tws[i]) <= 3]"
   ]
  },
  {
   "cell_type": "code",
   "execution_count": 49,
   "metadata": {},
   "outputs": [],
   "source": [
    "from itertools import product\n",
    "from difflib import SequenceMatcher"
   ]
  },
  {
   "cell_type": "code",
   "execution_count": 90,
   "metadata": {},
   "outputs": [
    {
     "name": "stdout",
     "output_type": "stream",
     "text": [
      "1 4\n",
      "1 5\n",
      "1 6\n",
      "2 4\n",
      "2 5\n",
      "2 6\n",
      "3 4\n",
      "3 5\n",
      "3 6\n"
     ]
    }
   ],
   "source": [
    "t1 = [1,2,3]\n",
    "t2 = [4,5,6]\n",
    "\n",
    "for a, b in list(product(t1, t2)):\n",
    "    print(a, b)"
   ]
  },
  {
   "cell_type": "code",
   "execution_count": 47,
   "metadata": {},
   "outputs": [],
   "source": [
    "def check_top_merge(top_dict, t):\n",
    "    keys = top_dict.keys()\n",
    "    out = []\n",
    "    for i in keys:\n",
    "        words_i = top_dict[i]\n",
    "        if words_i == []:\n",
    "            continue\n",
    "        for j in keys:\n",
    "            if j <= i:\n",
    "                continue\n",
    "            words_j = top_dict[j]\n",
    "            if words_j == []:\n",
    "                continue\n",
    "            score = 0\n",
    "            for p in list(product(words_i, words_j)):\n",
    "                score += SequenceMatcher(None, p[0], p[1]).ratio()\n",
    "            score /= len(list(product(words_i, words_j)))\n",
    "            if score >= t:\n",
    "                out.append((i, j))\n",
    "    return out"
   ]
  },
  {
   "cell_type": "code",
   "execution_count": 50,
   "metadata": {},
   "outputs": [
    {
     "data": {
      "text/plain": [
       "[(5, 7), (8, 12), (10, 11), (10, 13)]"
      ]
     },
     "execution_count": 50,
     "metadata": {},
     "output_type": "execute_result"
    }
   ],
   "source": [
    "check_top_merge(ng_tws, 0.35)"
   ]
  },
  {
   "cell_type": "code",
   "execution_count": 55,
   "metadata": {},
   "outputs": [],
   "source": [
    "def predict_topNg(text, t):\n",
    "    pred, prob = bTopNg_model.find_topics(text)\n",
    "    tops = [pred[i] for i in range(len(pred)) if prob[i] >= t]\n",
    "    if tops == []:\n",
    "        return 'n'\n",
    "    return ', '.join(str(tops))"
   ]
  },
  {
   "cell_type": "code",
   "execution_count": 56,
   "metadata": {},
   "outputs": [],
   "source": [
    "pred_tNg  = lambda x: predict_topNg(x, 0.3)"
   ]
  },
  {
   "cell_type": "code",
   "execution_count": null,
   "metadata": {},
   "outputs": [],
   "source": [
    "full_corpus['top_Ng'] = full_corpus['t2v'].apply(pred_tNg)"
   ]
  },
  {
   "cell_type": "code",
   "execution_count": 1,
   "metadata": {},
   "outputs": [
    {
     "ename": "NameError",
     "evalue": "name 'full_corpus' is not defined",
     "output_type": "error",
     "traceback": [
      "\u001b[0;31m---------------------------------------------------------------------------\u001b[0m",
      "\u001b[0;31mNameError\u001b[0m                                 Traceback (most recent call last)",
      "\u001b[0;32m<ipython-input-1-839f8bd06e2a>\u001b[0m in \u001b[0;36m<module>\u001b[0;34m\u001b[0m\n\u001b[0;32m----> 1\u001b[0;31m \u001b[0mfull_corpus\u001b[0m\u001b[0;34m.\u001b[0m\u001b[0mto_csv\u001b[0m\u001b[0;34m(\u001b[0m\u001b[0;34m'full_corpus.csv'\u001b[0m\u001b[0;34m)\u001b[0m\u001b[0;34m\u001b[0m\u001b[0;34m\u001b[0m\u001b[0m\n\u001b[0m",
      "\u001b[0;31mNameError\u001b[0m: name 'full_corpus' is not defined"
     ]
    }
   ],
   "source": [
    "full_corpus.to_csv('full_corpus.csv')"
   ]
  },
  {
   "cell_type": "code",
   "execution_count": 26,
   "metadata": {},
   "outputs": [
    {
     "name": "stdout",
     "output_type": "stream",
     "text": [
      "hi\n"
     ]
    }
   ],
   "source": [
    "print('hi')"
   ]
  },
  {
   "cell_type": "code",
   "execution_count": 25,
   "metadata": {},
   "outputs": [],
   "source": [
    "preds = bTopNg_model.transform(full_data_aggH.Block_msg)"
   ]
  },
  {
   "cell_type": "code",
   "execution_count": 107,
   "metadata": {},
   "outputs": [],
   "source": [
    "full_corpus['top_Ng'] = -2"
   ]
  },
  {
   "cell_type": "code",
   "execution_count": 109,
   "metadata": {},
   "outputs": [],
   "source": [
    "tops, probs = bTopNg_model.transform(full_corpus.loc[full_corpus.Comp == 'pypl'].t2v.values)"
   ]
  },
  {
   "cell_type": "code",
   "execution_count": 123,
   "metadata": {},
   "outputs": [],
   "source": [
    "inds = full_corpus.loc[full_corpus.Comp == 'pypl'].index.values\n",
    "full_corpus.at[inds, 'top_Ng'] = tops"
   ]
  },
  {
   "cell_type": "code",
   "execution_count": 130,
   "metadata": {},
   "outputs": [
    {
     "data": {
      "text/plain": [
       "['dip',\n",
       " 'dips',\n",
       " 'plug',\n",
       " 'goog',\n",
       " 'marshmallows',\n",
       " 'suckonthat',\n",
       " 'worrylololol',\n",
       " 'gooo',\n",
       " 'subtitles',\n",
       " 'rips']"
      ]
     },
     "execution_count": 130,
     "metadata": {},
     "output_type": "execute_result"
    }
   ],
   "source": [
    "ng_tws[16]"
   ]
  },
  {
   "cell_type": "code",
   "execution_count": 132,
   "metadata": {},
   "outputs": [
    {
     "data": {
      "text/plain": [
       "Timestamp('2019-05-02 17:39:38')"
      ]
     },
     "execution_count": 132,
     "metadata": {},
     "output_type": "execute_result"
    }
   ],
   "source": [
    "full_corpus.iloc[15].createdAt"
   ]
  },
  {
   "cell_type": "markdown",
   "metadata": {},
   "source": [
    "##### Off-Topic\n",
    "We now try and plot some off topic things"
   ]
  },
  {
   "cell_type": "code",
   "execution_count": 105,
   "metadata": {},
   "outputs": [
    {
     "name": "stdout",
     "output_type": "stream",
     "text": [
      "Calculating 768d embeddings...\n",
      "Done\n",
      "Reducing dimensions...\n",
      "Done.\n"
     ]
    }
   ],
   "source": [
    "pypl_embs = get_embeddings(full_corpus.loc[full_corpus.Comp == 'pypl'].t2v.values, [2, 5])"
   ]
  },
  {
   "cell_type": "code",
   "execution_count": 137,
   "metadata": {},
   "outputs": [
    {
     "data": {
      "text/plain": [
       "array([0., 0., 0.])"
      ]
     },
     "execution_count": 137,
     "metadata": {},
     "output_type": "execute_result"
    }
   ],
   "source": [
    "np.zeros(3)"
   ]
  },
  {
   "cell_type": "code",
   "execution_count": 144,
   "metadata": {},
   "outputs": [],
   "source": [
    "dev_pypl = calc_devation(full_corpus, 'pypl', pypl_embs[5])"
   ]
  },
  {
   "cell_type": "code",
   "execution_count": 145,
   "metadata": {},
   "outputs": [],
   "source": [
    "full_corpus['deviation'] = 0"
   ]
  },
  {
   "cell_type": "code",
   "execution_count": 146,
   "metadata": {},
   "outputs": [],
   "source": [
    "full_corpus.at[inds, 'deviation'] = dev_pypl"
   ]
  },
  {
   "cell_type": "code",
   "execution_count": 148,
   "metadata": {},
   "outputs": [
    {
     "data": {
      "text/html": [
       "<div>\n",
       "<style scoped>\n",
       "    .dataframe tbody tr th:only-of-type {\n",
       "        vertical-align: middle;\n",
       "    }\n",
       "\n",
       "    .dataframe tbody tr th {\n",
       "        vertical-align: top;\n",
       "    }\n",
       "\n",
       "    .dataframe thead th {\n",
       "        text-align: right;\n",
       "    }\n",
       "</style>\n",
       "<table border=\"1\" class=\"dataframe\">\n",
       "  <thead>\n",
       "    <tr style=\"text-align: right;\">\n",
       "      <th></th>\n",
       "      <th>authorName</th>\n",
       "      <th>createdAt</th>\n",
       "      <th>message</th>\n",
       "      <th>Comp</th>\n",
       "      <th>URLs</th>\n",
       "      <th>msg_clean</th>\n",
       "      <th>t2v</th>\n",
       "      <th>top_Ng</th>\n",
       "      <th>deviation</th>\n",
       "    </tr>\n",
       "  </thead>\n",
       "  <tbody>\n",
       "    <tr>\n",
       "      <th>0</th>\n",
       "      <td>Charlie</td>\n",
       "      <td>2017-04-21 14:56:59</td>\n",
       "      <td>FoxNews expected to pay around $85 mil to sett...</td>\n",
       "      <td>aapl</td>\n",
       "      <td>None</td>\n",
       "      <td>foxnews expected to pay around $  mil to settl...</td>\n",
       "      <td>FoxNews expected to pay around $ mil to settle...</td>\n",
       "      <td>-2</td>\n",
       "      <td>0.000000</td>\n",
       "    </tr>\n",
       "    <tr>\n",
       "      <th>1</th>\n",
       "      <td>Drmicrocap</td>\n",
       "      <td>2017-08-02 09:01:54</td>\n",
       "      <td>https://drmicrocap.blogspot.com/2017/08/apple-...</td>\n",
       "      <td>aapl</td>\n",
       "      <td>https://drmicrocap.blogspot.com/2017/08/apple-...</td>\n",
       "      <td>http     drmicrocap blogspot com   apple repor...</td>\n",
       "      <td>#aapl #Nasdaq Composite #S&amp; Index #Dow Jones</td>\n",
       "      <td>-2</td>\n",
       "      <td>0.000000</td>\n",
       "    </tr>\n",
       "    <tr>\n",
       "      <th>2</th>\n",
       "      <td>Cfa</td>\n",
       "      <td>2017-11-01 06:10:40</td>\n",
       "      <td>$AAPL $AMZN $GOOG $BABA $MSFT $FB $NFLX $NVDA ...</td>\n",
       "      <td>aapl</td>\n",
       "      <td>None</td>\n",
       "      <td>$ aapl $ amzn $ goog $ baba $ msft $ fb $ nflx...</td>\n",
       "      <td>$AAPL $AMZN $GOOG $BABA $MSFT $FB $NFLX $NVDA ...</td>\n",
       "      <td>-2</td>\n",
       "      <td>0.000000</td>\n",
       "    </tr>\n",
       "    <tr>\n",
       "      <th>3</th>\n",
       "      <td>None</td>\n",
       "      <td>2017-12-05 09:48:31</td>\n",
       "      <td>Selling after a few years (since 2010 at 45). ...</td>\n",
       "      <td>aapl</td>\n",
       "      <td>None</td>\n",
       "      <td>selling after a few year   since  at      it j...</td>\n",
       "      <td>Selling after a few years (since  at ). It jus...</td>\n",
       "      <td>-2</td>\n",
       "      <td>0.000000</td>\n",
       "    </tr>\n",
       "    <tr>\n",
       "      <th>4</th>\n",
       "      <td>Fuel</td>\n",
       "      <td>2018-04-20 22:27:58</td>\n",
       "      <td>Guys, I just nutted again. My stamina is way u...</td>\n",
       "      <td>aapl</td>\n",
       "      <td>None</td>\n",
       "      <td>guys   i just nutted again   my stamen is way ...</td>\n",
       "      <td>Guys, I just nutted again. My stamina is way u...</td>\n",
       "      <td>-2</td>\n",
       "      <td>0.000000</td>\n",
       "    </tr>\n",
       "    <tr>\n",
       "      <th>...</th>\n",
       "      <td>...</td>\n",
       "      <td>...</td>\n",
       "      <td>...</td>\n",
       "      <td>...</td>\n",
       "      <td>...</td>\n",
       "      <td>...</td>\n",
       "      <td>...</td>\n",
       "      <td>...</td>\n",
       "      <td>...</td>\n",
       "    </tr>\n",
       "    <tr>\n",
       "      <th>169820</th>\n",
       "      <td>Tom~T</td>\n",
       "      <td>2020-12-20 22:30:06</td>\n",
       "      <td>Friday's News. Inconclusive if this Mutation /...</td>\n",
       "      <td>pypl</td>\n",
       "      <td>None</td>\n",
       "      <td>friday  s news   inconclusive if this mutation...</td>\n",
       "      <td>Friday's News. Inconclusive if this Mutation /...</td>\n",
       "      <td>-1</td>\n",
       "      <td>-0.060233</td>\n",
       "    </tr>\n",
       "    <tr>\n",
       "      <th>169821</th>\n",
       "      <td>Tom~T</td>\n",
       "      <td>2020-12-20 22:33:52</td>\n",
       "      <td>Great IF It Happens!\\nI've given up on 2020 an...</td>\n",
       "      <td>pypl</td>\n",
       "      <td>None</td>\n",
       "      <td>great if it happens   i  ve given up on  and d...</td>\n",
       "      <td>Great IF It Happens! I've given up on  and don...</td>\n",
       "      <td>70</td>\n",
       "      <td>0.281354</td>\n",
       "    </tr>\n",
       "    <tr>\n",
       "      <th>169822</th>\n",
       "      <td>Tom~T</td>\n",
       "      <td>2020-12-20 22:40:10</td>\n",
       "      <td>Nah!\\nUnknown! 🤪   Danger! 🤖 Danger!</td>\n",
       "      <td>pypl</td>\n",
       "      <td>None</td>\n",
       "      <td>nah   unknown   danger   danger</td>\n",
       "      <td>Nah! Unknown!    Danger!  Danger!</td>\n",
       "      <td>80</td>\n",
       "      <td>0.262881</td>\n",
       "    </tr>\n",
       "    <tr>\n",
       "      <th>169823</th>\n",
       "      <td>Claudio</td>\n",
       "      <td>2020-12-21 00:06:01</td>\n",
       "      <td>Bitcoin up again pushing new highs</td>\n",
       "      <td>pypl</td>\n",
       "      <td>None</td>\n",
       "      <td>bitcoin up again pushing new high</td>\n",
       "      <td>Bitcoin up again pushing new highs</td>\n",
       "      <td>-1</td>\n",
       "      <td>0.757306</td>\n",
       "    </tr>\n",
       "    <tr>\n",
       "      <th>169824</th>\n",
       "      <td>Robert</td>\n",
       "      <td>2020-12-21 01:26:42</td>\n",
       "      <td>every dip will be met with hedge fund and inst...</td>\n",
       "      <td>pypl</td>\n",
       "      <td>None</td>\n",
       "      <td>every dip will be met with hedge fund and inst...</td>\n",
       "      <td>every dip will be met with hedge fund and inst...</td>\n",
       "      <td>16</td>\n",
       "      <td>-0.303749</td>\n",
       "    </tr>\n",
       "  </tbody>\n",
       "</table>\n",
       "<p>169825 rows × 9 columns</p>\n",
       "</div>"
      ],
      "text/plain": [
       "        authorName           createdAt  \\\n",
       "0          Charlie 2017-04-21 14:56:59   \n",
       "1       Drmicrocap 2017-08-02 09:01:54   \n",
       "2              Cfa 2017-11-01 06:10:40   \n",
       "3             None 2017-12-05 09:48:31   \n",
       "4             Fuel 2018-04-20 22:27:58   \n",
       "...            ...                 ...   \n",
       "169820       Tom~T 2020-12-20 22:30:06   \n",
       "169821       Tom~T 2020-12-20 22:33:52   \n",
       "169822       Tom~T 2020-12-20 22:40:10   \n",
       "169823     Claudio 2020-12-21 00:06:01   \n",
       "169824      Robert 2020-12-21 01:26:42   \n",
       "\n",
       "                                                  message  Comp  \\\n",
       "0       FoxNews expected to pay around $85 mil to sett...  aapl   \n",
       "1       https://drmicrocap.blogspot.com/2017/08/apple-...  aapl   \n",
       "2       $AAPL $AMZN $GOOG $BABA $MSFT $FB $NFLX $NVDA ...  aapl   \n",
       "3       Selling after a few years (since 2010 at 45). ...  aapl   \n",
       "4       Guys, I just nutted again. My stamina is way u...  aapl   \n",
       "...                                                   ...   ...   \n",
       "169820  Friday's News. Inconclusive if this Mutation /...  pypl   \n",
       "169821  Great IF It Happens!\\nI've given up on 2020 an...  pypl   \n",
       "169822               Nah!\\nUnknown! 🤪   Danger! 🤖 Danger!  pypl   \n",
       "169823                 Bitcoin up again pushing new highs  pypl   \n",
       "169824  every dip will be met with hedge fund and inst...  pypl   \n",
       "\n",
       "                                                     URLs  \\\n",
       "0                                                    None   \n",
       "1       https://drmicrocap.blogspot.com/2017/08/apple-...   \n",
       "2                                                    None   \n",
       "3                                                    None   \n",
       "4                                                    None   \n",
       "...                                                   ...   \n",
       "169820                                               None   \n",
       "169821                                               None   \n",
       "169822                                               None   \n",
       "169823                                               None   \n",
       "169824                                               None   \n",
       "\n",
       "                                                msg_clean  \\\n",
       "0       foxnews expected to pay around $  mil to settl...   \n",
       "1       http     drmicrocap blogspot com   apple repor...   \n",
       "2       $ aapl $ amzn $ goog $ baba $ msft $ fb $ nflx...   \n",
       "3       selling after a few year   since  at      it j...   \n",
       "4       guys   i just nutted again   my stamen is way ...   \n",
       "...                                                   ...   \n",
       "169820  friday  s news   inconclusive if this mutation...   \n",
       "169821  great if it happens   i  ve given up on  and d...   \n",
       "169822                  nah   unknown   danger   danger     \n",
       "169823                  bitcoin up again pushing new high   \n",
       "169824  every dip will be met with hedge fund and inst...   \n",
       "\n",
       "                                                      t2v  top_Ng  deviation  \n",
       "0       FoxNews expected to pay around $ mil to settle...      -2   0.000000  \n",
       "1            #aapl #Nasdaq Composite #S& Index #Dow Jones      -2   0.000000  \n",
       "2       $AAPL $AMZN $GOOG $BABA $MSFT $FB $NFLX $NVDA ...      -2   0.000000  \n",
       "3       Selling after a few years (since  at ). It jus...      -2   0.000000  \n",
       "4       Guys, I just nutted again. My stamina is way u...      -2   0.000000  \n",
       "...                                                   ...     ...        ...  \n",
       "169820  Friday's News. Inconclusive if this Mutation /...      -1  -0.060233  \n",
       "169821  Great IF It Happens! I've given up on  and don...      70   0.281354  \n",
       "169822                  Nah! Unknown!    Danger!  Danger!      80   0.262881  \n",
       "169823                 Bitcoin up again pushing new highs      -1   0.757306  \n",
       "169824  every dip will be met with hedge fund and inst...      16  -0.303749  \n",
       "\n",
       "[169825 rows x 9 columns]"
      ]
     },
     "execution_count": 148,
     "metadata": {},
     "output_type": "execute_result"
    }
   ],
   "source": [
    "full_corpus"
   ]
  },
  {
   "cell_type": "code",
   "execution_count": 180,
   "metadata": {},
   "outputs": [
    {
     "data": {
      "text/plain": [
       "<AxesSubplot:title={'center':'Paypal Topic Deviation plot'}, xlabel='createdAt'>"
      ]
     },
     "execution_count": 180,
     "metadata": {},
     "output_type": "execute_result"
    },
    {
     "data": {
      "image/png": "[encoded data removed]",
      "text/plain": [
       "<Figure size 1440x1440 with 1 Axes>"
      ]
     },
     "metadata": {
      "needs_background": "light"
     },
     "output_type": "display_data"
    }
   ],
   "source": [
    "full_corpus.loc[(full_corpus.Comp == 'pypl') & (full_corpus.message != 'n')].iloc[-5000:].plot(x='createdAt', y='deviation', title ='Paypal Topic Deviation plot', legend =False, figsize=(20,20))"
   ]
  },
  {
   "cell_type": "code",
   "execution_count": 181,
   "metadata": {},
   "outputs": [],
   "source": [
    "pypl = full_corpus.loc[(full_corpus.Comp == 'pypl') & (full_corpus.message != 'n')].iloc[-5000:]"
   ]
  },
  {
   "cell_type": "code",
   "execution_count": 183,
   "metadata": {},
   "outputs": [
    {
     "data": {
      "text/plain": [
       "'short the close today and cover at open in the am for a 10 buck gain per share.'"
      ]
     },
     "execution_count": 183,
     "metadata": {},
     "output_type": "execute_result"
    }
   ],
   "source": [
    "fig = px.line(df, x=\"createdAt\", y=\"deviation\", title=\"layout.hovermode='x'\")\n",
    "fig.update_traces(mode=\"markers+lines\", hovertemplate=None)\n",
    "fig.update_layout(hovermode=\"x\")\n",
    "\n",
    "fig.show()"
   ]
  },
  {
   "cell_type": "code",
   "execution_count": 192,
   "metadata": {},
   "outputs": [],
   "source": [
    "import plotly.io as pio\n",
    "pio.renderers.default='notebook'"
   ]
  },
  {
   "cell_type": "code",
   "execution_count": 194,
   "metadata": {},
   "outputs": [],
   "source": [
    "full_corpus.to_csv(\"full_corpus.csv\")"
   ]
  },
  {
   "cell_type": "code",
   "execution_count": 1,
   "metadata": {},
   "outputs": [],
   "source": [
    "import numpy as np\n",
    "import matplotlib.pyplot as plt\n",
    "\n",
    "from tsmoothie.utils_func import sim_randomwalk\n",
    "from tsmoothie.smoother import *"
   ]
  },
  {
   "cell_type": "code",
   "execution_count": 4,
   "metadata": {},
   "outputs": [],
   "source": [
    "np.random.seed(123)\n",
    "data = sim_randomwalk(n_series=10, timesteps=200, \n",
    "                      process_noise=10, measure_noise=30)"
   ]
  },
  {
   "cell_type": "code",
   "execution_count": 9,
   "metadata": {},
   "outputs": [
    {
     "data": {
      "text/plain": [
       "<tsmoothie.smoother.ExponentialSmoother>"
      ]
     },
     "execution_count": 9,
     "metadata": {},
     "output_type": "execute_result"
    }
   ],
   "source": [
    "smoother = ExponentialSmoother(window_len=20, alpha=0.3)\n",
    "smoother.smooth(data[0,:])"
   ]
  },
  {
   "cell_type": "code",
   "execution_count": 11,
   "metadata": {},
   "outputs": [
    {
     "data": {
      "text/plain": [
       "(1, 180)"
      ]
     },
     "execution_count": 11,
     "metadata": {},
     "output_type": "execute_result"
    }
   ],
   "source": [
    "smoother.smooth_data.shape"
   ]
  },
  {
   "cell_type": "code",
   "execution_count": null,
   "metadata": {},
   "outputs": [],
   "source": [
    "def dev_from_start(df, comp, embs): \n",
    "    our_df = df.loc[(df.Comp == comp) & (df.t2v != 'n')]\n",
    "    inds = our_df.index.values\n",
    "    nd = embs.shape[1]\n",
    "    # get first average of first 10 messages for starting point\n",
    "    firstInds = inds[:10]\n",
    "    start_vec = np.zeros(nd)\n",
    "    for i in firstInds:\n",
    "        start_vec += embs[i, :]\n",
    "    start_vec /= 10\n",
    "    \n",
    "    dists = []\n",
    "    dates = []\n",
    "    \n",
    "    for i in inds[10:]:\n",
    "        dist_vec = embs[i,:] - start_vec\n",
    "        dists.append(np.linalg.norm(dist_vec))\n",
    "        dates.append(df['createdAt'].iloc[i])\n",
    "    \n",
    "    plt.plot (dates, dists)\n",
    "    \n",
    "def dev_from_main(df, comp, embs, t_vecs, mod = 'top_Ng'):\n",
    "    our_df = df.loc[(df.Comp == comp) & (df.t2v != 'n')]\n",
    "    main_top = find_main_topic(df, comp, mod)\n",
    "    main_top_vec = t_vecs[main_top, :]\n",
    "    \n",
    "    nTops = t_vecs.shape[0]\n",
    "    main_vec = t_vecs[main_top, :]\n",
    "    dist_dict = {}\n",
    "    dist_dict[-1] = 0\n",
    "    for i in range(nTops):\n",
    "        cur_top = t_vecs[i, :]\n",
    "        similarity = np.linalg.norm(cur_top - main_vec)\n",
    "        dist_dict[i] = similarity\n",
    "    \n",
    "\n",
    "    dists = our_df[mod].apply(lambda x: dist_dict[x])\n",
    "    \n",
    "    # getting index score\n",
    "    dists_norm = [(d - min(dists))/(max(dists)-min(dists)) for d in dists]\n",
    "    score = np.mean(dists_norm)\n",
    "    print(score)\n",
    "    plt.plot(our_df.createdAt.values, dists)"
   ]
  },
  {
   "cell_type": "code",
   "execution_count": 1,
   "metadata": {},
   "outputs": [],
   "source": [
    "import numpy as np"
   ]
  },
  {
   "cell_type": "code",
   "execution_count": 8,
   "metadata": {},
   "outputs": [
    {
     "name": "stdout",
     "output_type": "stream",
     "text": [
      "Sal: England\n",
      "Peter: Belgium\n",
      "Hej: Spain\n",
      "James: Portugal\n",
      "Harry: Germany\n",
      "Frank: France\n",
      "Dylan: Holland\n"
     ]
    }
   ],
   "source": [
    "teams = ['France', 'Holland', 'Belgium', 'England', 'Portugal', 'Spain', 'Germany']\n",
    "mandem = ['Sal', 'Peter', 'Hej', 'James', 'Harry', 'Frank', 'Dylan']\n",
    "\n",
    "perms = np.random.permutation(7)\n",
    "\n",
    "for i in range(7):\n",
    "    print(\"{}: {}\".format(mandem[i], teams[perms[i]]))"
   ]
  },
  {
   "cell_type": "code",
   "execution_count": null,
   "metadata": {},
   "outputs": [],
   "source": []
  }
 ],
 "metadata": {
  "kernelspec": {
   "display_name": "Python 3",
   "language": "python",
   "name": "python3"
  },
  "language_info": {
   "codemirror_mode": {
    "name": "ipython",
    "version": 3
   },
   "file_extension": ".py",
   "mimetype": "text/x-python",
   "name": "python",
   "nbconvert_exporter": "python",
   "pygments_lexer": "ipython3",
   "version": "3.8.3"
  }
 },
 "nbformat": 4,
 "nbformat_minor": 4
}
