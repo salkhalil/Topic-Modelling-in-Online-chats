{
 "cells": [
  {
   "cell_type": "code",
   "execution_count": 2,
   "metadata": {},
   "outputs": [
    {
     "name": "stdout",
     "output_type": "stream",
     "text": [
      "Downloading emoji data ...\n",
      "... OK (Got response in 0.45 seconds)\n",
      "Writing emoji data to /Users/salkhalil/.demoji/codes.json ...\n",
      "... OK\n"
     ]
    }
   ],
   "source": [
    "from Saving import *\n",
    "from preprocessing import *\n",
    "import pandas as pd\n",
    "import dateparser\n",
    "import datetime\n",
    "import time\n",
    "from dateutil import parser"
   ]
  },
  {
   "cell_type": "code",
   "execution_count": 3,
   "metadata": {},
   "outputs": [],
   "source": [
    "hourly_embs = openPk('hourly_embs.pkl')\n",
    "t_vecs = openPk('topNg_vecs.pkl')\n",
    "full_corpus = openDf('full_corpus')"
   ]
  },
  {
   "cell_type": "code",
   "execution_count": 6,
   "metadata": {},
   "outputs": [],
   "source": [
    "top_results   = openPk('top_results.pkl')\n",
    "topNg_results = openPk('topNg_results.pkl')"
   ]
  },
  {
   "cell_type": "code",
   "execution_count": 55,
   "metadata": {},
   "outputs": [],
   "source": [
    "saveDf('full_corpus.csv', full_corpus)"
   ]
  },
  {
   "cell_type": "code",
   "execution_count": 7,
   "metadata": {},
   "outputs": [
    {
     "data": {
      "text/html": [
       "<div>\n",
       "<style scoped>\n",
       "    .dataframe tbody tr th:only-of-type {\n",
       "        vertical-align: middle;\n",
       "    }\n",
       "\n",
       "    .dataframe tbody tr th {\n",
       "        vertical-align: top;\n",
       "    }\n",
       "\n",
       "    .dataframe thead th {\n",
       "        text-align: right;\n",
       "    }\n",
       "</style>\n",
       "<table border=\"1\" class=\"dataframe\">\n",
       "  <thead>\n",
       "    <tr style=\"text-align: right;\">\n",
       "      <th></th>\n",
       "      <th>authorName</th>\n",
       "      <th>createdAt</th>\n",
       "      <th>Comp</th>\n",
       "      <th>message</th>\n",
       "      <th>URLs</th>\n",
       "      <th>msg_clean</th>\n",
       "      <th>t2v</th>\n",
       "      <th>top_Ng</th>\n",
       "      <th>top_g</th>\n",
       "      <th>deviation</th>\n",
       "    </tr>\n",
       "  </thead>\n",
       "  <tbody>\n",
       "    <tr>\n",
       "      <th>1</th>\n",
       "      <td>Drmicrocap</td>\n",
       "      <td>2017-08-02 09:01:54</td>\n",
       "      <td>aapl</td>\n",
       "      <td>https://drmicrocap.blogspot.com/2017/08/apple-...</td>\n",
       "      <td>https://drmicrocap.blogspot.com/2017/08/apple-...</td>\n",
       "      <td>http     drmicrocap blogspot com   apple repor...</td>\n",
       "      <td>#aapl #Nasdaq Composite #S&amp; Index #Dow Jones</td>\n",
       "      <td>-1</td>\n",
       "      <td>105</td>\n",
       "      <td>0.000000</td>\n",
       "    </tr>\n",
       "    <tr>\n",
       "      <th>19</th>\n",
       "      <td>tony</td>\n",
       "      <td>2019-08-26 23:50:26</td>\n",
       "      <td>aapl</td>\n",
       "      <td>The G7 represents 7 democratic countries. Why ...</td>\n",
       "      <td>NaN</td>\n",
       "      <td>the  represents  democratic country   why doe ...</td>\n",
       "      <td>The  represents  democratic countries. Why doe...</td>\n",
       "      <td>-1</td>\n",
       "      <td>53</td>\n",
       "      <td>0.000000</td>\n",
       "    </tr>\n",
       "    <tr>\n",
       "      <th>20</th>\n",
       "      <td>John</td>\n",
       "      <td>2019-10-25 09:42:57</td>\n",
       "      <td>aapl</td>\n",
       "      <td>Does FAANG still exist or is it now dead after...</td>\n",
       "      <td>NaN</td>\n",
       "      <td>does faang still exist or is it now dead after...</td>\n",
       "      <td>Does FAANG still exist or is it now dead after...</td>\n",
       "      <td>-1</td>\n",
       "      <td>47</td>\n",
       "      <td>0.000000</td>\n",
       "    </tr>\n",
       "    <tr>\n",
       "      <th>22</th>\n",
       "      <td>Jim Lahey</td>\n",
       "      <td>2020-01-03 16:07:33</td>\n",
       "      <td>aapl</td>\n",
       "      <td>The dip today is just getting started followed...</td>\n",
       "      <td>NaN</td>\n",
       "      <td>the dip today is just getting started followed...</td>\n",
       "      <td>The dip today is just getting started followed...</td>\n",
       "      <td>-1</td>\n",
       "      <td>16</td>\n",
       "      <td>0.000000</td>\n",
       "    </tr>\n",
       "    <tr>\n",
       "      <th>69</th>\n",
       "      <td>Bullseye</td>\n",
       "      <td>2020-09-08 20:54:59</td>\n",
       "      <td>aapl</td>\n",
       "      <td>More hurt is still to come and it's still mass...</td>\n",
       "      <td>NaN</td>\n",
       "      <td>more hurt is still to come and it  s still mas...</td>\n",
       "      <td>More hurt is still to come and it's still mass...</td>\n",
       "      <td>-1</td>\n",
       "      <td>50</td>\n",
       "      <td>0.000000</td>\n",
       "    </tr>\n",
       "    <tr>\n",
       "      <th>...</th>\n",
       "      <td>...</td>\n",
       "      <td>...</td>\n",
       "      <td>...</td>\n",
       "      <td>...</td>\n",
       "      <td>...</td>\n",
       "      <td>...</td>\n",
       "      <td>...</td>\n",
       "      <td>...</td>\n",
       "      <td>...</td>\n",
       "      <td>...</td>\n",
       "    </tr>\n",
       "    <tr>\n",
       "      <th>169681</th>\n",
       "      <td>Silent Running</td>\n",
       "      <td>2020-12-14 18:28:35</td>\n",
       "      <td>pypl</td>\n",
       "      <td>So, the march to $250 is finally underway.   O...</td>\n",
       "      <td>NaN</td>\n",
       "      <td>so   the march to $  is finally underway   onl...</td>\n",
       "      <td>So, the march to $ is finally underway.   Only...</td>\n",
       "      <td>-1</td>\n",
       "      <td>74</td>\n",
       "      <td>0.001562</td>\n",
       "    </tr>\n",
       "    <tr>\n",
       "      <th>169688</th>\n",
       "      <td>Roseanna</td>\n",
       "      <td>2020-12-14 20:00:59</td>\n",
       "      <td>pypl</td>\n",
       "      <td>glad to hear that</td>\n",
       "      <td>NaN</td>\n",
       "      <td>glad to hear that</td>\n",
       "      <td>glad to hear that</td>\n",
       "      <td>-1</td>\n",
       "      <td>124</td>\n",
       "      <td>-0.197023</td>\n",
       "    </tr>\n",
       "    <tr>\n",
       "      <th>169690</th>\n",
       "      <td>tshart</td>\n",
       "      <td>2020-12-14 20:01:14</td>\n",
       "      <td>pypl</td>\n",
       "      <td>ill check this one</td>\n",
       "      <td>NaN</td>\n",
       "      <td>ill check this one</td>\n",
       "      <td>ill check this one</td>\n",
       "      <td>-1</td>\n",
       "      <td>124</td>\n",
       "      <td>-0.232046</td>\n",
       "    </tr>\n",
       "    <tr>\n",
       "      <th>169784</th>\n",
       "      <td>holly</td>\n",
       "      <td>2020-12-17 15:47:28</td>\n",
       "      <td>pypl</td>\n",
       "      <td>did any of you watched Bloomberg last night?\\n...</td>\n",
       "      <td>NaN</td>\n",
       "      <td>did any of you watched bloomberg last night   ...</td>\n",
       "      <td>did any of you watched Bloomberg last night? A...</td>\n",
       "      <td>-1</td>\n",
       "      <td>72</td>\n",
       "      <td>-0.121128</td>\n",
       "    </tr>\n",
       "    <tr>\n",
       "      <th>169786</th>\n",
       "      <td>Darren</td>\n",
       "      <td>2020-12-17 16:59:30</td>\n",
       "      <td>pypl</td>\n",
       "      <td>oh and tesla and nio</td>\n",
       "      <td>NaN</td>\n",
       "      <td>oh and tesla and nio</td>\n",
       "      <td>oh and tesla and nio</td>\n",
       "      <td>-1</td>\n",
       "      <td>32</td>\n",
       "      <td>-0.159283</td>\n",
       "    </tr>\n",
       "  </tbody>\n",
       "</table>\n",
       "<p>21258 rows × 10 columns</p>\n",
       "</div>"
      ],
      "text/plain": [
       "            authorName            createdAt  Comp  \\\n",
       "1           Drmicrocap  2017-08-02 09:01:54  aapl   \n",
       "19                tony  2019-08-26 23:50:26  aapl   \n",
       "20                John  2019-10-25 09:42:57  aapl   \n",
       "22           Jim Lahey  2020-01-03 16:07:33  aapl   \n",
       "69            Bullseye  2020-09-08 20:54:59  aapl   \n",
       "...                ...                  ...   ...   \n",
       "169681  Silent Running  2020-12-14 18:28:35  pypl   \n",
       "169688        Roseanna  2020-12-14 20:00:59  pypl   \n",
       "169690          tshart  2020-12-14 20:01:14  pypl   \n",
       "169784           holly  2020-12-17 15:47:28  pypl   \n",
       "169786          Darren  2020-12-17 16:59:30  pypl   \n",
       "\n",
       "                                                  message  \\\n",
       "1       https://drmicrocap.blogspot.com/2017/08/apple-...   \n",
       "19      The G7 represents 7 democratic countries. Why ...   \n",
       "20      Does FAANG still exist or is it now dead after...   \n",
       "22      The dip today is just getting started followed...   \n",
       "69      More hurt is still to come and it's still mass...   \n",
       "...                                                   ...   \n",
       "169681  So, the march to $250 is finally underway.   O...   \n",
       "169688                                  glad to hear that   \n",
       "169690                                 ill check this one   \n",
       "169784  did any of you watched Bloomberg last night?\\n...   \n",
       "169786                               oh and tesla and nio   \n",
       "\n",
       "                                                     URLs  \\\n",
       "1       https://drmicrocap.blogspot.com/2017/08/apple-...   \n",
       "19                                                    NaN   \n",
       "20                                                    NaN   \n",
       "22                                                    NaN   \n",
       "69                                                    NaN   \n",
       "...                                                   ...   \n",
       "169681                                                NaN   \n",
       "169688                                                NaN   \n",
       "169690                                                NaN   \n",
       "169784                                                NaN   \n",
       "169786                                                NaN   \n",
       "\n",
       "                                                msg_clean  \\\n",
       "1       http     drmicrocap blogspot com   apple repor...   \n",
       "19      the  represents  democratic country   why doe ...   \n",
       "20      does faang still exist or is it now dead after...   \n",
       "22      the dip today is just getting started followed...   \n",
       "69      more hurt is still to come and it  s still mas...   \n",
       "...                                                   ...   \n",
       "169681  so   the march to $  is finally underway   onl...   \n",
       "169688                                  glad to hear that   \n",
       "169690                                 ill check this one   \n",
       "169784  did any of you watched bloomberg last night   ...   \n",
       "169786                               oh and tesla and nio   \n",
       "\n",
       "                                                      t2v  top_Ng  top_g  \\\n",
       "1            #aapl #Nasdaq Composite #S& Index #Dow Jones      -1    105   \n",
       "19      The  represents  democratic countries. Why doe...      -1     53   \n",
       "20      Does FAANG still exist or is it now dead after...      -1     47   \n",
       "22      The dip today is just getting started followed...      -1     16   \n",
       "69      More hurt is still to come and it's still mass...      -1     50   \n",
       "...                                                   ...     ...    ...   \n",
       "169681  So, the march to $ is finally underway.   Only...      -1     74   \n",
       "169688                                  glad to hear that      -1    124   \n",
       "169690                                 ill check this one      -1    124   \n",
       "169784  did any of you watched Bloomberg last night? A...      -1     72   \n",
       "169786                               oh and tesla and nio      -1     32   \n",
       "\n",
       "        deviation  \n",
       "1        0.000000  \n",
       "19       0.000000  \n",
       "20       0.000000  \n",
       "22       0.000000  \n",
       "69       0.000000  \n",
       "...           ...  \n",
       "169681   0.001562  \n",
       "169688  -0.197023  \n",
       "169690  -0.232046  \n",
       "169784  -0.121128  \n",
       "169786  -0.159283  \n",
       "\n",
       "[21258 rows x 10 columns]"
      ]
     },
     "execution_count": 7,
     "metadata": {},
     "output_type": "execute_result"
    }
   ],
   "source": [
    "full_corpus.loc[(full_corpus.top_Ng == -1) & (full_corpus.top_g != -1)]"
   ]
  },
  {
   "cell_type": "code",
   "execution_count": 10,
   "metadata": {},
   "outputs": [
    {
     "data": {
      "text/plain": [
       "(136, 2)"
      ]
     },
     "execution_count": 10,
     "metadata": {},
     "output_type": "execute_result"
    }
   ],
   "source": [
    "t_vecs[2].shape"
   ]
  },
  {
   "cell_type": "code",
   "execution_count": null,
   "metadata": {},
   "outputs": [],
   "source": [
    "def calc_devation(df, comp, embs, window = 4):\n",
    "    our_df = df.loc[df.Comp == comp]\n",
    "    inds = our_df.index.values\n",
    "    last_4embs = np.zeros((4, embs.shape[1]))\n",
    "    last_4devs = np.zeros(4)\n",
    "    rng = range(len(inds))\n",
    "    devs = []\n",
    "    for i in rng:\n",
    "        avg_dev = np.mean(last_4devs)\n",
    "        dev = np.linalg.norm(embs[i, :] - last_4embs[(i-1)%window, :])\n",
    "        last_4embs[i%window, :] = embs[i,:]\n",
    "        last_4devs[i%window] = dev\n",
    "        devs.append((dev-avg_dev)/(avg_dev+1))\n",
    "    return devs"
   ]
  },
  {
   "cell_type": "code",
   "execution_count": 18,
   "metadata": {},
   "outputs": [],
   "source": [
    "from umap import UMAP"
   ]
  },
  {
   "cell_type": "code",
   "execution_count": 19,
   "metadata": {},
   "outputs": [],
   "source": [
    "def reduce_dims(embs, ndims):\n",
    "    ret_dict = {}\n",
    "    for nd in ndims:\n",
    "        umap_embs = umap.UMAP(n_neighbors=15,\n",
    "                                n_components=nd,\n",
    "                                metric='cosine').fit_transform(embs)\n",
    "        ret_dict[nd] = umap_embs\n",
    "        \n",
    "    return ret_dict"
   ]
  },
  {
   "cell_type": "code",
   "execution_count": 33,
   "metadata": {},
   "outputs": [],
   "source": [
    "full_embs = openPk('full_embs.pkl')"
   ]
  },
  {
   "cell_type": "code",
   "execution_count": 3,
   "metadata": {},
   "outputs": [],
   "source": [
    "from bertopic import BERTopic"
   ]
  },
  {
   "cell_type": "code",
   "execution_count": 57,
   "metadata": {},
   "outputs": [],
   "source": [
    "bTopNg_model = BERTopic.load(\"base_hourly_noGram\")\n",
    "bTop_model = BERTopic.load(\"base_hourly_gram\")"
   ]
  },
  {
   "cell_type": "code",
   "execution_count": 58,
   "metadata": {
    "scrolled": true
   },
   "outputs": [],
   "source": [
    "def calculate_top_vecs(ntops, df, embeddings, top_col = 'top_Ng'):\n",
    "    emb_dim = embeddings.shape[1]\n",
    "    top_vecs = np.zeros((ntops-1, emb_dim))\n",
    "    for top in range(ntops-1):\n",
    "        inds = df.loc[df[top_col] == top].index\n",
    "        t_vec = np.zeros(emb_dim)\n",
    "        for ind in inds:\n",
    "            t_vec += embeddings[ind, :]\n",
    "        t_vec /= len(inds)\n",
    "        top_vecs[top, :] = t_vec\n",
    "    return top_vecs"
   ]
  },
  {
   "cell_type": "code",
   "execution_count": 61,
   "metadata": {},
   "outputs": [],
   "source": [
    "top_vecs = {}\n",
    "topNg_vecs = {}\n",
    "for i in [2, 5]:\n",
    "    top_vecs[i]   = calculate_top_vecs(len(bTop_model.get_topics()), full_corpus, full_embs[i], top_col='top_g')\n",
    "    topNg_vecs[i] = calculate_top_vecs(len(bTopNg_model.get_topics()), full_corpus, full_embs[i])"
   ]
  },
  {
   "cell_type": "code",
   "execution_count": 73,
   "metadata": {},
   "outputs": [],
   "source": [
    "import matplotlib.pyplot as plt\n",
    "import seaborn as sns\n",
    "import umap"
   ]
  },
  {
   "cell_type": "code",
   "execution_count": 75,
   "metadata": {},
   "outputs": [],
   "source": [
    "def plot_t_vecs(data):\n",
    "    sns.scatterplot(data[:,0], data[:,1])"
   ]
  },
  {
   "cell_type": "code",
   "execution_count": 74,
   "metadata": {},
   "outputs": [],
   "source": [
    "t_vec_plot = {2: top_vecs[2], 5: umap.UMAP(n_neighbors=15,\n",
    "                                n_components=2,\n",
    "                                metric='cosine').fit_transform(top_vecs[5])}\n",
    "tNg_vec_plot = {2: topNg_vecs[2], 5: umap.UMAP(n_neighbors=15,\n",
    "                                n_components=2,\n",
    "                                metric='cosine').fit_transform(topNg_vecs[5])}"
   ]
  },
  {
   "cell_type": "code",
   "execution_count": 77,
   "metadata": {},
   "outputs": [],
   "source": [
    "top_vecs_p = {'g': t_vec_plot, 'ng': tNg_vec_plot}"
   ]
  },
  {
   "cell_type": "code",
   "execution_count": 81,
   "metadata": {},
   "outputs": [],
   "source": [
    "savePk('top_vecs4plot', top_vecs_p)"
   ]
  },
  {
   "cell_type": "code",
   "execution_count": 83,
   "metadata": {},
   "outputs": [],
   "source": [
    "def dict_from_gt(gt):\n",
    "    out_dict = {}\n",
    "    keys = gt.keys()\n",
    "    for k in keys:\n",
    "        tuples = gt[k]\n",
    "        out_dict[k] = [t[0] for t in tuples if t[1] > 0.001]\n",
    "\n",
    "    return out_dict\n",
    "\n",
    "ng_tws = dict_from_gt(bTopNg_model.get_topics())\n",
    "g_tws = dict_from_gt(bTop_model.get_topics())"
   ]
  },
  {
   "cell_type": "code",
   "execution_count": 88,
   "metadata": {},
   "outputs": [],
   "source": [
    "import csv"
   ]
  },
  {
   "cell_type": "code",
   "execution_count": 96,
   "metadata": {},
   "outputs": [],
   "source": [
    "def write_tws(t_dict, fn):\n",
    "    with open(fn, 'w') as f:\n",
    "        writer = csv.DictWriter(f, fieldnames=['Topic', 'Words'])\n",
    "        writer.writeheader()\n",
    "        for k in t_dict.keys():\n",
    "            f.write('{}, {}\\n'.format(str(k), '; '.join(t_dict[k])))\n",
    "        f.close()"
   ]
  },
  {
   "cell_type": "code",
   "execution_count": 97,
   "metadata": {},
   "outputs": [],
   "source": [
    "write_tws(ng_tws, 'topic_words_noGram.csv')\n",
    "write_tws(g_tws, 'topic_words_wGram.csv')"
   ]
  },
  {
   "cell_type": "code",
   "execution_count": 107,
   "metadata": {},
   "outputs": [],
   "source": [
    "a = full_corpus.index.values[:10]\n",
    "b = full_corpus.index.values[10:]"
   ]
  },
  {
   "cell_type": "code",
   "execution_count": 111,
   "metadata": {},
   "outputs": [
    {
     "data": {
      "text/plain": [
       "169825"
      ]
     },
     "execution_count": 111,
     "metadata": {},
     "output_type": "execute_result"
    }
   ],
   "source": [
    "len(full_embs[5])"
   ]
  },
  {
   "cell_type": "code",
   "execution_count": 112,
   "metadata": {},
   "outputs": [],
   "source": [
    "def dev_from_start(df, comp, embs): \n",
    "    our_df = df.loc[(df.Comp == comp) & (df.t2v != 'n')]\n",
    "    inds = our_df.index.values\n",
    "    nd = embs.shape[1]\n",
    "    # get first average of first 10 messages for starting point\n",
    "    firstInds = inds[:10]\n",
    "    start_vec = np.zeros(nd)\n",
    "    for i in firstInds:\n",
    "        start_vec += embs[i, :]\n",
    "    start_vec /= 10\n",
    "    \n",
    "    dists = []\n",
    "    dates = []\n",
    "    \n",
    "    for i in inds[10:]:\n",
    "        dist_vec = embs[i,:] - start_vec\n",
    "        dists.append(np.linalg.norm(dist_vec))\n",
    "        dates.append(df['createdAt'].iloc[i])\n",
    "    \n",
    "    plt.plot (dates, dists)"
   ]
  },
  {
   "cell_type": "code",
   "execution_count": 113,
   "metadata": {},
   "outputs": [
    {
     "data": {
      "image/png": "[encoded data removed]",
      "text/plain": [
       "<Figure size 432x288 with 1 Axes>"
      ]
     },
     "metadata": {
      "needs_background": "light"
     },
     "output_type": "display_data"
    }
   ],
   "source": [
    "dev_from_start(full_corpus, 'pypl', full_embs[5])"
   ]
  },
  {
   "cell_type": "code",
   "execution_count": 121,
   "metadata": {},
   "outputs": [
    {
     "data": {
      "text/plain": [
       "-1"
      ]
     },
     "execution_count": 121,
     "metadata": {},
     "output_type": "execute_result"
    }
   ],
   "source": [
    "full_corpus['top_Ng'].value_counts().index.values[0]"
   ]
  },
  {
   "cell_type": "code",
   "execution_count": 29,
   "metadata": {},
   "outputs": [],
   "source": [
    "a = np.array([1,2,4])\n",
    "b = np.array([3,5,6])\n",
    "c = np.zeros(3)\n",
    "for i in [a, b]:\n",
    "    c+= i\n",
    "c /= 2    "
   ]
  },
  {
   "cell_type": "code",
   "execution_count": 30,
   "metadata": {},
   "outputs": [
    {
     "data": {
      "text/plain": [
       "array([2. , 3.5, 5. ])"
      ]
     },
     "execution_count": 30,
     "metadata": {},
     "output_type": "execute_result"
    }
   ],
   "source": [
    "c"
   ]
  },
  {
   "cell_type": "code",
   "execution_count": 127,
   "metadata": {},
   "outputs": [],
   "source": [
    "def find_main_topic(df, comp, mod='top_Ng'):\n",
    "    our_df = df.loc[(df.Comp == comp) & (df.t2v != 'n')]\n",
    "    max_ind = our_df[mod].value_counts().index.values[0]\n",
    "    \n",
    "    if max_ind == -1:\n",
    "        return our_df[mod].value_counts().index.values[1]\n",
    "    return max_ind"
   ]
  },
  {
   "cell_type": "code",
   "execution_count": 138,
   "metadata": {},
   "outputs": [],
   "source": [
    "def dev_from_main(df, comp, embs, t_vecs, mod = 'top_Ng'):\n",
    "    our_df = df.loc[(df.Comp == comp) & (df.t2v != 'n')]\n",
    "    main_top = find_main_topic(df, comp, mod)\n",
    "    main_top_vec = t_vecs[main_top, :]\n",
    "    \n",
    "    nTops = t_vecs.shape[0]\n",
    "    main_vec = t_vecs[main_top, :]\n",
    "    dist_dict = {}\n",
    "    dist_dict[-1] = 0\n",
    "    for i in range(nTops):\n",
    "        cur_top = t_vecs[i, :]\n",
    "        similarity = np.linalg.norm(cur_top - main_vec)\n",
    "        dist_dict[i] = similarity\n",
    "    \n",
    "\n",
    "    dists = our_df[mod].apply(lambda x: dist_dict[x])\n",
    "    \n",
    "    # getting index score\n",
    "    dists_norm = [(d - min(dists))/(max(dists)-min(dists)) for d in dists]\n",
    "    score = np.mean(dists_norm)\n",
    "    print(score)\n",
    "    plt.plot(our_df.createdAt.values, dists)"
   ]
  },
  {
   "cell_type": "code",
   "execution_count": 140,
   "metadata": {},
   "outputs": [
    {
     "name": "stdout",
     "output_type": "stream",
     "text": [
      "0.1142197334793642\n"
     ]
    },
    {
     "data": {
      "image/png": "[encoded data removed]",
      "text/plain": [
       "<Figure size 432x288 with 1 Axes>"
      ]
     },
     "metadata": {
      "needs_background": "light"
     },
     "output_type": "display_data"
    }
   ],
   "source": [
    "dev_from_main(full_corpus, 'aapl', full_embs[5], topNg_vecs[5])"
   ]
  },
  {
   "cell_type": "code",
   "execution_count": 125,
   "metadata": {},
   "outputs": [],
   "source": [
    "savePk('top_vecs', top_vecs)\n",
    "savePk('topNg_vecs', topNg_vecs)"
   ]
  },
  {
   "cell_type": "code",
   "execution_count": 126,
   "metadata": {
    "scrolled": true
   },
   "outputs": [
    {
     "data": {
      "text/plain": [
       "{2: array([[ 7.91948166e+00, -4.05754628e+00],\n",
       "        [ 7.69892265e+00, -8.41833060e+00],\n",
       "        [ 4.46929266e+00,  1.53790192e+00],\n",
       "        [ 1.98287055e+01,  1.15570169e+01],\n",
       "        [ 1.40315326e+01,  2.28188907e+00],\n",
       "        [ 8.04922645e+00, -3.94245016e+00],\n",
       "        [ 4.20293887e+00, -1.53831771e+00],\n",
       "        [ 2.65414241e+00, -7.12355844e+00],\n",
       "        [ 1.99006722e+01,  3.33074140e+00],\n",
       "        [ 1.23842280e+01,  1.74251137e+00],\n",
       "        [ 1.30548903e+01,  2.06208969e+00],\n",
       "        [ 1.28576495e+01, -8.82566821e-01],\n",
       "        [ 1.24236302e+01, -1.22651914e+00],\n",
       "        [ 1.18474442e+01, -8.81983494e-01],\n",
       "        [ 9.08917516e+00,  4.10392658e+00],\n",
       "        [ 9.37613625e+00,  2.65837551e+00],\n",
       "        [ 1.09276587e+01, -4.24050914e-01],\n",
       "        [ 9.33731504e+00,  2.57146657e+00],\n",
       "        [ 8.20340169e+00,  1.43550195e+00],\n",
       "        [ 7.04332804e+00, -4.06818119e-01],\n",
       "        [ 7.56620026e+00,  1.21666656e+00],\n",
       "        [ 8.63705063e+00,  2.94006707e+00],\n",
       "        [ 1.06702719e+01,  2.94933640e+00],\n",
       "        [ 1.22432677e+01,  5.11931604e+00],\n",
       "        [ 9.33434296e+00,  1.32776948e+00],\n",
       "        [ 1.10869492e+01,  1.46641153e+00],\n",
       "        [ 7.22949677e+00,  1.53986360e+00],\n",
       "        [ 1.12377118e+01,  3.27255345e+00],\n",
       "        [ 1.19173793e+01,  7.61880526e+00],\n",
       "        [ 4.93356637e+00,  1.03060869e+00],\n",
       "        [ 1.06382579e+01,  4.06992375e+00],\n",
       "        [ 7.11661422e+00,  2.32926396e+00],\n",
       "        [ 6.25528190e+00,  5.17876040e-01],\n",
       "        [ 1.00217978e+01,  1.05402717e+00],\n",
       "        [ 9.10322475e+00, -1.36178565e-01],\n",
       "        [ 7.55648620e+00,  3.03229789e+00],\n",
       "        [ 7.78507881e+00,  3.12870650e+00],\n",
       "        [ 6.96816951e+00,  3.91026136e+00],\n",
       "        [ 9.53403847e+00,  1.41679882e+00],\n",
       "        [ 5.96476412e+00,  2.18314854e+00],\n",
       "        [ 9.24559499e+00,  1.14792450e+00],\n",
       "        [ 6.93284143e+00,  3.90880906e+00],\n",
       "        [ 9.47124690e+00,  1.37923772e+00],\n",
       "        [ 4.26361935e+00,  1.06657594e+00],\n",
       "        [ 5.58841359e+00,  3.59347921e+00],\n",
       "        [ 7.12931134e+00,  3.38486143e+00],\n",
       "        [ 5.17601566e+00,  1.11812151e+00],\n",
       "        [ 6.10834698e+00,  1.06923114e+00],\n",
       "        [ 6.76066732e+00,  3.42837505e+00],\n",
       "        [ 6.32847202e+00,  1.89604384e+00],\n",
       "        [ 5.61661720e+00,  2.44192291e+00],\n",
       "        [ 7.48007650e+00,  3.06760689e+00],\n",
       "        [ 8.65576958e+00,  3.66455267e+00],\n",
       "        [ 6.94418000e+00,  5.08613051e+00],\n",
       "        [ 8.45224302e+00,  9.42264121e-02],\n",
       "        [ 8.81457520e+00,  1.48629414e+00],\n",
       "        [ 9.31038527e+00,  2.75995923e+00],\n",
       "        [ 7.12235613e+00,  3.54436584e+00],\n",
       "        [ 9.59880821e+00,  3.36844695e+00],\n",
       "        [ 1.16029331e+01, -3.88905317e-01],\n",
       "        [ 1.58277754e+01,  7.73398952e-04],\n",
       "        [ 8.35148482e+00,  1.28036530e+00],\n",
       "        [ 7.51951329e+00,  2.49880747e+00],\n",
       "        [ 7.29582678e+00,  1.41445920e+00],\n",
       "        [ 7.26994717e+00,  2.96967488e+00],\n",
       "        [ 9.43225997e+00,  3.20636872e+00],\n",
       "        [ 8.41688289e+00,  4.98870755e-01],\n",
       "        [ 8.43009470e+00, -2.73889598e-01],\n",
       "        [ 1.25670085e+01, -7.27842460e-01],\n",
       "        [ 7.58281589e+00,  2.80275005e+00],\n",
       "        [ 1.02277564e+01,  1.08828111e+00],\n",
       "        [ 1.03164509e+01,  3.08296063e+00],\n",
       "        [ 7.29003038e+00,  1.55084831e+00],\n",
       "        [ 7.38048347e+00,  2.43169689e+00],\n",
       "        [ 9.74383659e+00,  4.98123175e-01],\n",
       "        [ 8.47433482e+00,  2.62639319e+00],\n",
       "        [ 7.06937853e+00,  2.29538141e+00],\n",
       "        [ 7.57291549e+00,  2.77324071e+00],\n",
       "        [ 7.19831625e+00,  1.14199385e+00],\n",
       "        [ 9.84149919e+00, -1.24947136e+00],\n",
       "        [ 1.02420664e+01,  2.09309705e+00],\n",
       "        [ 1.16599201e+01,  2.67465967e+00],\n",
       "        [ 7.31254305e+00, -1.94180924e-01],\n",
       "        [ 1.06075871e+01,  1.90649936e+00],\n",
       "        [ 1.12042076e+01,  1.83005131e+00],\n",
       "        [ 9.27419679e+00,  2.57566333e+00],\n",
       "        [ 8.64508229e+00,  3.00388019e+00],\n",
       "        [ 1.31503927e+01,  2.18603704e+00],\n",
       "        [ 1.07749876e+01,  1.42203464e+00],\n",
       "        [ 1.26430788e+01,  2.09059263e+00],\n",
       "        [ 1.27475568e+01,  1.71954236e+00],\n",
       "        [ 7.49173229e+00,  2.46168589e+00],\n",
       "        [ 1.28850881e+01, -2.35137849e-02],\n",
       "        [ 1.37566833e+01, -4.30693141e-01],\n",
       "        [ 8.48212634e+00,  3.96875650e-01],\n",
       "        [ 8.21317781e+00,  3.72745652e-01],\n",
       "        [ 1.19407070e+01,  2.91385256e+00],\n",
       "        [ 1.26616219e+01,  3.70987209e+00],\n",
       "        [ 1.17999168e+01,  2.95159085e+00],\n",
       "        [ 8.23886373e+00,  2.62798777e+00],\n",
       "        [ 1.27250369e+01,  2.79619582e-01],\n",
       "        [ 9.31505933e+00,  2.88841196e+00],\n",
       "        [ 8.60814587e+00,  4.16153199e-01],\n",
       "        [ 9.90427717e+00, -2.53127424e+00],\n",
       "        [ 8.58478418e+00,  7.24824411e-01],\n",
       "        [ 9.00374202e+00, -4.69220909e-01],\n",
       "        [ 8.40173131e+00,  1.95947338e+00],\n",
       "        [ 7.16896152e+00,  1.50243068e+00],\n",
       "        [ 7.64171313e+00,  2.24914167e+00],\n",
       "        [ 1.17936969e+01,  2.79669989e-01],\n",
       "        [ 7.38690734e+00,  3.14111072e+00],\n",
       "        [ 7.92795919e+00,  1.24513623e+00],\n",
       "        [ 8.10091427e+00,  1.26813713e+00],\n",
       "        [ 1.12909594e+01,  3.25159116e+00],\n",
       "        [ 1.03663995e+01, -3.47572575e-01],\n",
       "        [ 7.05377359e+00,  3.45080149e+00],\n",
       "        [ 1.15012408e+01,  1.29019075e+00],\n",
       "        [ 7.64861940e+00,  3.07938081e+00],\n",
       "        [ 7.88758969e+00,  2.76204451e+00],\n",
       "        [ 7.37670376e+00,  3.67824249e+00],\n",
       "        [ 6.75057766e+00,  4.05922281e+00],\n",
       "        [ 8.36424116e+00,  1.19309756e+00],\n",
       "        [ 1.29940623e+01, -1.22880523e+00],\n",
       "        [ 1.38295095e+01, -1.67894354e+00],\n",
       "        [ 1.25674831e+01, -1.46681401e+00],\n",
       "        [ 8.53701821e+00,  1.76402141e+00],\n",
       "        [ 9.19055046e+00,  1.77218647e+00],\n",
       "        [ 9.98698446e+00,  3.18072569e-01],\n",
       "        [ 1.01268059e+01,  3.55433934e-01],\n",
       "        [ 9.78000556e+00, -3.02953301e-01],\n",
       "        [ 1.09195621e+01,  7.70514931e-02],\n",
       "        [ 1.09314011e+01,  2.03810714e-01],\n",
       "        [ 1.05352396e+01, -4.51544523e-01],\n",
       "        [ 1.12611213e+01, -3.87633261e-01]]),\n",
       " 5: array([[ 7.12311573,  6.27043386,  4.25856088,  5.71219091,  0.44068657],\n",
       "        [10.85951159,  2.17838187,  3.98403275, -4.3906161 ,  2.48750294],\n",
       "        [10.70190331, 10.04306526,  3.17289914,  8.20592229,  0.98279335],\n",
       "        [-2.04101833,  4.79365968,  2.37686271,  9.66304324, -0.81262345],\n",
       "        [ 8.67869782,  5.7911104 ,  3.48843338,  6.16745591,  2.45174677],\n",
       "        [ 9.83884989,  0.97868096,  4.97588518,  7.42693903,  3.62030188],\n",
       "        [13.1045643 ,  2.75488368,  2.4449212 ,  5.99437779,  8.68526427],\n",
       "        [12.9672093 ,  6.8410793 ,  4.94463431, -0.43704353,  0.59882232],\n",
       "        [11.68384075,  2.20909896,  3.50600764,  6.60420235, 13.43044992],\n",
       "        [ 8.21540294,  4.77436647,  4.70514505,  6.10422188,  3.41864908],\n",
       "        [ 9.49465227,  3.8139077 ,  3.05212187,  6.41383272,  6.53368443],\n",
       "        [ 9.90536238,  3.83056712,  3.85915019,  6.87058108,  4.04592943],\n",
       "        [ 9.42972879,  3.38345574,  4.38684726,  7.2572068 ,  4.19967514],\n",
       "        [ 9.76524193,  3.60968419,  4.06222607,  6.69730704,  4.54858218],\n",
       "        [ 9.05751661,  4.61997922,  4.53610512,  3.44018533,  5.83783386],\n",
       "        [ 9.22301198,  4.12474609,  4.59315134,  4.78183896,  5.96304835],\n",
       "        [ 9.60081021,  3.57185514,  4.59070529,  5.93647455,  4.6880748 ],\n",
       "        [ 8.82324825,  3.95621711,  4.13962301,  4.40869493,  6.14660368],\n",
       "        [ 8.77064529,  3.15242128,  5.01298743,  4.73075502,  6.10612093],\n",
       "        [ 9.80826267,  1.58380549,  4.64527614,  5.03971406,  4.98686411],\n",
       "        [ 8.37956871,  2.7886594 ,  5.62899894,  4.81311248,  6.5329773 ],\n",
       "        [ 8.4485292 ,  3.83144135,  4.78138987,  4.17982756,  6.13215314],\n",
       "        [ 8.6785748 ,  4.3060946 ,  3.65175451,  4.74407259,  5.16761854],\n",
       "        [ 7.10063655,  3.85569746,  6.27336264,  6.90365738,  6.83610074],\n",
       "        [ 7.11550755,  3.73600979,  5.53878868,  6.21186722,  6.11026455],\n",
       "        [ 9.29606558,  4.84043488,  3.39669424,  6.05017355,  4.42372017],\n",
       "        [ 8.01758333,  2.96385878,  5.64566433,  4.34971191,  6.23745711],\n",
       "        [ 8.79069743,  4.85507404,  4.13909513,  4.64365836,  4.32316596],\n",
       "        [ 5.94510932,  2.4305457 ,  5.61784856,  7.26967683,  8.42393992],\n",
       "        [ 7.4857123 ,  2.29617491,  6.93768267,  4.73374492,  7.53043711],\n",
       "        [ 7.92591929,  4.34966005,  3.40992897,  4.41884169,  5.04219852],\n",
       "        [ 7.50492859,  2.94389123,  5.94012678,  4.1935246 ,  6.77177155],\n",
       "        [ 7.89143844,  2.3442743 ,  6.73376237,  4.79010539,  7.05110002],\n",
       "        [ 7.58931118,  3.83557455,  5.64641791,  6.80076093,  5.88075445],\n",
       "        [10.40085941,  3.76838414,  4.41748445,  5.25683165,  5.5191711 ],\n",
       "        [ 8.5137027 ,  3.84097987,  4.8311122 ,  3.60222506,  6.84609427],\n",
       "        [ 8.3074419 ,  3.92998176,  5.01844292,  4.19520512,  6.54218006],\n",
       "        [ 8.67510126,  3.85994858,  5.53194799,  3.06810571,  7.08210966],\n",
       "        [ 8.45990573,  3.58702689,  4.75094688,  5.17368794,  5.56193031],\n",
       "        [ 7.37845596,  2.9772648 ,  6.38045168,  4.10826214,  7.09704638],\n",
       "        [ 8.59504513,  3.81643711,  5.03357688,  5.13851241,  5.58631121],\n",
       "        [ 8.30622611,  3.86059736,  5.37082291,  3.21174217,  7.24423549],\n",
       "        [ 8.87750585,  3.70378869,  4.83836207,  5.13051808,  5.43245215],\n",
       "        [ 7.22813311,  2.23960844,  7.28294374,  4.94337455,  7.95564899],\n",
       "        [ 7.94137071,  3.55800016,  6.23376485,  2.91564245,  7.22543429],\n",
       "        [ 8.51050335,  3.58067364,  5.23721758,  3.84541081,  7.12757735],\n",
       "        [ 7.44587861,  1.99180532,  6.77145745,  4.21287766,  7.25704132],\n",
       "        [ 7.73721391,  1.84663974,  6.32317264,  3.93897435,  6.7244511 ],\n",
       "        [ 8.21915464,  3.53177242,  5.58705969,  3.74308639,  7.02924538],\n",
       "        [ 7.2148546 ,  2.72169375,  6.14328337,  4.2273922 ,  6.85857761],\n",
       "        [ 6.51342685,  2.51532402,  5.73003322,  4.22952244,  7.12142487],\n",
       "        [ 8.35901899,  3.45662521,  5.26580279,  3.80300945,  6.62630841],\n",
       "        [ 8.64846226,  4.17313372,  4.77037425,  3.7823072 ,  6.05212905],\n",
       "        [ 8.83559874,  3.78288132,  4.37177271,  3.33051177,  7.54948507],\n",
       "        [ 8.47620078,  2.58988568,  5.19221895,  5.60157224,  5.6883463 ],\n",
       "        [ 8.20146465,  3.26387209,  5.23916173,  5.08299685,  5.69320595],\n",
       "        [ 9.21155703,  3.99764737,  4.72194271,  4.18996563,  5.54228334],\n",
       "        [ 7.8828208 ,  3.70226793,  5.37325478,  3.43274789,  6.97701044],\n",
       "        [ 8.44582653,  4.64819116,  4.32474623,  4.12582487,  5.60655531],\n",
       "        [ 9.99147333,  3.90213046,  3.59117888,  5.82565985,  5.03108081],\n",
       "        [11.92412184,  3.723304  ,  2.68607705,  6.70215854,  1.75926356],\n",
       "        [ 7.90026266,  3.22487257,  5.3763406 ,  5.31276398,  5.93191188],\n",
       "        [ 8.33984152,  3.27822185,  5.30794239,  4.23620447,  6.51021369],\n",
       "        [ 7.59989058,  2.69955462,  5.61512214,  4.45804041,  6.18550777],\n",
       "        [ 7.97775244,  3.42186442,  5.55107218,  3.70263022,  6.55476253],\n",
       "        [ 8.36182547,  4.05104799,  4.43330129,  4.59479238,  5.51442871],\n",
       "        [ 7.97295784,  2.63052827,  5.20734705,  5.34341476,  5.45299028],\n",
       "        [ 8.53436756,  2.43902785,  5.21016792,  5.78651379,  5.65580494],\n",
       "        [ 9.97675357,  3.9210359 ,  3.73005517,  6.62020329,  4.24821804],\n",
       "        [ 7.86858658,  3.54246612,  5.55102563,  3.81007165,  6.3239694 ],\n",
       "        [ 7.59191854,  4.31999084,  4.96199361,  5.49509414,  4.04188377],\n",
       "        [ 8.12164422,  4.79049928,  4.30129995,  4.46377211,  4.76621945],\n",
       "        [ 7.87390175,  2.80438981,  5.92217159,  4.50900793,  6.23717451],\n",
       "        [ 7.41313203,  3.29311005,  5.69078668,  3.97743726,  6.18840917],\n",
       "        [ 8.00535884,  3.29659681,  5.17728939,  6.51706762,  5.42310586],\n",
       "        [ 8.17236211,  3.72533785,  4.98237874,  4.57318327,  6.23564319],\n",
       "        [ 7.70019828,  3.02262934,  5.54207876,  4.27181043,  6.65416945],\n",
       "        [ 8.45171549,  3.55432237,  5.29326215,  4.54700874,  6.82340167],\n",
       "        [ 7.8201107 ,  2.66965666,  6.05515514,  4.70126642,  6.25381933],\n",
       "        [ 9.55805992,  1.84186065,  5.22287433,  5.50909021,  3.93912507],\n",
       "        [ 7.90027786,  4.25242176,  4.64343129,  5.71190677,  5.22675487],\n",
       "        [ 8.5233484 ,  4.47305067,  3.45597569,  5.49144335,  4.5752004 ],\n",
       "        [ 8.37032667,  2.37574406,  6.47653627,  5.08595061,  5.67990428],\n",
       "        [ 7.99820582,  4.36257623,  4.61702326,  6.01037456,  5.21776939],\n",
       "        [ 8.16426808,  4.55403412,  4.32759223,  6.1582946 ,  4.82825376],\n",
       "        [ 7.87109904,  3.66831326,  4.41809475,  4.49283853,  5.40595845],\n",
       "        [ 7.85985309,  4.04990703,  4.9096289 ,  4.10458248,  5.8593123 ],\n",
       "        [ 8.39839392,  5.4186015 ,  3.97924786,  6.06309543,  3.06279725],\n",
       "        [ 8.02016854,  3.77801181,  4.34734589,  5.77913458,  4.27693116],\n",
       "        [ 8.58947766,  4.90661874,  3.31844199,  5.87998016,  3.77896342],\n",
       "        [ 9.01459419,  5.08834571,  3.50470448,  6.06769569,  3.83832121],\n",
       "        [ 7.60642088,  3.38339644,  5.55532123,  4.14092479,  6.33508444],\n",
       "        [ 8.48852872,  1.87297236,  4.97151108,  6.1738545 ,  4.56551914],\n",
       "        [10.35814211,  4.44056981,  2.72390866,  6.39478002,  3.39854115],\n",
       "        [ 8.455938  ,  2.91139318,  5.20798608,  5.50616976,  5.74181693],\n",
       "        [ 8.29797871,  2.54970051,  5.53800431,  5.61032164,  5.85466107],\n",
       "        [ 9.31441307,  5.57108583,  3.47016485,  4.28613991,  4.14866683],\n",
       "        [ 8.37387153,  5.08878678,  2.40119735,  4.99268033,  4.32807055],\n",
       "        [ 9.06800631,  5.44573876,  3.70655777,  4.49976295,  4.28783544],\n",
       "        [ 7.38487681,  3.94349785,  5.5034406 ,  4.32082636,  5.99968511],\n",
       "        [10.01060855,  4.36748379,  4.03251221,  6.08198025,  4.21964898],\n",
       "        [ 7.9565946 ,  3.92604227,  4.85940551,  4.46789155,  5.19547086],\n",
       "        [ 8.2037367 ,  2.77026804,  5.26679841,  5.84985633,  5.58783711],\n",
       "        [10.26656713,  3.04673057,  1.59600449,  7.66433523,  3.22752513],\n",
       "        [ 8.47720012,  2.86186613,  5.36654428,  5.04895197,  5.4995532 ],\n",
       "        [ 8.84832515,  2.84179427,  5.48902624,  5.4080205 ,  4.69419578],\n",
       "        [ 8.03455432,  3.56162876,  5.2509186 ,  4.51921282,  5.73063986],\n",
       "        [ 7.38227606,  2.6880126 ,  5.93690395,  4.30433512,  6.02838659],\n",
       "        [ 7.73784886,  3.31373175,  5.76479942,  4.21095335,  6.07594695],\n",
       "        [ 8.84080758,  3.75224106,  3.96386588,  6.84918331,  4.63125479],\n",
       "        [ 7.94562399,  3.55003577,  5.25700808,  4.19107699,  6.75628901],\n",
       "        [ 7.75735743,  2.92257361,  5.58481629,  4.85494701,  5.75371007],\n",
       "        [ 7.93364792,  2.98263469,  5.4149289 ,  4.9324686 ,  5.86312357],\n",
       "        [ 8.20352425,  4.77211518,  4.02744036,  4.87699389,  4.56579377],\n",
       "        [ 9.21291431,  3.22379448,  4.63840193,  6.1696258 ,  4.50110657],\n",
       "        [ 7.68646479,  3.66855159,  5.43554678,  3.48634455,  6.92502303],\n",
       "        [ 7.86638091,  4.00917667,  4.98350343,  7.39488016,  5.38742763],\n",
       "        [ 7.42491452,  3.64192697,  5.23397886,  3.64658645,  6.29786462],\n",
       "        [ 8.1305    ,  3.59321499,  5.45192313,  3.9874771 ,  6.11352952],\n",
       "        [ 8.41230118,  3.47557593,  4.80876823,  3.51727451,  6.96257807],\n",
       "        [ 7.89312128,  3.57125275,  5.05090494,  2.99489511,  7.33760956],\n",
       "        [ 7.68465537,  3.07411436,  5.54181882,  5.44717664,  5.85423047],\n",
       "        [10.73721323,  4.15413156,  3.14349611,  6.24526111,  4.2526511 ],\n",
       "        [11.15792676,  4.37952886,  3.02239116,  6.61260191,  3.7029253 ],\n",
       "        [10.26590032,  3.64534445,  3.20303798,  6.95566796,  4.28107414],\n",
       "        [ 7.55426391,  3.40419162,  5.50547349,  5.14446591,  5.80441043],\n",
       "        [ 7.62886654,  3.68366182,  5.12589181,  5.23818259,  5.29297115],\n",
       "        [ 8.50943217,  3.22803699,  4.86777365,  5.71284435,  4.4546551 ],\n",
       "        [ 9.00586291,  3.39170574,  4.79499498,  6.08949569,  5.3091003 ],\n",
       "        [ 8.68170645,  2.92566122,  4.95079307,  6.31499389,  4.87952562],\n",
       "        [ 8.74071692,  3.42944269,  4.49776399,  6.07833835,  3.91025631],\n",
       "        [ 8.49071135,  3.38055936,  4.69577218,  6.35533378,  3.87103825],\n",
       "        [ 8.2124247 ,  3.07179924,  4.99661916,  6.61411432,  3.72374853],\n",
       "        [ 9.12408267,  3.16243338,  4.5829778 ,  6.42442584,  3.85847337]])}"
      ]
     },
     "execution_count": 126,
     "metadata": {},
     "output_type": "execute_result"
    }
   ],
   "source": [
    "top_vecs"
   ]
  },
  {
   "cell_type": "code",
   "execution_count": 136,
   "metadata": {},
   "outputs": [
    {
     "data": {
      "text/plain": [
       "array(['aapl', 'abb', 'amzn', 'aon', 'bmy', 'cern', 'csco', 'ebay',\n",
       "       'hsbc', 'jpm', 'mmm', 'nflx', 'pypl'], dtype=object)"
      ]
     },
     "execution_count": 136,
     "metadata": {},
     "output_type": "execute_result"
    }
   ],
   "source": [
    "full_corpus.Comp.unique()"
   ]
  },
  {
   "cell_type": "code",
   "execution_count": 32,
   "metadata": {},
   "outputs": [],
   "source": [
    "if 's' in 'hello':\n",
    "    print('lol')"
   ]
  },
  {
   "cell_type": "code",
   "execution_count": 119,
   "metadata": {},
   "outputs": [],
   "source": [
    "def window_check(t1, t2, window):\n",
    "    t1_sec, t2_sec = time.mktime(t1), time.mktime(t2)\n",
    "    wind_sec = window*60**2\n",
    "    if t2_sec - t1_sec < wind_sec and t2_sec - t1_sec > 0:\n",
    "        return True\n",
    "    return False\n",
    "\n",
    "def get_time(df, ind, date_col='createdAt'):\n",
    "    return df[date_col].iloc[ind]\n",
    "def parse_dtime(time_str):\n",
    "    parsed_dtime = time.strptime(str(time_str), '%Y-%m-%d %H:%M:%S')\n",
    "    return parsed_dtime"
   ]
  },
  {
   "cell_type": "code",
   "execution_count": 19,
   "metadata": {},
   "outputs": [
    {
     "data": {
      "text/plain": [
       "False"
      ]
     },
     "execution_count": 19,
     "metadata": {},
     "output_type": "execute_result"
    }
   ],
   "source": [
    "t1 = get_time(full_corpus, 0)\n",
    "t2 = get_time(full_corpus, 1)\n",
    "\n",
    "window_check(parse_dtime(t1), parse_dtime(t2), 2)"
   ]
  },
  {
   "cell_type": "code",
   "execution_count": 116,
   "metadata": {},
   "outputs": [],
   "source": [
    "def split_df(df, window):\n",
    "    inds = df.index.values\n",
    "    blocks = []\n",
    "    cur_ind = 0\n",
    "    while cur_ind < len(inds):\n",
    "        j = 1\n",
    "        cur_t = get_time(df, cur_ind)\n",
    "\n",
    "        if cur_ind + j >= len(inds):\n",
    "            blocks.append((cur_ind, cur_ind))\n",
    "            break\n",
    "        next_t = get_time(df, cur_ind+j)\n",
    "        \n",
    "        while window_check(parse_dtime(cur_t), parse_dtime(next_t), window) and cur_ind+j < len(inds):\n",
    "            j += 1\n",
    "            if cur_ind+j < len(inds):\n",
    "                next_t = get_time(df, cur_ind+j)\n",
    "        \n",
    "        blocks.append((cur_ind, cur_ind+j-1))\n",
    "        cur_ind += j\n",
    "    return blocks"
   ]
  },
  {
   "cell_type": "code",
   "execution_count": 28,
   "metadata": {},
   "outputs": [
    {
     "data": {
      "text/html": [
       "<div>\n",
       "<style scoped>\n",
       "    .dataframe tbody tr th:only-of-type {\n",
       "        vertical-align: middle;\n",
       "    }\n",
       "\n",
       "    .dataframe tbody tr th {\n",
       "        vertical-align: top;\n",
       "    }\n",
       "\n",
       "    .dataframe thead th {\n",
       "        text-align: right;\n",
       "    }\n",
       "</style>\n",
       "<table border=\"1\" class=\"dataframe\">\n",
       "  <thead>\n",
       "    <tr style=\"text-align: right;\">\n",
       "      <th></th>\n",
       "      <th>authorName</th>\n",
       "      <th>createdAt</th>\n",
       "      <th>Comp</th>\n",
       "      <th>message</th>\n",
       "      <th>URLs</th>\n",
       "      <th>msg_clean</th>\n",
       "      <th>t2v</th>\n",
       "      <th>top_Ng</th>\n",
       "      <th>top_g</th>\n",
       "      <th>deviation</th>\n",
       "    </tr>\n",
       "  </thead>\n",
       "  <tbody>\n",
       "    <tr>\n",
       "      <th>209</th>\n",
       "      <td>Stephen</td>\n",
       "      <td>2020-10-16 15:38:04</td>\n",
       "      <td>aapl</td>\n",
       "      <td>n</td>\n",
       "      <td>NaN</td>\n",
       "      <td>n</td>\n",
       "      <td>n</td>\n",
       "      <td>1</td>\n",
       "      <td>2</td>\n",
       "      <td>0.000000</td>\n",
       "    </tr>\n",
       "    <tr>\n",
       "      <th>231</th>\n",
       "      <td>John</td>\n",
       "      <td>2020-10-16 15:54:17</td>\n",
       "      <td>aapl</td>\n",
       "      <td>n</td>\n",
       "      <td>NaN</td>\n",
       "      <td>n</td>\n",
       "      <td>n</td>\n",
       "      <td>4</td>\n",
       "      <td>3</td>\n",
       "      <td>0.000000</td>\n",
       "    </tr>\n",
       "    <tr>\n",
       "      <th>239</th>\n",
       "      <td>Web</td>\n",
       "      <td>2020-10-16 15:59:05</td>\n",
       "      <td>aapl</td>\n",
       "      <td>n</td>\n",
       "      <td>NaN</td>\n",
       "      <td>n</td>\n",
       "      <td>n</td>\n",
       "      <td>1</td>\n",
       "      <td>2</td>\n",
       "      <td>0.000000</td>\n",
       "    </tr>\n",
       "    <tr>\n",
       "      <th>277</th>\n",
       "      <td>John</td>\n",
       "      <td>2020-10-16 16:33:33</td>\n",
       "      <td>aapl</td>\n",
       "      <td>n</td>\n",
       "      <td>NaN</td>\n",
       "      <td>n</td>\n",
       "      <td>n</td>\n",
       "      <td>4</td>\n",
       "      <td>3</td>\n",
       "      <td>0.000000</td>\n",
       "    </tr>\n",
       "    <tr>\n",
       "      <th>300</th>\n",
       "      <td>Web</td>\n",
       "      <td>2020-10-16 16:46:45</td>\n",
       "      <td>aapl</td>\n",
       "      <td>n</td>\n",
       "      <td>NaN</td>\n",
       "      <td>n</td>\n",
       "      <td>n</td>\n",
       "      <td>4</td>\n",
       "      <td>3</td>\n",
       "      <td>0.000000</td>\n",
       "    </tr>\n",
       "    <tr>\n",
       "      <th>...</th>\n",
       "      <td>...</td>\n",
       "      <td>...</td>\n",
       "      <td>...</td>\n",
       "      <td>...</td>\n",
       "      <td>...</td>\n",
       "      <td>...</td>\n",
       "      <td>...</td>\n",
       "      <td>...</td>\n",
       "      <td>...</td>\n",
       "      <td>...</td>\n",
       "    </tr>\n",
       "    <tr>\n",
       "      <th>169052</th>\n",
       "      <td>Steve</td>\n",
       "      <td>2020-11-03 21:30:46</td>\n",
       "      <td>pypl</td>\n",
       "      <td>n</td>\n",
       "      <td>NaN</td>\n",
       "      <td>n</td>\n",
       "      <td>n</td>\n",
       "      <td>4</td>\n",
       "      <td>3</td>\n",
       "      <td>3.566881</td>\n",
       "    </tr>\n",
       "    <tr>\n",
       "      <th>169372</th>\n",
       "      <td>Paul P</td>\n",
       "      <td>2020-11-21 00:52:13</td>\n",
       "      <td>pypl</td>\n",
       "      <td>n</td>\n",
       "      <td>NaN</td>\n",
       "      <td>n</td>\n",
       "      <td>n</td>\n",
       "      <td>4</td>\n",
       "      <td>3</td>\n",
       "      <td>5.318325</td>\n",
       "    </tr>\n",
       "    <tr>\n",
       "      <th>169446</th>\n",
       "      <td>Paul P</td>\n",
       "      <td>2020-11-25 21:00:11</td>\n",
       "      <td>pypl</td>\n",
       "      <td>n</td>\n",
       "      <td>NaN</td>\n",
       "      <td>n</td>\n",
       "      <td>n</td>\n",
       "      <td>1</td>\n",
       "      <td>2</td>\n",
       "      <td>4.930038</td>\n",
       "    </tr>\n",
       "    <tr>\n",
       "      <th>169531</th>\n",
       "      <td>Nick M</td>\n",
       "      <td>2020-12-01 14:18:53</td>\n",
       "      <td>pypl</td>\n",
       "      <td>n</td>\n",
       "      <td>NaN</td>\n",
       "      <td>n</td>\n",
       "      <td>n</td>\n",
       "      <td>4</td>\n",
       "      <td>3</td>\n",
       "      <td>5.213745</td>\n",
       "    </tr>\n",
       "    <tr>\n",
       "      <th>169561</th>\n",
       "      <td>T</td>\n",
       "      <td>2020-12-03 15:13:18</td>\n",
       "      <td>pypl</td>\n",
       "      <td>n</td>\n",
       "      <td>NaN</td>\n",
       "      <td>n</td>\n",
       "      <td>n</td>\n",
       "      <td>4</td>\n",
       "      <td>3</td>\n",
       "      <td>5.900212</td>\n",
       "    </tr>\n",
       "  </tbody>\n",
       "</table>\n",
       "<p>1469 rows × 10 columns</p>\n",
       "</div>"
      ],
      "text/plain": [
       "       authorName            createdAt  Comp message URLs msg_clean t2v  \\\n",
       "209       Stephen  2020-10-16 15:38:04  aapl       n  NaN         n   n   \n",
       "231          John  2020-10-16 15:54:17  aapl       n  NaN         n   n   \n",
       "239           Web  2020-10-16 15:59:05  aapl       n  NaN         n   n   \n",
       "277          John  2020-10-16 16:33:33  aapl       n  NaN         n   n   \n",
       "300           Web  2020-10-16 16:46:45  aapl       n  NaN         n   n   \n",
       "...           ...                  ...   ...     ...  ...       ...  ..   \n",
       "169052      Steve  2020-11-03 21:30:46  pypl       n  NaN         n   n   \n",
       "169372     Paul P  2020-11-21 00:52:13  pypl       n  NaN         n   n   \n",
       "169446     Paul P  2020-11-25 21:00:11  pypl       n  NaN         n   n   \n",
       "169531     Nick M  2020-12-01 14:18:53  pypl       n  NaN         n   n   \n",
       "169561          T  2020-12-03 15:13:18  pypl       n  NaN         n   n   \n",
       "\n",
       "        top_Ng  top_g  deviation  \n",
       "209          1      2   0.000000  \n",
       "231          4      3   0.000000  \n",
       "239          1      2   0.000000  \n",
       "277          4      3   0.000000  \n",
       "300          4      3   0.000000  \n",
       "...        ...    ...        ...  \n",
       "169052       4      3   3.566881  \n",
       "169372       4      3   5.318325  \n",
       "169446       1      2   4.930038  \n",
       "169531       4      3   5.213745  \n",
       "169561       4      3   5.900212  \n",
       "\n",
       "[1469 rows x 10 columns]"
      ]
     },
     "execution_count": 28,
     "metadata": {},
     "output_type": "execute_result"
    }
   ],
   "source": [
    "full_corpus.loc[full_corpus.t2v == 'n']"
   ]
  },
  {
   "cell_type": "code",
   "execution_count": 31,
   "metadata": {
    "scrolled": true
   },
   "outputs": [
    {
     "data": {
      "text/plain": [
       "(1556,)"
      ]
     },
     "execution_count": 31,
     "metadata": {},
     "output_type": "execute_result"
    }
   ],
   "source": [
    "(np.array([i[1] - i[0] +1 for i in split_df(full_corpus, 100)])).shape"
   ]
  },
  {
   "cell_type": "code",
   "execution_count": 121,
   "metadata": {},
   "outputs": [],
   "source": [
    "def calc_score(dists):\n",
    "    dists_norm = minmax_scale(dists)\n",
    "    score = np.mean(dists_norm)\n",
    "    return score\n",
    "\n",
    "def calc_block_dev(df, block, embs, t_vecs, mod = 'top_Ng'):\n",
    "    block_start, block_end = block\n",
    "    block_df = df.iloc[block_start:block_end+1]\n",
    "    \n",
    "    inds = block_df.index.values\n",
    "    nd = embs.shape[1]\n",
    "    main_dists = []\n",
    "    start_dists = []\n",
    "    block_size = len(inds)\n",
    "    if block_size == 1:\n",
    "        main_dists.append(0)\n",
    "        start_dists.append(0)\n",
    "        return 1, 1\n",
    "    else:\n",
    "        start_bs = block_size // 10\n",
    "        if start_bs == 0:\n",
    "            start_bs = 1\n",
    "        first_inds = inds[:start_bs]\n",
    "        start_vec = np.zeros(nd)\n",
    "        for i in first_inds:\n",
    "            start_vec += embs[i, :]\n",
    "        start_vec /= start_bs\n",
    "        \n",
    "        for i in inds[start_bs:]:\n",
    "            dist_vec = embs[i,:] - start_vec\n",
    "            start_dists.append(np.linalg.norm(dist_vec))\n",
    "        \n",
    "        tops = block_df[mod].value_counts().index.values\n",
    "        main_top = tops[0]\n",
    "        if main_top == -1:\n",
    "            if len(tops) > 1:\n",
    "                main_top = tops[1]\n",
    "            else: \n",
    "                main_dists = [0]\n",
    "                dfm = calc_score(main_dists)\n",
    "                dfs = calc_score(start_dists)\n",
    "                return dfs, dfm\n",
    "    \n",
    "        main_t_vec = t_vecs[main_top, :]\n",
    "        nTops = t_vecs.shape[0]\n",
    "        dist_dict = {}\n",
    "        dist_dict[-1] = 0\n",
    "        for i in range(nTops):\n",
    "            cur_top = t_vecs[i, :]\n",
    "            sim = np.linalg.norm(cur_top - main_t_vec)\n",
    "            dist_dict[i] = sim\n",
    "        main_dists = block_df[mod].apply(lambda x: dist_dict[x])\n",
    "        main_dists = main_dists.values\n",
    "        \n",
    "        dfm = calc_score(main_dists)\n",
    "        dfs = calc_score(start_dists)\n",
    "        return dfs, dfm\n",
    "    \n",
    "    \n",
    "def calc_per_block(df, window, embs, t_vecs, mod = 'top_Ng'):\n",
    "    our_df = df.loc[df.t2v != 'n']\n",
    "    blocks = split_df(our_df, window)\n",
    "    dfs_scores, dfm_scores = [], []\n",
    "    for b in blocks:\n",
    "        dfs, dfm = calc_block_dev(df, b, embs, t_vecs)\n",
    "        dfs_scores.append(dfs)\n",
    "        dfm_scores.append(dfm)\n",
    "    plt.plot([*range(len(dfs_scores))], dfs_scores)\n",
    "    plt.plot([*range(len(dfm_scores))], dfm_scores)\n",
    "    plt.legend(['Dev from Start', 'Dev from Main'])"
   ]
  },
  {
   "cell_type": "code",
   "execution_count": 122,
   "metadata": {},
   "outputs": [
    {
     "data": {
      "image/png": "[encoded data removed]",
      "text/plain": [
       "<Figure size 432x288 with 1 Axes>"
      ]
     },
     "metadata": {
      "needs_background": "light"
     },
     "output_type": "display_data"
    }
   ],
   "source": [
    "calc_per_block(full_corpus.loc[full_corpus.Comp == 'abb'], 100, full_embs[5], t_vecs[5])"
   ]
  },
  {
   "cell_type": "code",
   "execution_count": 63,
   "metadata": {},
   "outputs": [],
   "source": [
    "from sklearn.preprocessing import minmax_scale, MinMaxScaler"
   ]
  },
  {
   "cell_type": "code",
   "execution_count": 65,
   "metadata": {},
   "outputs": [
    {
     "data": {
      "text/plain": [
       "array([0.])"
      ]
     },
     "execution_count": 65,
     "metadata": {},
     "output_type": "execute_result"
    }
   ],
   "source": [
    "minmax_scale([10])"
   ]
  },
  {
   "cell_type": "code",
   "execution_count": 74,
   "metadata": {},
   "outputs": [
    {
     "data": {
      "text/plain": [
       "array(['aapl', 'abb', 'amzn', 'aon', 'bmy', 'cern', 'csco', 'ebay',\n",
       "       'hsbc', 'jpm', 'mmm', 'nflx', 'pypl'], dtype=object)"
      ]
     },
     "execution_count": 74,
     "metadata": {},
     "output_type": "execute_result"
    }
   ],
   "source": [
    "full_corpus.Comp.unique()"
   ]
  },
  {
   "cell_type": "code",
   "execution_count": 136,
   "metadata": {},
   "outputs": [
    {
     "data": {
      "text/html": [
       "<div>\n",
       "<style scoped>\n",
       "    .dataframe tbody tr th:only-of-type {\n",
       "        vertical-align: middle;\n",
       "    }\n",
       "\n",
       "    .dataframe tbody tr th {\n",
       "        vertical-align: top;\n",
       "    }\n",
       "\n",
       "    .dataframe thead th {\n",
       "        text-align: right;\n",
       "    }\n",
       "</style>\n",
       "<table border=\"1\" class=\"dataframe\">\n",
       "  <thead>\n",
       "    <tr style=\"text-align: right;\">\n",
       "      <th></th>\n",
       "      <th>authorName</th>\n",
       "      <th>createdAt</th>\n",
       "      <th>Comp</th>\n",
       "      <th>message</th>\n",
       "      <th>URLs</th>\n",
       "      <th>msg_clean</th>\n",
       "      <th>t2v</th>\n",
       "      <th>top_Ng</th>\n",
       "      <th>top_g</th>\n",
       "      <th>deviation</th>\n",
       "    </tr>\n",
       "  </thead>\n",
       "  <tbody>\n",
       "    <tr>\n",
       "      <th>37860</th>\n",
       "      <td>RogerDurk</td>\n",
       "      <td>2016-07-21 10:07:36</td>\n",
       "      <td>abb</td>\n",
       "      <td>there's always this, fwiw  http://www.investor...</td>\n",
       "      <td>http://www.investorvillage.com/smbd.asp?mb=251</td>\n",
       "      <td>there  s always this   fwiw http        mb</td>\n",
       "      <td>there's always this, fwiw</td>\n",
       "      <td>135</td>\n",
       "      <td>-1</td>\n",
       "      <td>0.0</td>\n",
       "    </tr>\n",
       "    <tr>\n",
       "      <th>37861</th>\n",
       "      <td>David</td>\n",
       "      <td>2016-08-10 17:13:26</td>\n",
       "      <td>abb</td>\n",
       "      <td>Revised for mat is not good!</td>\n",
       "      <td>NaN</td>\n",
       "      <td>revised for mat is not good</td>\n",
       "      <td>Revised for mat is not good!</td>\n",
       "      <td>80</td>\n",
       "      <td>-1</td>\n",
       "      <td>0.0</td>\n",
       "    </tr>\n",
       "    <tr>\n",
       "      <th>37862</th>\n",
       "      <td>elie</td>\n",
       "      <td>2016-10-13 19:19:56</td>\n",
       "      <td>abb</td>\n",
       "      <td>guys how can it be that abb  have not interest...</td>\n",
       "      <td>NaN</td>\n",
       "      <td>guy how can it be that abb have not interest e...</td>\n",
       "      <td>guys how can it be that abb  have not interest...</td>\n",
       "      <td>-1</td>\n",
       "      <td>11</td>\n",
       "      <td>0.0</td>\n",
       "    </tr>\n",
       "    <tr>\n",
       "      <th>37863</th>\n",
       "      <td>Nick_In_Message</td>\n",
       "      <td>2017-01-15 21:49:46</td>\n",
       "      <td>abb</td>\n",
       "      <td>Are Dividends of ABB reduced by 35% because of...</td>\n",
       "      <td>NaN</td>\n",
       "      <td>are dividends of abb reduced by    because of ...</td>\n",
       "      <td>Are Dividends of ABB reduced by % because of S...</td>\n",
       "      <td>-1</td>\n",
       "      <td>-1</td>\n",
       "      <td>0.0</td>\n",
       "    </tr>\n",
       "    <tr>\n",
       "      <th>37864</th>\n",
       "      <td>David N</td>\n",
       "      <td>2017-02-23 17:42:27</td>\n",
       "      <td>abb</td>\n",
       "      <td>So, an employee walks out from tha ABB Korean ...</td>\n",
       "      <td>NaN</td>\n",
       "      <td>so   an employee walk out from tha abb korean ...</td>\n",
       "      <td>So, an employee walks out from tha ABB Korean ...</td>\n",
       "      <td>-1</td>\n",
       "      <td>-1</td>\n",
       "      <td>0.0</td>\n",
       "    </tr>\n",
       "    <tr>\n",
       "      <th>...</th>\n",
       "      <td>...</td>\n",
       "      <td>...</td>\n",
       "      <td>...</td>\n",
       "      <td>...</td>\n",
       "      <td>...</td>\n",
       "      <td>...</td>\n",
       "      <td>...</td>\n",
       "      <td>...</td>\n",
       "      <td>...</td>\n",
       "      <td>...</td>\n",
       "    </tr>\n",
       "    <tr>\n",
       "      <th>38071</th>\n",
       "      <td>Oran</td>\n",
       "      <td>2020-12-10 13:39:51</td>\n",
       "      <td>abb</td>\n",
       "      <td>hope people confuse this with abnb</td>\n",
       "      <td>NaN</td>\n",
       "      <td>hope people confuse this with abnb</td>\n",
       "      <td>hope people confuse this with abnb</td>\n",
       "      <td>12</td>\n",
       "      <td>11</td>\n",
       "      <td>0.0</td>\n",
       "    </tr>\n",
       "    <tr>\n",
       "      <th>38072</th>\n",
       "      <td>Enginer</td>\n",
       "      <td>2020-12-12 04:17:27</td>\n",
       "      <td>abb</td>\n",
       "      <td>Recently saw that Volvo (w/ABB) had 145 articu...</td>\n",
       "      <td>NaN</td>\n",
       "      <td>recently saw that volvo   w abb   had  articul...</td>\n",
       "      <td>Recently saw that Volvo (w/ABB) had  articulat...</td>\n",
       "      <td>-1</td>\n",
       "      <td>47</td>\n",
       "      <td>0.0</td>\n",
       "    </tr>\n",
       "    <tr>\n",
       "      <th>38073</th>\n",
       "      <td>Anonymous</td>\n",
       "      <td>2020-12-16 11:26:10</td>\n",
       "      <td>abb</td>\n",
       "      <td>https://www.afcenergy.com/afc-energy-and-abb-p...</td>\n",
       "      <td>https://www.afcenergy.com/afc-energy-and-abb-p...</td>\n",
       "      <td>http</td>\n",
       "      <td>NaN</td>\n",
       "      <td>1</td>\n",
       "      <td>2</td>\n",
       "      <td>0.0</td>\n",
       "    </tr>\n",
       "    <tr>\n",
       "      <th>38074</th>\n",
       "      <td>Satz</td>\n",
       "      <td>2020-12-16 16:54:00</td>\n",
       "      <td>abb</td>\n",
       "      <td>Buy Afc they will boom ..abb made a contract f...</td>\n",
       "      <td>NaN</td>\n",
       "      <td>buy afc they will boom    abb made a contract ...</td>\n",
       "      <td>Buy Afc they will boom ..abb made a contract f...</td>\n",
       "      <td>-1</td>\n",
       "      <td>-1</td>\n",
       "      <td>0.0</td>\n",
       "    </tr>\n",
       "    <tr>\n",
       "      <th>38075</th>\n",
       "      <td>LadaNiva</td>\n",
       "      <td>2020-12-20 07:19:39</td>\n",
       "      <td>abb</td>\n",
       "      <td>I hope people do not confuse this with abnb!!!...</td>\n",
       "      <td>NaN</td>\n",
       "      <td>i hope people do not confuse this with abnb   ...</td>\n",
       "      <td>I hope people do not confuse this with abnb!!!...</td>\n",
       "      <td>41</td>\n",
       "      <td>32</td>\n",
       "      <td>0.0</td>\n",
       "    </tr>\n",
       "  </tbody>\n",
       "</table>\n",
       "<p>216 rows × 10 columns</p>\n",
       "</div>"
      ],
      "text/plain": [
       "            authorName            createdAt Comp  \\\n",
       "37860        RogerDurk  2016-07-21 10:07:36  abb   \n",
       "37861            David  2016-08-10 17:13:26  abb   \n",
       "37862             elie  2016-10-13 19:19:56  abb   \n",
       "37863  Nick_In_Message  2017-01-15 21:49:46  abb   \n",
       "37864          David N  2017-02-23 17:42:27  abb   \n",
       "...                ...                  ...  ...   \n",
       "38071             Oran  2020-12-10 13:39:51  abb   \n",
       "38072          Enginer  2020-12-12 04:17:27  abb   \n",
       "38073        Anonymous  2020-12-16 11:26:10  abb   \n",
       "38074             Satz  2020-12-16 16:54:00  abb   \n",
       "38075         LadaNiva  2020-12-20 07:19:39  abb   \n",
       "\n",
       "                                                 message  \\\n",
       "37860  there's always this, fwiw  http://www.investor...   \n",
       "37861                       Revised for mat is not good!   \n",
       "37862  guys how can it be that abb  have not interest...   \n",
       "37863  Are Dividends of ABB reduced by 35% because of...   \n",
       "37864  So, an employee walks out from tha ABB Korean ...   \n",
       "...                                                  ...   \n",
       "38071                 hope people confuse this with abnb   \n",
       "38072  Recently saw that Volvo (w/ABB) had 145 articu...   \n",
       "38073  https://www.afcenergy.com/afc-energy-and-abb-p...   \n",
       "38074  Buy Afc they will boom ..abb made a contract f...   \n",
       "38075  I hope people do not confuse this with abnb!!!...   \n",
       "\n",
       "                                                    URLs  \\\n",
       "37860     http://www.investorvillage.com/smbd.asp?mb=251   \n",
       "37861                                                NaN   \n",
       "37862                                                NaN   \n",
       "37863                                                NaN   \n",
       "37864                                                NaN   \n",
       "...                                                  ...   \n",
       "38071                                                NaN   \n",
       "38072                                                NaN   \n",
       "38073  https://www.afcenergy.com/afc-energy-and-abb-p...   \n",
       "38074                                                NaN   \n",
       "38075                                                NaN   \n",
       "\n",
       "                                               msg_clean  \\\n",
       "37860        there  s always this   fwiw http        mb    \n",
       "37861                      revised for mat is not good     \n",
       "37862  guy how can it be that abb have not interest e...   \n",
       "37863  are dividends of abb reduced by    because of ...   \n",
       "37864  so   an employee walk out from tha abb korean ...   \n",
       "...                                                  ...   \n",
       "38071                 hope people confuse this with abnb   \n",
       "38072  recently saw that volvo   w abb   had  articul...   \n",
       "38073                                          http        \n",
       "38074  buy afc they will boom    abb made a contract ...   \n",
       "38075  i hope people do not confuse this with abnb   ...   \n",
       "\n",
       "                                                     t2v  top_Ng  top_g  \\\n",
       "37860                        there's always this, fwiw       135     -1   \n",
       "37861                       Revised for mat is not good!      80     -1   \n",
       "37862  guys how can it be that abb  have not interest...      -1     11   \n",
       "37863  Are Dividends of ABB reduced by % because of S...      -1     -1   \n",
       "37864  So, an employee walks out from tha ABB Korean ...      -1     -1   \n",
       "...                                                  ...     ...    ...   \n",
       "38071                 hope people confuse this with abnb      12     11   \n",
       "38072  Recently saw that Volvo (w/ABB) had  articulat...      -1     47   \n",
       "38073                                                NaN       1      2   \n",
       "38074  Buy Afc they will boom ..abb made a contract f...      -1     -1   \n",
       "38075  I hope people do not confuse this with abnb!!!...      41     32   \n",
       "\n",
       "       deviation  \n",
       "37860        0.0  \n",
       "37861        0.0  \n",
       "37862        0.0  \n",
       "37863        0.0  \n",
       "37864        0.0  \n",
       "...          ...  \n",
       "38071        0.0  \n",
       "38072        0.0  \n",
       "38073        0.0  \n",
       "38074        0.0  \n",
       "38075        0.0  \n",
       "\n",
       "[216 rows x 10 columns]"
      ]
     },
     "execution_count": 136,
     "metadata": {},
     "output_type": "execute_result"
    }
   ],
   "source": [
    "full_corpus.loc[full_corpus.Comp == 'abb']"
   ]
  },
  {
   "cell_type": "code",
   "execution_count": 134,
   "metadata": {},
   "outputs": [],
   "source": [
    "def check_split(blocks, thresh):\n",
    "    block_dif = [b[1] - b[0] for b in blocks]\n",
    "    sing_bc = 0\n",
    "    for d in block_dif:\n",
    "        if d == 1:\n",
    "            sing_bc += 1\n",
    "    if (sing_bc / len(block_dif)) < thresh:\n",
    "        return True\n",
    "    return False\n",
    "\n",
    "def split_df_auto(df, thresh, precision=5):\n",
    "        wind = 1\n",
    "        while True:\n",
    "            blocks = split_df(df, wind)\n",
    "            if check_split(blocks, thresh):\n",
    "                return blocks, wind\n",
    "            wind += precision"
   ]
  },
  {
   "cell_type": "code",
   "execution_count": 135,
   "metadata": {},
   "outputs": [
    {
     "name": "stdout",
     "output_type": "stream",
     "text": [
      "134 76\n"
     ]
    }
   ],
   "source": [
    "b, s = split_df_auto(full_corpus.loc[full_corpus.Comp == 'pypl'], 0.01)\n",
    "print(len(b), s)"
   ]
  },
  {
   "cell_type": "code",
   "execution_count": 137,
   "metadata": {},
   "outputs": [
    {
     "data": {
      "text/plain": [
       "array([['2017-04-21 14:56:59', -1],\n",
       "       ['2017-08-02 09:01:54', -1],\n",
       "       ['2017-11-01 06:10:40', -1],\n",
       "       ...,\n",
       "       ['2020-12-20 22:40:10', 80],\n",
       "       ['2020-12-21 00:06:01', -1],\n",
       "       ['2020-12-21 01:26:42', 16]], dtype=object)"
      ]
     },
     "execution_count": 137,
     "metadata": {},
     "output_type": "execute_result"
    }
   ],
   "source": [
    "full_corpus[['createdAt', 'top_Ng']].values"
   ]
  },
  {
   "cell_type": "code",
   "execution_count": 26,
   "metadata": {},
   "outputs": [],
   "source": [
    "def parse_dtime(time_str):\n",
    "    parsed_dtime = time.strptime(str(time_str), '%Y-%m-%d %H:%M:%S')\n",
    "    return parsed_dtime\n",
    "\n",
    "def midpoint_times(t1, t2):\n",
    "    new1 = parse_dtime(t1); new2 = parse_dtime(t2)\n",
    "\n",
    "    mp = (time.mktime(new2) + time.mktime(new1)) / 2\n",
    "    \n",
    "    return time.strftime('%Y-%m-%d %H:%M:%S', time.localtime(mp))"
   ]
  },
  {
   "cell_type": "code",
   "execution_count": 27,
   "metadata": {},
   "outputs": [
    {
     "data": {
      "text/plain": [
       "'2018-02-04 00:35:38'"
      ]
     },
     "execution_count": 27,
     "metadata": {},
     "output_type": "execute_result"
    }
   ],
   "source": [
    "t1 = full_corpus.createdAt.iloc[2]; t2 = full_corpus.createdAt.iloc[5]\n",
    "midpoint_times(t1, t2)"
   ]
  },
  {
   "cell_type": "code",
   "execution_count": null,
   "metadata": {},
   "outputs": [],
   "source": []
  }
 ],
 "metadata": {
  "kernelspec": {
   "display_name": "Python 3",
   "language": "python",
   "name": "python3"
  },
  "language_info": {
   "codemirror_mode": {
    "name": "ipython",
    "version": 3
   },
   "file_extension": ".py",
   "mimetype": "text/x-python",
   "name": "python",
   "nbconvert_exporter": "python",
   "pygments_lexer": "ipython3",
   "version": "3.8.3"
  }
 },
 "nbformat": 4,
 "nbformat_minor": 4
}
